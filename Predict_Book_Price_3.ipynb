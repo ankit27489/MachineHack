{
 "cells": [
  {
   "cell_type": "code",
   "execution_count": 2,
   "metadata": {},
   "outputs": [],
   "source": [
    "import pandas as pd\n",
    "import numpy as np\n",
    "import matplotlib.pyplot as plt\n",
    "import seaborn as sns"
   ]
  },
  {
   "cell_type": "code",
   "execution_count": 3,
   "metadata": {},
   "outputs": [],
   "source": [
    "from sklearn.model_selection import train_test_split\n",
    "from sklearn.linear_model import LinearRegression, LogisticRegression\n",
    "from sklearn.metrics import mean_squared_error\n",
    "from math import sqrt\n",
    "import xgboost as xgb"
   ]
  },
  {
   "cell_type": "code",
   "execution_count": 4,
   "metadata": {},
   "outputs": [],
   "source": [
    "def df_set_options():\n",
    "    pd.set_option('display.max_columns', None)\n",
    "    pd.set_option('display.max_rows', None)\n",
    "\n",
    "df_set_options()"
   ]
  },
  {
   "cell_type": "code",
   "execution_count": 5,
   "metadata": {},
   "outputs": [],
   "source": [
    "def create_dumy(dframe, cols):\n",
    "    temp_df = pd.get_dummies(dframe, columns = cols)\n",
    "    return temp_df"
   ]
  },
  {
   "cell_type": "code",
   "execution_count": 6,
   "metadata": {},
   "outputs": [],
   "source": [
    "def build_lin_model(X, y):\n",
    "    lr = LinearRegression()\n",
    "    lr.fit(X, y)\n",
    "    return lr\n",
    "\n",
    "def predict_rmse(model, X, y):\n",
    "    temp_pred = model.predict(X)\n",
    "    return sqrt(mean_squared_error(y, temp_pred))\n",
    "\n",
    "def generate_prediction_excel(pred, col, filename = \"Predicted_value_file.xlsx\"):\n",
    "    pd.DataFrame(pred, columns=[col]).to_excel(filename)\n",
    "    print(\"File \"+filename+\" created\")"
   ]
  },
  {
   "cell_type": "code",
   "execution_count": 7,
   "metadata": {},
   "outputs": [],
   "source": [
    "train_df = pd.read_excel(\"G:\\MachineHack/Predict_Book_Price/Participants_Data/Data_Train.xlsx\")\n",
    "test_df = pd.read_excel(\"G:\\MachineHack/Predict_Book_Price/Participants_Data/Data_Test.xlsx\")"
   ]
  },
  {
   "cell_type": "code",
   "execution_count": 7,
   "metadata": {},
   "outputs": [
    {
     "data": {
      "text/html": [
       "<div>\n",
       "<style scoped>\n",
       "    .dataframe tbody tr th:only-of-type {\n",
       "        vertical-align: middle;\n",
       "    }\n",
       "\n",
       "    .dataframe tbody tr th {\n",
       "        vertical-align: top;\n",
       "    }\n",
       "\n",
       "    .dataframe thead th {\n",
       "        text-align: right;\n",
       "    }\n",
       "</style>\n",
       "<table border=\"1\" class=\"dataframe\">\n",
       "  <thead>\n",
       "    <tr style=\"text-align: right;\">\n",
       "      <th></th>\n",
       "      <th>Title</th>\n",
       "      <th>Author</th>\n",
       "      <th>Edition</th>\n",
       "      <th>Reviews</th>\n",
       "      <th>Ratings</th>\n",
       "      <th>Synopsis</th>\n",
       "      <th>Genre</th>\n",
       "      <th>BookCategory</th>\n",
       "    </tr>\n",
       "  </thead>\n",
       "  <tbody>\n",
       "    <tr>\n",
       "      <th>0</th>\n",
       "      <td>The Complete Sherlock Holmes: 2 Boxes sets</td>\n",
       "      <td>Sir Arthur Conan Doyle</td>\n",
       "      <td>Mass Market Paperback,- 1 Oct 1986</td>\n",
       "      <td>4.4 out of 5 stars</td>\n",
       "      <td>960 customer reviews</td>\n",
       "      <td>A collection of entire body of work of the She...</td>\n",
       "      <td>Short Stories (Books)</td>\n",
       "      <td>Crime, Thriller &amp; Mystery</td>\n",
       "    </tr>\n",
       "    <tr>\n",
       "      <th>1</th>\n",
       "      <td>Learn Docker - Fundamentals of Docker 18.x: Ev...</td>\n",
       "      <td>Gabriel N. Schenker</td>\n",
       "      <td>Paperback,- Import, 26 Apr 2018</td>\n",
       "      <td>5.0 out of 5 stars</td>\n",
       "      <td>1 customer review</td>\n",
       "      <td>Enhance your software deployment workflow usin...</td>\n",
       "      <td>Operating Systems Textbooks</td>\n",
       "      <td>Computing, Internet &amp; Digital Media</td>\n",
       "    </tr>\n",
       "    <tr>\n",
       "      <th>2</th>\n",
       "      <td>Big Girl</td>\n",
       "      <td>Danielle Steel</td>\n",
       "      <td>Paperback,- 17 Mar 2011</td>\n",
       "      <td>5.0 out of 5 stars</td>\n",
       "      <td>4 customer reviews</td>\n",
       "      <td>'Watch out, world. Here I come!'\\nFor Victoria...</td>\n",
       "      <td>Romance (Books)</td>\n",
       "      <td>Romance</td>\n",
       "    </tr>\n",
       "    <tr>\n",
       "      <th>3</th>\n",
       "      <td>Think Python: How to Think Like a Computer Sci...</td>\n",
       "      <td>Allen B. Downey</td>\n",
       "      <td>Paperback,- 2016</td>\n",
       "      <td>4.1 out of 5 stars</td>\n",
       "      <td>11 customer reviews</td>\n",
       "      <td>If you want to learn how to program, working w...</td>\n",
       "      <td>Programming &amp; Software Development (Books)</td>\n",
       "      <td>Computing, Internet &amp; Digital Media</td>\n",
       "    </tr>\n",
       "    <tr>\n",
       "      <th>4</th>\n",
       "      <td>Oxford Word Skills: Advanced - Idioms &amp; Phrasa...</td>\n",
       "      <td>Redman Gairns</td>\n",
       "      <td>Paperback,- 26 Dec 2011</td>\n",
       "      <td>4.4 out of 5 stars</td>\n",
       "      <td>9 customer reviews</td>\n",
       "      <td>Learn and practise the verbs, prepositions and...</td>\n",
       "      <td>Linguistics (Books)</td>\n",
       "      <td>Language, Linguistics &amp; Writing</td>\n",
       "    </tr>\n",
       "  </tbody>\n",
       "</table>\n",
       "</div>"
      ],
      "text/plain": [
       "                                               Title                  Author  \\\n",
       "0         The Complete Sherlock Holmes: 2 Boxes sets  Sir Arthur Conan Doyle   \n",
       "1  Learn Docker - Fundamentals of Docker 18.x: Ev...     Gabriel N. Schenker   \n",
       "2                                           Big Girl          Danielle Steel   \n",
       "3  Think Python: How to Think Like a Computer Sci...         Allen B. Downey   \n",
       "4  Oxford Word Skills: Advanced - Idioms & Phrasa...           Redman Gairns   \n",
       "\n",
       "                              Edition             Reviews  \\\n",
       "0  Mass Market Paperback,- 1 Oct 1986  4.4 out of 5 stars   \n",
       "1     Paperback,- Import, 26 Apr 2018  5.0 out of 5 stars   \n",
       "2             Paperback,- 17 Mar 2011  5.0 out of 5 stars   \n",
       "3                    Paperback,- 2016  4.1 out of 5 stars   \n",
       "4             Paperback,- 26 Dec 2011  4.4 out of 5 stars   \n",
       "\n",
       "                Ratings                                           Synopsis  \\\n",
       "0  960 customer reviews  A collection of entire body of work of the She...   \n",
       "1     1 customer review  Enhance your software deployment workflow usin...   \n",
       "2    4 customer reviews  'Watch out, world. Here I come!'\\nFor Victoria...   \n",
       "3   11 customer reviews  If you want to learn how to program, working w...   \n",
       "4    9 customer reviews  Learn and practise the verbs, prepositions and...   \n",
       "\n",
       "                                        Genre  \\\n",
       "0                       Short Stories (Books)   \n",
       "1                 Operating Systems Textbooks   \n",
       "2                             Romance (Books)   \n",
       "3  Programming & Software Development (Books)   \n",
       "4                         Linguistics (Books)   \n",
       "\n",
       "                          BookCategory  \n",
       "0            Crime, Thriller & Mystery  \n",
       "1  Computing, Internet & Digital Media  \n",
       "2                              Romance  \n",
       "3  Computing, Internet & Digital Media  \n",
       "4      Language, Linguistics & Writing  "
      ]
     },
     "execution_count": 7,
     "metadata": {},
     "output_type": "execute_result"
    }
   ],
   "source": [
    "train_df.head()\n",
    "test_df.head()"
   ]
  },
  {
   "cell_type": "code",
   "execution_count": 8,
   "metadata": {},
   "outputs": [
    {
     "data": {
      "text/plain": [
       "(1560, 8)"
      ]
     },
     "execution_count": 8,
     "metadata": {},
     "output_type": "execute_result"
    }
   ],
   "source": [
    "train_df.shape\n",
    "test_df.shape"
   ]
  },
  {
   "cell_type": "code",
   "execution_count": 14,
   "metadata": {},
   "outputs": [
    {
     "data": {
      "text/html": [
       "<div>\n",
       "<style scoped>\n",
       "    .dataframe tbody tr th:only-of-type {\n",
       "        vertical-align: middle;\n",
       "    }\n",
       "\n",
       "    .dataframe tbody tr th {\n",
       "        vertical-align: top;\n",
       "    }\n",
       "\n",
       "    .dataframe thead th {\n",
       "        text-align: right;\n",
       "    }\n",
       "</style>\n",
       "<table border=\"1\" class=\"dataframe\">\n",
       "  <thead>\n",
       "    <tr style=\"text-align: right;\">\n",
       "      <th></th>\n",
       "      <th>Price</th>\n",
       "    </tr>\n",
       "  </thead>\n",
       "  <tbody>\n",
       "    <tr>\n",
       "      <th>count</th>\n",
       "      <td>6237.000000</td>\n",
       "    </tr>\n",
       "    <tr>\n",
       "      <th>mean</th>\n",
       "      <td>560.707516</td>\n",
       "    </tr>\n",
       "    <tr>\n",
       "      <th>std</th>\n",
       "      <td>690.110657</td>\n",
       "    </tr>\n",
       "    <tr>\n",
       "      <th>min</th>\n",
       "      <td>25.000000</td>\n",
       "    </tr>\n",
       "    <tr>\n",
       "      <th>25%</th>\n",
       "      <td>249.180000</td>\n",
       "    </tr>\n",
       "    <tr>\n",
       "      <th>50%</th>\n",
       "      <td>373.000000</td>\n",
       "    </tr>\n",
       "    <tr>\n",
       "      <th>75%</th>\n",
       "      <td>599.000000</td>\n",
       "    </tr>\n",
       "    <tr>\n",
       "      <th>max</th>\n",
       "      <td>14100.000000</td>\n",
       "    </tr>\n",
       "  </tbody>\n",
       "</table>\n",
       "</div>"
      ],
      "text/plain": [
       "              Price\n",
       "count   6237.000000\n",
       "mean     560.707516\n",
       "std      690.110657\n",
       "min       25.000000\n",
       "25%      249.180000\n",
       "50%      373.000000\n",
       "75%      599.000000\n",
       "max    14100.000000"
      ]
     },
     "execution_count": 14,
     "metadata": {},
     "output_type": "execute_result"
    }
   ],
   "source": [
    "train_df.describe()"
   ]
  },
  {
   "cell_type": "code",
   "execution_count": 8,
   "metadata": {},
   "outputs": [],
   "source": [
    "test_df['Price'] = np.nan"
   ]
  },
  {
   "cell_type": "code",
   "execution_count": 9,
   "metadata": {},
   "outputs": [],
   "source": [
    "df = pd.concat([train_df, test_df], ignore_index=True)"
   ]
  },
  {
   "cell_type": "code",
   "execution_count": 17,
   "metadata": {},
   "outputs": [
    {
     "data": {
      "text/plain": [
       "(7797, 9)"
      ]
     },
     "execution_count": 17,
     "metadata": {},
     "output_type": "execute_result"
    }
   ],
   "source": [
    "df.shape"
   ]
  },
  {
   "cell_type": "code",
   "execution_count": 18,
   "metadata": {},
   "outputs": [
    {
     "data": {
      "text/html": [
       "<div>\n",
       "<style scoped>\n",
       "    .dataframe tbody tr th:only-of-type {\n",
       "        vertical-align: middle;\n",
       "    }\n",
       "\n",
       "    .dataframe tbody tr th {\n",
       "        vertical-align: top;\n",
       "    }\n",
       "\n",
       "    .dataframe thead th {\n",
       "        text-align: right;\n",
       "    }\n",
       "</style>\n",
       "<table border=\"1\" class=\"dataframe\">\n",
       "  <thead>\n",
       "    <tr style=\"text-align: right;\">\n",
       "      <th></th>\n",
       "      <th>Title</th>\n",
       "      <th>Author</th>\n",
       "      <th>Edition</th>\n",
       "      <th>Reviews</th>\n",
       "      <th>Ratings</th>\n",
       "      <th>Synopsis</th>\n",
       "      <th>Genre</th>\n",
       "      <th>BookCategory</th>\n",
       "      <th>Price</th>\n",
       "    </tr>\n",
       "  </thead>\n",
       "  <tbody>\n",
       "    <tr>\n",
       "      <th>0</th>\n",
       "      <td>The Prisoner's Gold (The Hunters 3)</td>\n",
       "      <td>Chris Kuzneski</td>\n",
       "      <td>Paperback,- 10 Mar 2016</td>\n",
       "      <td>4.0 out of 5 stars</td>\n",
       "      <td>8 customer reviews</td>\n",
       "      <td>THE HUNTERS return in their third brilliant no...</td>\n",
       "      <td>Action &amp; Adventure (Books)</td>\n",
       "      <td>Action &amp; Adventure</td>\n",
       "      <td>220.00</td>\n",
       "    </tr>\n",
       "    <tr>\n",
       "      <th>1</th>\n",
       "      <td>Guru Dutt: A Tragedy in Three Acts</td>\n",
       "      <td>Arun Khopkar</td>\n",
       "      <td>Paperback,- 7 Nov 2012</td>\n",
       "      <td>3.9 out of 5 stars</td>\n",
       "      <td>14 customer reviews</td>\n",
       "      <td>A layered portrait of a troubled genius for wh...</td>\n",
       "      <td>Cinema &amp; Broadcast (Books)</td>\n",
       "      <td>Biographies, Diaries &amp; True Accounts</td>\n",
       "      <td>202.93</td>\n",
       "    </tr>\n",
       "    <tr>\n",
       "      <th>2</th>\n",
       "      <td>Leviathan (Penguin Classics)</td>\n",
       "      <td>Thomas Hobbes</td>\n",
       "      <td>Paperback,- 25 Feb 1982</td>\n",
       "      <td>4.8 out of 5 stars</td>\n",
       "      <td>6 customer reviews</td>\n",
       "      <td>\"During the time men live without a common Pow...</td>\n",
       "      <td>International Relations</td>\n",
       "      <td>Humour</td>\n",
       "      <td>299.00</td>\n",
       "    </tr>\n",
       "    <tr>\n",
       "      <th>3</th>\n",
       "      <td>A Pocket Full of Rye (Miss Marple)</td>\n",
       "      <td>Agatha Christie</td>\n",
       "      <td>Paperback,- 5 Oct 2017</td>\n",
       "      <td>4.1 out of 5 stars</td>\n",
       "      <td>13 customer reviews</td>\n",
       "      <td>A handful of grain is found in the pocket of a...</td>\n",
       "      <td>Contemporary Fiction (Books)</td>\n",
       "      <td>Crime, Thriller &amp; Mystery</td>\n",
       "      <td>180.00</td>\n",
       "    </tr>\n",
       "    <tr>\n",
       "      <th>4</th>\n",
       "      <td>LIFE 70 Years of Extraordinary Photography</td>\n",
       "      <td>Editors of Life</td>\n",
       "      <td>Hardcover,- 10 Oct 2006</td>\n",
       "      <td>5.0 out of 5 stars</td>\n",
       "      <td>1 customer review</td>\n",
       "      <td>For seven decades, \"Life\" has been thrilling t...</td>\n",
       "      <td>Photography Textbooks</td>\n",
       "      <td>Arts, Film &amp; Photography</td>\n",
       "      <td>965.62</td>\n",
       "    </tr>\n",
       "  </tbody>\n",
       "</table>\n",
       "</div>"
      ],
      "text/plain": [
       "                                        Title           Author  \\\n",
       "0         The Prisoner's Gold (The Hunters 3)   Chris Kuzneski   \n",
       "1          Guru Dutt: A Tragedy in Three Acts     Arun Khopkar   \n",
       "2                Leviathan (Penguin Classics)    Thomas Hobbes   \n",
       "3          A Pocket Full of Rye (Miss Marple)  Agatha Christie   \n",
       "4  LIFE 70 Years of Extraordinary Photography  Editors of Life   \n",
       "\n",
       "                   Edition             Reviews              Ratings  \\\n",
       "0  Paperback,- 10 Mar 2016  4.0 out of 5 stars   8 customer reviews   \n",
       "1   Paperback,- 7 Nov 2012  3.9 out of 5 stars  14 customer reviews   \n",
       "2  Paperback,- 25 Feb 1982  4.8 out of 5 stars   6 customer reviews   \n",
       "3   Paperback,- 5 Oct 2017  4.1 out of 5 stars  13 customer reviews   \n",
       "4  Hardcover,- 10 Oct 2006  5.0 out of 5 stars    1 customer review   \n",
       "\n",
       "                                            Synopsis  \\\n",
       "0  THE HUNTERS return in their third brilliant no...   \n",
       "1  A layered portrait of a troubled genius for wh...   \n",
       "2  \"During the time men live without a common Pow...   \n",
       "3  A handful of grain is found in the pocket of a...   \n",
       "4  For seven decades, \"Life\" has been thrilling t...   \n",
       "\n",
       "                          Genre                          BookCategory   Price  \n",
       "0    Action & Adventure (Books)                    Action & Adventure  220.00  \n",
       "1    Cinema & Broadcast (Books)  Biographies, Diaries & True Accounts  202.93  \n",
       "2       International Relations                                Humour  299.00  \n",
       "3  Contemporary Fiction (Books)             Crime, Thriller & Mystery  180.00  \n",
       "4         Photography Textbooks              Arts, Film & Photography  965.62  "
      ]
     },
     "execution_count": 18,
     "metadata": {},
     "output_type": "execute_result"
    }
   ],
   "source": [
    "df.head()"
   ]
  },
  {
   "cell_type": "code",
   "execution_count": 10,
   "metadata": {},
   "outputs": [],
   "source": [
    "df1 = df"
   ]
  },
  {
   "cell_type": "code",
   "execution_count": 11,
   "metadata": {},
   "outputs": [],
   "source": [
    "# Using regex to remove substring \"customer review(s)\"\n",
    "df1[\"Ratings\"].replace(regex=True, inplace = True, to_replace = \"customer reviews\", value=\"\")\n",
    "df1[\"Ratings\"].replace(regex=True, inplace = True, to_replace = \"customer review\", value=\"\")\n",
    "df1[\"Ratings\"].replace(regex=True, inplace = True, to_replace = \",\", value=\"\")\n",
    "df[\"Ratings\"] = df1[\"Ratings\"].astype(int)"
   ]
  },
  {
   "cell_type": "code",
   "execution_count": 12,
   "metadata": {},
   "outputs": [],
   "source": [
    "# Removing \"out of 5 starts\" from Reviews\n",
    "df1[\"Reviews\"].replace(regex=True, inplace = True, \n",
    "                       to_replace = \"out of 5 stars\", value=\"\")\n",
    "\n",
    "df1[\"Reviews\"] = df1[\"Reviews\"].astype(float)"
   ]
  },
  {
   "cell_type": "code",
   "execution_count": 13,
   "metadata": {},
   "outputs": [
    {
     "data": {
      "text/html": [
       "<div>\n",
       "<style scoped>\n",
       "    .dataframe tbody tr th:only-of-type {\n",
       "        vertical-align: middle;\n",
       "    }\n",
       "\n",
       "    .dataframe tbody tr th {\n",
       "        vertical-align: top;\n",
       "    }\n",
       "\n",
       "    .dataframe thead th {\n",
       "        text-align: right;\n",
       "    }\n",
       "</style>\n",
       "<table border=\"1\" class=\"dataframe\">\n",
       "  <thead>\n",
       "    <tr style=\"text-align: right;\">\n",
       "      <th></th>\n",
       "      <th>Reviews</th>\n",
       "      <th>Ratings</th>\n",
       "      <th>Price</th>\n",
       "    </tr>\n",
       "  </thead>\n",
       "  <tbody>\n",
       "    <tr>\n",
       "      <th>count</th>\n",
       "      <td>7797.000000</td>\n",
       "      <td>7797.000000</td>\n",
       "      <td>6237.000000</td>\n",
       "    </tr>\n",
       "    <tr>\n",
       "      <th>mean</th>\n",
       "      <td>4.295845</td>\n",
       "      <td>35.520841</td>\n",
       "      <td>560.707516</td>\n",
       "    </tr>\n",
       "    <tr>\n",
       "      <th>std</th>\n",
       "      <td>0.663513</td>\n",
       "      <td>153.020897</td>\n",
       "      <td>690.110657</td>\n",
       "    </tr>\n",
       "    <tr>\n",
       "      <th>min</th>\n",
       "      <td>1.000000</td>\n",
       "      <td>1.000000</td>\n",
       "      <td>25.000000</td>\n",
       "    </tr>\n",
       "    <tr>\n",
       "      <th>25%</th>\n",
       "      <td>4.000000</td>\n",
       "      <td>2.000000</td>\n",
       "      <td>249.180000</td>\n",
       "    </tr>\n",
       "    <tr>\n",
       "      <th>50%</th>\n",
       "      <td>4.400000</td>\n",
       "      <td>6.000000</td>\n",
       "      <td>373.000000</td>\n",
       "    </tr>\n",
       "    <tr>\n",
       "      <th>75%</th>\n",
       "      <td>4.800000</td>\n",
       "      <td>21.000000</td>\n",
       "      <td>599.000000</td>\n",
       "    </tr>\n",
       "    <tr>\n",
       "      <th>max</th>\n",
       "      <td>5.000000</td>\n",
       "      <td>6090.000000</td>\n",
       "      <td>14100.000000</td>\n",
       "    </tr>\n",
       "  </tbody>\n",
       "</table>\n",
       "</div>"
      ],
      "text/plain": [
       "           Reviews      Ratings         Price\n",
       "count  7797.000000  7797.000000   6237.000000\n",
       "mean      4.295845    35.520841    560.707516\n",
       "std       0.663513   153.020897    690.110657\n",
       "min       1.000000     1.000000     25.000000\n",
       "25%       4.000000     2.000000    249.180000\n",
       "50%       4.400000     6.000000    373.000000\n",
       "75%       4.800000    21.000000    599.000000\n",
       "max       5.000000  6090.000000  14100.000000"
      ]
     },
     "execution_count": 13,
     "metadata": {},
     "output_type": "execute_result"
    }
   ],
   "source": [
    "df1.describe()"
   ]
  },
  {
   "cell_type": "code",
   "execution_count": 14,
   "metadata": {},
   "outputs": [],
   "source": [
    "df2 = df1"
   ]
  },
  {
   "cell_type": "code",
   "execution_count": 15,
   "metadata": {},
   "outputs": [],
   "source": [
    "# Extracting the covertype from \"Edition\" and creating a new column \"CoverType\"\n",
    "df2[\"CoverType\"] = df2[\"Edition\"].str.split(\",-\", expand=True)[0]"
   ]
  },
  {
   "cell_type": "code",
   "execution_count": 16,
   "metadata": {},
   "outputs": [],
   "source": [
    "df3 = df2"
   ]
  },
  {
   "cell_type": "code",
   "execution_count": 17,
   "metadata": {},
   "outputs": [
    {
     "name": "stdout",
     "output_type": "stream",
     "text": [
      "['Normal', 'Normal', 'Normal', 'Normal', 'Normal', 'Normal', 'Normal', 'Import', 'Normal', 'Normal', 'Normal', 'Import', 'Normal', 'Normal', 'Normal', 'Normal', 'Normal', 'Normal', 'Normal', 'Normal', 'Normal', 'Import', 'Normal', 'Normal', 'Normal', 'Deckle Edge', 'Normal', 'Box set', 'Normal', 'Normal', 'Normal', 'Normal', 'Normal', 'Normal', 'Normal', 'Normal', 'Normal', 'Normal', 'Normal', 'Normal', 'Normal', 'Normal', 'Normal', 'Normal', 'Normal', 'Normal', 'Normal', 'Normal', 'Normal', 'Normal', 'Import', 'Normal', 'Import', 'Normal', 'Import', 'Normal', 'Normal', 'Normal', 'Normal', 'Normal', 'Normal', 'Normal', 'Normal', 'Normal', 'Normal', 'Normal', 'Normal', 'International Edition', 'Normal', 'Normal', 'Normal', 'Normal', 'Import', 'Normal', 'Normal', 'Normal', 'Normal', 'Unabridged', 'Special Edition', 'Normal', 'Normal', 'International Edition', 'Normal', 'Normal', 'Normal', 'Normal', 'Normal', 'Import', 'Import', 'Import', 'Normal', 'Normal', 'Normal', 'Normal', 'Normal', 'Normal', 'Normal', 'Normal', 'Normal', 'Student Edition', 'Normal', 'Normal', 'Normal', 'Normal', 'Normal', 'Normal', 'Normal', 'Normal', 'Normal', 'Normal', 'Normal', 'Normal', 'Normal', 'Import', 'Normal', 'Normal', 'Import', 'Normal', 'Normal', 'Normal', 'Normal', 'Normal', 'Normal', 'Import', 'Normal', 'Normal', 'Normal', 'Normal', 'Normal', 'Normal', 'Normal', 'Normal', 'Normal', 'Illustrated', 'Normal', 'Normal', 'Normal', 'Normal', 'Normal', 'Normal', 'Normal', 'Normal', 'Normal', 'Normal', 'Normal', 'Normal', 'Normal', 'Normal', 'Normal', 'Normal', 'Normal', 'Normal', 'Normal', 'Normal', 'Import', 'Normal', 'Normal', 'Normal', 'Normal', 'Normal', 'Normal', 'Normal', 'Normal', 'Normal', 'Normal', 'Import', 'Normal', 'Normal', 'Import', 'Abridged', 'Normal', 'Normal', 'Normal', 'Normal', 'Normal', 'Normal', 'Normal', 'Normal', 'Normal', 'Normal', 'Import', 'Import', 'Normal', 'Unabridged', 'Normal', 'Normal', 'Normal', 'Normal', 'Normal', 'Normal', 'Normal', 'Normal', 'Normal', 'Normal', 'Normal', 'Normal', 'Normal', 'Normal', 'Normal', 'Normal', 'Normal', 'Normal', 'Import', 'Import', 'Import', 'Normal', 'Import', 'Normal', 'Import', 'Normal', 'Normal', 'Normal', 'Import', 'Normal', 'Normal', 'Normal', 'Normal', 'Normal', 'Normal', 'Normal', 'Normal', 'Normal', 'Normal', 'Normal', 'Normal', 'Normal', 'Normal', 'Normal', 'Normal', 'Normal', 'Illustrated', 'Normal', 'Special Edition', 'Normal', 'Normal', 'DVD', 'Normal', 'Normal', 'Normal', 'Normal', 'Normal', 'Normal', 'Normal', 'Normal', 'Normal', 'Normal', 'Normal', 'Normal', 'Normal', 'Normal', 'Normal', 'Normal', 'Normal', 'Import', 'Normal', 'Normal', 'Import', 'Normal', 'Normal', 'Normal', 'Import', 'Bargain Price', 'Normal', 'Import', 'Import', 'Import', 'Normal', 'Normal', 'Normal', 'Normal', 'Normal', 'Deckle Edge', 'Normal', 'Normal', 'Normal', 'Normal', 'Normal', 'Normal', 'Normal', 'Import', 'Normal', 'Normal', 'Normal', 'Normal', 'Normal', 'Normal', 'Normal', 'Normal', 'Normal', 'Normal', 'Normal', 'Normal', 'Normal', 'Normal', 'Normal', 'Normal', 'Normal', 'Normal', 'Normal', 'Import', 'Normal', 'Normal', 'Normal', 'Normal', 'Normal', 'Normal', 'Normal', 'Normal', 'Normal', 'Normal', 'Import', 'Normal', 'Import', 'Import', 'Normal', 'Normal', 'Normal', 'Normal', 'Normal', 'Normal', 'Normal', 'Normal', 'Normal', 'Normal', 'Normal', 'Normal', 'Normal', 'Normal', 'Normal', 'Normal', 'Normal', 'Normal', 'Import', 'Normal', 'Normal', 'Normal', 'Import', 'Normal', 'Normal', 'Import', 'Normal', 'Normal', 'Normal', 'Normal', 'Normal', 'Normal', 'Normal', 'Normal', 'Normal', 'Normal', 'Import', 'Normal', 'Normal', 'Normal', 'Normal', 'Normal', 'Normal', 'Import', 'Normal', 'Normal', 'Normal', 'Normal', 'Normal', 'Normal', 'Normal', 'Normal', 'Normal', 'Normal', 'Normal', 'Normal', 'Normal', 'Normal', 'Normal', 'Normal', 'Normal', 'Large Print', 'Import', 'Normal', 'Import', 'Normal', 'Normal', 'Normal', 'Normal', 'Normal', 'Normal', 'Normal', 'Normal', 'Normal', 'Normal', 'Normal', 'Normal', 'Normal', 'Normal', 'Normal', 'Normal', 'Normal', 'Normal', 'Normal', 'Normal', 'Student Edition', 'Normal', 'Normal', 'Normal', 'Import', 'Normal', 'Normal', 'Normal', 'Normal', 'Normal', 'Normal', 'Normal', 'Normal', 'Import', 'Normal', 'Normal', 'Normal', 'Normal', 'Normal', 'Normal', 'Normal', 'Normal', 'Normal', 'Normal', 'Normal', 'Normal', 'Normal', 'Normal', 'Normal', 'Normal', 'Normal', 'Normal', 'Normal', 'Normal', 'Normal', 'Normal', 'Normal', 'Normal', 'Normal', 'Normal', 'Normal', 'Normal', 'Normal', 'Normal', 'Normal', 'Normal', 'Normal', 'Normal', 'Normal', 'Normal', 'Import', 'Normal', 'Normal', 'Normal', 'Normal', 'Normal', 'Normal', 'Import', 'Normal', 'Normal', 'Normal', 'Normal', 'Normal', 'Normal', 'Normal', 'Normal', 'Normal', 'Normal', 'Normal', 'Normal', 'Normal', 'Normal', 'Normal', 'Normal', 'Normal', 'Normal', 'Normal', 'Normal', 'Normal', 'Normal', 'Normal', 'Normal', 'Normal', 'Normal', 'Normal', 'Normal', 'Normal', 'Normal', 'Normal', 'Normal', 'Normal', 'Normal', 'Normal', 'Normal', 'Normal', 'Normal', 'Normal', 'Normal', 'Normal', 'Normal', 'Normal', 'Normal', 'Normal', 'Import', 'Normal', 'Normal', 'Normal', 'Import', 'Normal', 'Normal', 'Normal', 'Normal', 'Normal', 'Normal', 'Import', 'Normal', 'Normal', 'Normal', 'Normal', 'Normal', 'Normal', 'Normal', 'Normal', 'Normal', 'Import', 'Normal', 'Normal', 'Normal', 'Normal', 'Normal', 'Normal', 'Normal', 'Special Edition', 'Normal', 'Normal', 'Normal', 'Normal', 'Normal', 'Normal', 'Normal', 'Import', 'Normal', 'Normal', 'Normal', 'Normal', 'Normal', 'Normal', 'Normal', 'Normal', 'Normal', 'Abridged', 'Normal', 'Normal', 'Normal', 'Normal', 'Normal', 'Normal', 'Import', 'Normal', 'Normal', 'Normal', 'Normal', 'Normal', 'Normal', 'Normal', 'Normal', 'Normal', 'Normal', 'Normal', 'Normal', 'Normal', 'Normal', 'Normal', 'Normal', 'Normal', 'Normal', 'Import', 'Normal', 'Normal', 'Normal', 'Normal', 'Normal', 'Normal', 'Illustrated', 'Normal', 'Normal', 'Normal', 'Normal', 'Normal', 'Normal', 'Normal', 'Normal', 'Normal', 'Normal', 'Normal', 'Normal', 'Normal', 'Normal', 'Normal', 'Normal', 'Normal', 'Normal', 'Normal', 'Normal', 'Import', 'Normal', 'Normal', 'Normal', 'Normal', 'Import', 'Normal', 'Normal', 'Normal', 'Import', 'Normal', 'Normal', 'Normal', 'Normal', 'Normal', 'Normal', 'Normal', 'Normal', 'Import', 'Normal', 'Import', 'Normal', 'Normal', 'Normal', 'Normal', 'Normal', 'Normal', 'Normal', 'Normal', 'Normal', 'Normal', 'Normal', 'Normal', 'Normal', 'Normal', 'Normal', 'Normal', 'Normal', 'Normal', 'Normal', 'Normal', 'Normal', 'Normal', 'Normal', 'Normal', 'Normal', 'Normal', 'Normal', 'Normal', 'Normal', 'Illustrated', 'Normal', 'Normal', 'Illustrated', 'Normal', 'Normal', 'Normal', 'Normal', 'Normal', 'Normal', 'Import', 'Normal', 'Normal', 'Normal', 'Normal', 'Normal', 'Normal', 'Import', 'Import', 'Normal', 'Normal', 'Normal', 'Normal', 'Normal', 'Import', 'Normal', 'Normal', 'Normal', 'Normal', 'Normal', 'Normal', 'Normal', 'Normal', 'Normal', 'Import', 'Normal', 'Import', 'Normal', 'Normal', 'Normal', 'Normal', 'Normal', 'Normal', 'Normal', 'Normal', 'Normal', 'Normal', 'Normal', 'Normal', 'Normal', 'Normal', 'Normal', 'Normal', 'Normal', 'Normal', 'Normal', 'Normal', 'Normal', 'Normal', 'Normal', 'Normal', 'Normal', 'Normal', 'Normal', 'Normal', 'Normal', 'Normal', 'Normal', 'Normal', 'Normal', 'Normal', 'Normal', 'Normal', 'Normal', 'Normal', 'Normal', 'Normal', 'Normal', 'Normal', 'Normal', 'Normal', 'Import', 'Normal', 'Normal', 'Normal', 'Normal', 'Normal', 'Normal', 'Normal', 'Normal', 'Normal', 'Normal', 'Normal', 'Import', 'Normal', 'Normal', 'Normal', 'Normal', 'Normal', 'Normal', 'Normal', 'Normal', 'Normal', 'Normal', 'Normal', 'Normal', 'Normal', 'Normal', 'Normal', 'Normal', 'Normal', 'Normal', 'Normal', 'Normal', 'Normal', 'Normal', 'Normal', 'Import', 'Normal', 'Normal', 'Normal', 'Normal', 'Normal', 'Normal', 'Normal', 'Normal', 'Normal', 'Normal', 'Import', 'Normal', 'Import', 'Normal', 'Normal', 'Normal', 'Normal', 'Normal', 'Normal', 'Normal', 'Normal', 'Normal', 'Import', 'Normal', 'Normal', 'Student Edition', 'Normal', 'Normal', 'Normal', 'Normal', 'Normal', 'Normal', 'Normal', 'Normal', 'Normal', 'Normal', 'Normal', 'Normal', 'Normal', 'Normal', 'Normal', 'Normal', 'Normal', 'Normal', 'Normal', 'Unabridged', 'Normal', 'Normal', 'Normal', 'Normal', 'Normal', 'Normal', 'Normal', 'Normal', 'Normal', 'Normal', 'Normal', 'Normal', 'Normal', 'Normal', 'Normal', 'Normal', 'Normal', 'Normal', 'Import', 'Normal', 'Normal', 'Normal', 'Normal', 'Normal', 'Normal', 'Normal', 'Normal', 'Normal', 'Normal', 'Normal', 'Normal', 'Normal', 'Normal', 'Normal', 'Normal', 'Normal', 'Normal', 'Normal', 'Normal', 'Special Edition', 'Normal', 'Normal', 'Normal', 'Normal', 'Normal', 'Normal', 'Normal', 'Normal', 'Normal', 'Normal', 'Normal', 'Normal', 'Normal', 'Normal', 'Normal', 'Normal', 'Normal', 'Normal', 'Normal', 'Normal', 'Normal', 'Normal', 'Import', 'Normal', 'Normal', 'Normal', 'Import', 'Normal', 'Normal', 'Import', 'Import', 'Normal', 'Normal', 'Normal', 'Import', 'Normal', 'Normal', 'Normal', 'Import', 'Normal', 'Normal', 'Normal', 'Normal', 'Normal', 'Normal', 'Normal', 'Normal', 'Normal', 'Normal', 'Normal', 'Import', 'Normal', 'Normal', 'Normal', 'Normal', 'Normal', 'Normal', 'Normal', 'Normal', 'Import', 'Normal', 'Normal', 'Normal', 'Normal', 'Normal', 'Normal', 'Import', 'Normal', 'Normal', 'Normal', 'Illustrated', 'Normal', 'Normal', 'Normal', 'Normal', 'Normal', 'Normal', 'Normal', 'Normal', 'Normal', 'Import', 'Normal', 'Normal', 'Normal', 'Normal', 'Normal', 'Normal', 'Normal', 'Normal', 'Normal', 'Import', 'Normal', 'Normal', 'Normal', 'Normal', 'Normal', 'Normal', 'Normal', 'Normal', 'Normal', 'Normal', 'Normal', 'Normal', 'Normal', 'Normal', 'Normal', 'Normal', 'Normal', 'Normal', 'Normal', 'Normal', 'Normal', 'Normal', 'Normal', 'Normal', 'Illustrated', 'Normal', 'Import', 'Normal', 'Normal', 'Normal', 'Normal', 'Import', 'Normal', 'Normal', 'Normal', 'Import', 'Normal', 'Normal', 'Normal', 'Normal', 'Normal', 'Import', 'Normal', 'Normal', 'Normal', 'Normal', 'Normal', 'Import', 'Normal', 'Normal', 'Normal', 'Normal', 'Normal', 'Normal', 'Normal', 'Normal', 'Normal', 'Normal', 'Normal', 'Audiobook', 'Normal', 'Normal', 'Normal', 'Normal', 'Normal', 'Import', 'Normal', 'Import', 'Normal', 'Normal', 'Normal', 'Normal', 'Normal', 'Normal', 'Normal', 'Normal', 'Normal', 'Normal', 'Normal', 'Normal', 'Normal', 'Normal', 'Normal', 'Normal', 'Normal', 'Normal', 'Normal', 'Normal', 'Normal', 'Normal', 'Normal', 'Import', 'Normal', 'Normal', 'Normal', 'Normal', 'Normal', 'Normal', 'Normal', 'Import', 'Normal', 'Import', 'Normal', 'Normal', 'Normal', 'Normal', 'Normal', 'Normal', 'Normal', 'Normal', 'Normal', 'Normal', 'Import', 'Normal', 'Normal', 'Import', 'Normal', 'Normal', 'Normal', 'Normal', 'Normal', 'Normal', 'Normal', 'Normal', 'Normal', 'Normal', 'Normal', 'Normal', 'Normal', 'Normal', 'Normal', 'Normal', 'Normal', 'Normal', 'Normal', 'Normal', 'Normal', 'Normal', 'Import', 'Print', 'Normal', 'Normal', 'Normal', 'Normal', 'Normal', 'Normal', 'Normal', 'Normal', 'Normal', 'Normal', 'Normal', 'Normal', 'Normal', 'Import', 'Normal', 'Normal', 'Normal', 'Normal', 'Normal', 'Normal', 'Normal', 'Normal', 'Normal', 'Normal', 'Normal', 'Normal', 'Normal', 'Import', 'Normal', 'Import', 'Normal', 'Normal', 'Normal', 'Normal', 'Normal', 'Normal', 'Normal', 'Normal', 'Normal', 'Normal', 'Normal', 'Normal', 'Normal', 'Normal', 'Import', 'Unabridged', 'Normal', 'Normal', 'Normal', 'Normal', 'Normal', 'Large Print', 'Normal', 'Import', 'Normal', 'Normal', 'Import', 'Normal', 'Normal', 'Normal', 'Normal', 'Normal', 'Normal', 'Normal', 'Normal', 'Normal', 'Normal', 'Normal', 'Normal', 'Normal', 'Normal', 'Normal', 'Normal', 'Normal', 'Normal', 'Normal', 'Normal', 'Normal', 'Normal', 'Normal', 'Normal', 'Import', 'Normal', 'Import', 'Normal', 'Normal', 'Import', 'Normal', 'Normal', 'Normal', 'Normal', 'International Edition', 'Normal', 'Normal', 'Normal', 'Normal', 'Normal', 'Normal', 'Normal', 'Normal', 'Normal', 'Normal', 'Normal', 'Normal', 'Normal', 'Normal', 'Normal', 'Normal', 'Normal', 'Import', 'Import', 'Normal', 'Normal', 'Normal', 'Normal', 'Normal', 'Normal', 'Import', 'Normal', 'Normal', 'Import', 'Normal', 'Normal', 'Normal', 'Normal', 'Normal', 'Normal', 'Normal', 'Normal', 'Normal', 'Normal', 'Normal', 'Normal', 'Normal', 'Normal', 'Normal', 'Normal', 'Normal', 'Normal', 'Normal', 'Normal', 'Normal', 'Normal', 'Normal', 'Import', 'Large Print', 'Normal', 'Normal', 'Normal', 'Normal', 'Normal', 'Normal', 'Import', 'Normal', 'Normal', 'Normal', 'Normal', 'Normal', 'Import', 'Normal', 'Normal', 'Normal', 'Normal', 'Normal', 'Normal', 'Normal', 'Import', 'Normal', 'Normal', 'Normal', 'Normal', 'Normal', 'Normal', 'Normal', 'Normal', 'Import', 'Normal', 'Normal', 'Normal', 'Normal', 'Normal', 'Import', 'Normal', 'Normal', 'Normal', 'Normal', 'Normal', 'Import', 'Normal', 'Normal', 'Import', 'Normal', 'Normal', 'Normal', 'Normal', 'Normal', 'Normal', 'Normal', 'Normal', 'Special Edition', 'Normal', 'Normal', 'Normal', 'Normal', 'Normal', 'Normal', 'Normal', 'Normal', 'Normal', 'Normal', 'Normal', 'Normal', 'Import', 'Normal', 'Import', 'Normal', 'Import', 'Normal', 'Normal', 'Normal', 'Normal', 'Normal', 'Normal', 'Normal', 'Import', 'Normal', 'Normal', 'Normal', 'Normal', 'Normal', 'Normal', 'Normal', 'Normal', 'Normal', 'Normal', 'Import', 'Normal', 'Normal', 'Normal', 'Normal', 'Normal', 'Normal', 'Normal', 'Normal', 'Import', 'Normal', 'Normal', 'Normal', 'Normal', 'Normal', 'Normal', 'Normal', 'Import', 'Normal', 'Normal', 'Import', 'Import', 'Normal', 'Normal', 'Normal', 'Normal', 'Normal', 'Normal', 'Normal', 'Import', 'Normal', 'Normal', 'Normal', 'Normal', 'Normal', 'Normal', 'Import', 'Normal', 'Normal', 'Normal', 'Normal', 'Student Edition', 'Normal', 'Normal', 'Normal', 'Illustrated', 'Normal', 'Normal', 'Normal', 'Normal', 'Normal', 'Normal', 'Normal', 'Normal', 'Normal', 'Normal', 'Normal', 'Normal', 'Normal', 'Normal', 'Normal', 'Normal', 'Normal', 'Normal', 'Import', 'Student Edition', 'Normal', 'Normal', 'Normal', 'Normal', 'Normal', 'Normal', 'Normal', 'Normal', 'Normal', 'Normal', 'Normal', 'Normal', 'Normal', 'Normal', 'Normal', 'Normal', 'Normal', 'Normal', 'Normal', 'Import', 'Normal', 'Normal', 'Normal', 'Normal', 'Normal', 'Normal', 'Normal', 'Normal', 'Normal', 'Normal', 'Normal', 'Import', 'Normal', 'Normal', 'Normal', 'Normal', 'Normal', 'Normal', 'Normal', 'Normal', 'Normal', 'Normal', 'Normal', 'Normal', 'Normal', 'Import', 'Import', 'Normal', 'Normal', 'Normal', 'Normal', 'Unabridged', 'Normal', 'Normal', 'Normal', 'Normal', 'Normal', 'Normal', 'Import', 'Normal', 'Normal', 'Normal', 'Normal', 'Normal', 'Normal', 'Import', 'Normal', 'Normal', 'Normal', 'Normal', 'Normal', 'Normal', 'Normal', 'Normal', 'Import', 'Normal', 'Normal', 'Normal', 'Import', 'Normal', 'Normal', 'Normal', 'Normal', 'Abridged', 'Normal', 'Normal', 'Normal', 'Normal', 'Import', 'Normal', 'Normal', 'Normal', 'Normal', 'Normal', 'Normal', 'Normal', 'Import', 'Import', 'Normal', 'Normal', 'Normal', 'Normal', 'Normal', 'Normal', 'International Edition', 'Normal', 'Normal', 'Normal', 'Normal', 'Normal', 'Normal', 'Normal', 'Normal', 'Import', 'Normal', 'Normal', 'Import', 'Normal', 'Normal', 'Import', 'Normal', 'Normal', 'Import', 'Normal', 'Normal', 'Normal', 'Normal', 'Normal', 'Normal', 'Normal', 'Normal', 'Normal', 'Normal', 'Normal', 'Normal', 'Import', 'Normal', 'Normal', 'Normal', 'Normal', 'Normal', 'Normal', 'Normal', 'Normal', 'Normal', 'Normal', 'Normal', 'Normal', 'Import', 'Normal', 'Normal', 'Normal', 'Normal', 'Normal', 'Normal', 'Normal', 'Normal', 'Normal', 'Normal', 'Import', 'Normal', 'Normal', 'Import', 'Normal', 'Import', 'Normal', 'Normal', 'Import', 'Normal', 'Import', 'Import', 'Normal', 'Normal', 'Import', 'Normal', 'Import', 'Normal', 'Normal', 'Large Print', 'Normal', 'Normal', 'Normal', 'Normal', 'Normal', 'Normal', 'Normal', 'Normal', 'Normal', 'Normal', 'Normal', 'Normal', 'Normal', 'Import', 'Normal', 'Normal', 'Normal', 'Normal', 'Normal', 'Normal', 'Normal', 'Normal', 'Normal', 'Normal', 'Normal', 'Normal', 'Normal', 'Normal', 'Import', 'Normal', 'Normal', 'Normal', 'Import', 'Normal', 'Normal', 'Normal', 'Abridged', 'Abridged', 'Normal', 'Normal', 'Normal', 'Import', 'Normal', 'Normal', 'Normal', 'Normal', 'Normal', 'Normal', 'Normal', 'Normal', 'Normal', 'Normal', 'Import', 'Normal', 'Normal', 'Normal', 'Normal', 'Normal', 'Normal', 'Normal', 'Normal', 'Normal', 'Normal', 'Large Print', 'Normal', 'Normal', 'Normal', 'Normal', 'Normal', 'Normal', 'Import', 'Normal', 'Normal', 'Normal', 'Normal', 'Student Edition', 'Normal', 'Normal', 'Normal', 'Import', 'Normal', 'Normal', 'Normal', 'Normal', 'Normal', 'Normal', 'Normal', 'Normal', 'Normal', 'Normal', 'Normal', 'Normal', 'Normal', 'Normal', 'Normal', 'Normal', 'Normal', 'Normal', 'Normal', 'Normal', 'Normal', 'Normal', 'Import', 'Normal', 'Normal', 'Normal', 'Normal', 'Normal', 'Import', 'Import', 'Normal', 'Normal', 'Import', 'Normal', 'Normal', 'Normal', 'Normal', 'Normal', 'Normal', 'Normal', 'Import', 'Normal', 'Normal', 'Normal', 'Normal', 'Normal', 'Normal', 'Normal', 'Normal', 'Normal', 'Normal', 'Normal', 'Normal', 'Normal', 'Normal', 'Normal', 'Normal', 'Normal', 'Normal', 'Normal', 'Import', 'International Edition', 'Normal', 'Normal', 'Normal', 'Normal', 'Normal', 'Normal', 'Normal', 'Normal', 'Import', 'Normal', 'Normal', 'Normal', 'Normal', 'Normal', 'Normal', 'Import', 'Normal', 'Normal', 'Normal', 'Normal', 'Normal', 'Normal', 'Normal', 'Normal', 'Normal', 'Normal', 'Normal', 'Normal', 'Normal', 'Normal', 'Normal', 'Normal', 'Normal', 'Normal', 'Normal', 'Import', 'Normal', 'Normal', 'Normal', 'Normal', 'Normal', 'Normal', 'Import', 'Normal', 'Normal', 'Normal', 'Normal', 'Normal', 'Illustrated', 'Normal', 'Normal', 'Normal', 'Normal', 'Normal', 'Normal', 'Normal', 'Normal', 'Normal', 'Normal', 'Abridged', 'Normal', 'Normal', 'Normal', 'Normal', 'Normal', 'Normal', 'Normal', 'Normal', 'Normal', 'Normal', 'Normal', 'Normal', 'Normal', 'Import', 'Large Print', 'Normal', 'Import', 'Normal', 'Normal', 'Normal', 'Normal', 'Normal', 'Normal', 'Normal', 'Normal', 'Normal', 'Normal', 'Normal', 'Normal', 'Normal', 'Normal', 'Normal', 'Normal', 'Normal', 'Normal', 'Import', 'Normal', 'Normal', 'Normal', 'Normal', 'Normal', 'Unabridged', 'Normal', 'Normal', 'Normal', 'Normal', 'Normal', 'Normal', 'Normal', 'Normal', 'Normal', 'Normal', 'Normal', 'Normal', 'Normal', 'Normal', 'Normal', 'Normal', 'Normal', 'Normal', 'Normal', 'Normal', 'Import', 'Import', 'Import', 'Normal', 'Abridged', 'Normal', 'Normal', 'Normal', 'Normal', 'Import', 'Normal', 'Normal', 'Normal', 'Normal', 'Normal', 'Normal', 'Normal', 'Normal', 'Normal', 'Normal', 'Normal', 'Normal', 'Normal', 'Normal', 'Normal', 'Normal', 'Normal', 'Normal', 'Normal', 'Normal', 'Normal', 'Normal', 'Normal', 'Normal', 'Normal', 'Normal', 'Normal', 'Normal', 'Normal', 'Normal', 'Normal', 'Normal', 'Normal', 'Import', 'Normal', 'Normal', 'Normal', 'Normal', 'Print', 'Import', 'Normal', 'Normal', 'Normal', 'Normal', 'Normal', 'Normal', 'Normal', 'Normal', 'Normal', 'Normal', 'Normal', 'Normal', 'Normal', 'Normal', 'Import', 'Normal', 'Normal', 'Normal', 'Normal', 'Normal', 'Normal', 'Normal', 'Normal', 'Normal', 'Normal', 'Normal', 'Normal', 'Normal', 'Import', 'Normal', 'Normal', 'Normal', 'Normal', 'Normal', 'Normal', 'Normal', 'Normal', 'Normal', 'Normal', 'Normal', 'Normal', 'Normal', 'Normal', 'Normal', 'Normal', 'Normal', 'Normal', 'Normal', 'Normal', 'Normal', 'Import', 'Normal', 'Normal', 'Normal', 'Normal', 'Normal', 'Student Edition', 'Import', 'Import', 'Normal', 'Normal', 'Normal', 'Normal', 'Normal', 'Normal', 'Normal', 'Normal', 'Normal', 'Normal', 'Import', 'Normal', 'Normal', 'Normal', 'Normal', 'Normal', 'Normal', 'Normal', 'Normal', 'Normal', 'Normal', 'Normal', 'Normal', 'Normal', 'Normal', 'Normal', 'Normal', 'Normal', 'Normal', 'Normal', 'Abridged', 'Large Print', 'Normal', 'Normal', 'Import', 'Import', 'Normal', 'Normal', 'Normal', 'Normal', 'Normal', 'Normal', 'Import', 'Normal', 'Normal', 'Normal', 'Normal', 'Normal', 'Illustrated', 'Normal', 'Import', 'Normal', 'Import', 'Normal', 'Normal', 'Normal', 'Normal', 'Normal', 'Import', 'Normal', 'Normal', 'Import', 'Normal', 'Normal', 'Normal', 'Normal', 'Box set', 'Normal', 'Normal', 'Normal', 'Normal', 'Normal', 'Normal', 'Normal', 'Normal', 'Normal', 'Normal', 'Normal', 'Normal', 'Normal', 'Normal', 'Normal', 'Normal', 'Normal', 'Normal', 'Normal', 'Normal', 'Normal', 'Normal', 'Normal', 'Normal', 'Normal', 'Normal', 'Normal', 'Normal', 'Normal', 'Normal', 'Normal', 'Normal', 'Normal', 'Normal', 'Normal', 'Normal', 'Normal', 'Normal', 'Normal', 'Import', 'Normal', 'Normal', 'Normal', 'Normal', 'Normal', 'Import', 'Special Edition', 'Normal', 'Normal', 'Normal', 'Normal', 'Normal', 'Normal', 'Normal', 'Normal', 'Student Edition', 'Normal', 'Normal', 'Normal', 'Normal', 'Normal', 'Normal', 'Normal', 'Normal', 'Normal', 'Normal', 'Normal', 'Normal', 'Normal', 'Normal', 'Normal', 'Normal', 'Normal', 'Normal', 'Normal', 'Normal', 'Normal', 'Normal', 'Import', 'Normal', 'Normal', 'Normal', 'Normal', 'Normal', 'Illustrated', 'Normal', 'Normal', 'Normal', 'Normal', 'Normal', 'Normal', 'Normal', 'Normal', 'Audiobook', 'Normal', 'Normal', 'Import', 'Normal', 'Import', 'Normal', 'Normal', 'Normal', 'Normal', 'Normal', 'Normal', 'Normal', 'Normal', 'Normal', 'Normal', 'Normal', 'Special Edition', 'Normal', 'Normal', 'Normal', 'Import', 'Normal', 'Normal', 'Normal', 'Normal', 'Normal', 'Normal', 'Normal', 'Normal', 'Normal', 'Normal', 'Normal', 'Normal', 'Normal', 'Normal', 'Normal', 'Normal', 'Normal', 'Normal', 'Normal', 'Normal', 'Normal', 'Normal', 'Illustrated', 'Normal', 'Normal', 'Normal', 'Normal', 'Normal', 'Illustrated', 'Normal', 'Normal', 'Normal', 'Normal', 'Import', 'Normal', 'Normal', 'Normal', 'Normal', 'Normal', 'Normal', 'Normal', 'Normal', 'Import', 'Normal', 'Import', 'Normal', 'Normal', 'Normal', 'Normal', 'Normal', 'Normal', 'Normal', 'Normal', 'Unabridged', 'Normal', 'Normal', 'Normal', 'Illustrated', 'Normal', 'Normal', 'Normal', 'Normal', 'Normal', 'Normal', 'Normal', 'Normal', 'Normal', 'Normal', 'Normal', 'Normal', 'Normal', 'Normal', 'Normal', 'Normal', 'Import', 'Normal', 'Normal', 'Normal', 'Normal', 'Deckle Edge', 'Normal', 'Normal', 'Normal', 'Normal', 'Facsimile', 'Normal', 'Normal', 'Normal', 'Normal', 'Normal', 'Normal', 'Normal', 'Normal', 'Normal', 'Normal', 'Normal', 'Normal', 'Import', 'Normal', 'Normal', 'Normal', 'Normal', 'Import', 'Normal', 'Normal', 'Normal', 'Abridged', 'Normal', 'Normal', 'Normal', 'Normal', 'Normal', 'Normal', 'Normal', 'Normal', 'Import', 'Normal', 'Import', 'Normal', 'Normal', 'Normal', 'Normal', 'Normal', 'Normal', 'Normal', 'Normal', 'Normal', 'Normal', 'Normal', 'Normal', 'Normal', 'Normal', 'Normal', 'Normal', 'Normal', 'Normal', 'Normal', 'Normal', 'Normal', 'Normal', 'Import', 'Normal', 'Normal', 'Normal', 'Normal', 'Normal', 'Normal', 'Normal', 'Normal', 'Normal', 'Normal', 'Normal', 'Normal', 'Import', 'Normal', 'Normal', 'Normal', 'Normal', 'Normal', 'Normal', 'Normal', 'Normal', 'Normal', 'Normal', 'Normal', 'Normal', 'Normal', 'Normal', 'Normal', 'Normal', 'Normal', 'Normal', 'Normal', 'Normal', 'Import', 'Illustrated', 'Import', 'Normal', 'Normal', 'Normal', 'Import', 'Normal', 'Normal', 'Normal', 'Import', 'Normal', 'Normal', 'Normal', 'Normal', 'Import', 'Normal', 'Normal', 'Normal', 'Normal', 'Normal', 'Normal', 'Normal', 'Import', 'Normal', 'Normal', 'Normal', 'Normal', 'Normal', 'Normal', 'Normal', 'Normal', 'Normal', 'Normal', 'Normal', 'Normal', 'Normal', 'Normal', 'Normal', 'Normal', 'Normal', 'Normal', 'Normal', 'Normal', 'Normal', 'Normal', 'Import', 'Normal', 'Import', 'Normal', 'Normal', 'Normal', 'Normal', 'Normal', 'Normal', 'Normal', 'Import', 'Normal', 'Normal', 'Normal', 'Normal', 'Normal', 'Box set', 'Normal', 'Normal', 'Normal', 'Normal', 'Normal', 'Normal', 'Normal', 'Normal', 'Normal', 'Normal', 'Normal', 'Normal', 'Normal', 'Normal', 'Normal', 'Normal', 'Normal', 'Normal', 'Import', 'Import', 'Normal', 'Normal', 'Normal', 'Normal', 'Normal', 'Normal', 'Normal', 'Normal', 'Normal', 'Normal', 'Normal', 'Normal', 'Normal', 'Normal', 'Normal', 'Normal', 'International Edition', 'Normal', 'Normal', 'Normal', 'Normal', 'Normal', 'Normal', 'Normal', 'Normal', 'Normal', 'Normal', 'Normal', 'Import', 'Normal', 'Normal', 'Normal', 'Normal', 'Normal', 'Import', 'Normal', 'Normal', 'Normal', 'Normal', 'Normal', 'Normal', 'Normal', 'Normal', 'Illustrated', 'Normal', 'Student Edition', 'Import', 'Normal', 'Import', 'Import', 'Normal', 'Normal', 'Normal', 'Normal', 'Import', 'Normal', 'Normal', 'Normal', 'Normal', 'Normal', 'Normal', 'Normal', 'Import', 'Normal', 'Normal', 'Import', 'Normal', 'Normal', 'Normal', 'Import', 'Normal', 'Normal', 'Normal', 'Normal', 'Normal', 'Normal', 'Normal', 'Normal', 'Import', 'Normal', 'Import', 'Normal', 'Normal', 'Import', 'Normal', 'Normal', 'Special Edition', 'Normal', 'Normal', 'Normal', 'Normal', 'Normal', 'Import', 'Normal', 'Normal', 'Normal', 'Normal', 'Normal', 'Normal', 'Import', 'Normal', 'Normal', 'Normal', 'Import', 'Import', 'Normal', 'Normal', 'Import', 'Normal', 'Normal', 'Normal', 'Normal', 'Normal', 'Normal', 'Normal', 'Normal', 'Import', 'Normal', 'Normal', 'Normal', 'Normal', 'Import', 'Import', 'Normal', 'Normal', 'Normal', 'Normal', 'Normal', 'Normal', 'Normal', 'Normal', 'Normal', 'Normal', 'Normal', 'Normal', 'Normal', 'Normal', 'Normal', 'Normal', 'Normal', 'Normal', 'Normal', 'Normal', 'Normal', 'Illustrated', 'Normal', 'Import', 'Normal', 'Normal', 'Normal', 'Normal', 'Normal', 'Normal', 'Normal', 'Illustrated', 'Normal', 'Normal', 'Normal', 'Normal', 'Normal', 'Normal', 'Normal', 'Normal', 'Normal', 'Normal', 'Special Edition', 'Normal', 'Normal', 'Normal', 'Normal', 'Normal', 'Normal', 'Normal', 'Normal', 'Normal', 'Normal', 'Normal', 'Normal', 'Normal', 'Normal', 'Normal', 'Normal', 'Normal', 'Normal', 'Normal', 'Normal', 'Normal', 'Normal', 'Normal', 'Normal', 'Normal', 'Normal', 'Normal', 'Normal', 'Normal', 'Normal', 'Import', 'Normal', 'Normal', 'Normal', 'Normal', 'Normal', 'Normal', 'Normal', 'Normal', 'Normal', 'Normal', 'Normal', 'Normal', 'Normal', 'Normal', 'Normal', 'Normal', 'Normal', 'Normal', 'Normal', 'Normal', 'Normal', 'Normal', 'Normal', 'Normal', 'Normal', 'Normal', 'Normal', 'Normal', 'Normal', 'Normal', 'Normal', 'Normal', 'Normal', 'Normal', 'Normal', 'Normal', 'Normal', 'Normal', 'Normal', 'Normal', 'Normal', 'Import', 'Normal', 'Normal', 'Normal', 'Normal', 'Normal', 'Normal', 'Normal', 'Normal', 'Normal', 'Import', 'Normal', 'Normal', 'Normal', 'Import', 'Normal', 'Normal', 'Normal', 'Normal', 'Normal', 'Normal', 'Normal', 'Normal', 'Normal', 'Normal', 'Normal', 'Normal', 'Normal', 'Normal', 'Import', 'Special Edition', 'Normal', 'Normal', 'Normal', 'Normal', 'Import', 'Normal', 'Normal', 'Normal', 'Normal', 'Normal', 'Normal', 'Abridged', 'Normal', 'Normal', 'Normal', 'Normal', 'Normal', 'Normal', 'Normal', 'Normal', 'Normal', 'Normal', 'Normal', 'Normal', 'Normal', 'Import', 'Normal', 'Normal', 'Normal', 'Normal', 'Import', 'Import', 'Normal', 'Normal', 'Normal', 'Normal', 'Import', 'Normal', 'Normal', 'Normal', 'Normal', 'Normal', 'Normal', 'Import', 'Normal', 'Normal', 'Import', 'Normal', 'Normal', 'Normal', 'Normal', 'Normal', 'Normal', 'Normal', 'Normal', 'Normal', 'Normal', 'Normal', 'Normal', 'Normal', 'Deluxe Edition', 'Import', 'Normal', 'Normal', 'Normal', 'Import', 'Import', 'Normal', 'Student Edition', 'Normal', 'Normal', 'Normal', 'Normal', 'Normal', 'Normal', 'Normal', 'Import', 'Normal', 'Normal', 'Import', 'Normal', 'Normal', 'Normal', 'Normal', 'Normal', 'Normal', 'Normal', 'Normal', 'Normal', 'Normal', 'Normal', 'Normal', 'Normal', 'Normal', 'Normal', 'Normal', 'Normal', 'Normal', 'Normal', 'Normal', 'Normal', 'Normal', 'Normal', 'Normal', 'Normal', 'Normal', 'Illustrated', 'Normal', 'Normal', 'Normal', 'Normal', 'Normal', 'Normal', 'Normal', 'Normal', 'Normal', 'Normal', 'Import', 'Normal', 'Normal', 'Normal', 'Normal', 'Import', 'Normal', 'Normal', 'Normal', 'Import', 'Normal', 'Normal', 'Normal', 'Illustrated', 'Normal', 'Normal', 'Normal', 'Import', 'Normal', 'Normal', 'Normal', 'Normal', 'Illustrated', 'Normal', 'Normal', 'Normal', 'International Edition', 'Normal', 'Import', 'Normal', 'Normal', 'Normal', 'Normal', 'Normal', 'Normal', 'Normal', 'Import', 'Normal', 'Normal', 'Normal', 'Normal', 'Normal', 'Normal', 'Normal', 'Import', 'Normal', 'Normal', 'Normal', 'Normal', 'Import', 'Normal', 'Normal', 'Normal', 'Import', 'Normal', 'Import', 'Normal', 'Normal', 'Normal', 'Normal', 'Normal', 'Normal', 'Normal', 'Normal', 'Normal', 'Normal', 'Normal', 'Normal', 'Normal', 'Normal', 'Normal', 'Normal', 'Normal', 'Normal', 'Normal', 'Normal', 'Normal', 'Normal', 'Import', 'Normal', 'Normal', 'Normal', 'Normal', 'Normal', 'Import', 'Normal', 'Illustrated', 'Normal', 'Normal', 'Normal', 'Normal', 'Normal', 'Normal', 'Normal', 'Normal', 'Import', 'Normal', 'Normal', 'Normal', 'Normal', 'Normal', 'Normal', 'Normal', 'Normal', 'Normal', 'Normal', 'Normal', 'Normal', 'Normal', 'Normal', 'Normal', 'Normal', 'Normal', 'Normal', 'Normal', 'Normal', 'Normal', 'Normal', 'Normal', 'Normal', 'Normal', 'Normal', 'Normal', 'Normal', 'Normal', 'Normal', 'Normal', 'Normal', 'Normal', 'Normal', 'Normal', 'Normal', 'Normal', 'Import', 'Normal', 'Normal', 'Normal', 'Normal', 'Normal', 'Deckle Edge', 'Import', 'Normal', 'Normal', 'Import', 'Normal', 'Normal', 'Normal', 'Normal', 'Normal', 'Normal', 'Normal', 'Normal', 'Normal', 'Normal', 'Normal', 'Normal', 'Normal', 'Normal', 'Normal', 'Normal', 'Normal', 'Normal', 'Normal', 'Normal', 'Normal', 'Normal', 'Normal', 'Normal', 'Import', 'Import', 'Normal', 'Normal', 'Normal', 'Normal', 'Import', 'Normal', 'Normal', 'Normal', 'Normal', 'Import', 'Normal', 'Import', 'Normal', 'Normal', 'Normal', 'Normal', 'Normal', 'Normal', 'Normal', 'Normal', 'Normal', 'Import', 'Normal', 'Normal', 'Normal', 'Normal', 'Normal', 'Import', 'Normal', 'Normal', 'Normal', 'Normal', 'Normal', 'Normal', 'Import', 'Normal', 'Normal', 'Normal', 'Normal', 'Normal', 'Normal', 'Normal', 'Normal', 'Normal', 'Normal', 'Normal', 'Normal', 'Normal', 'Import', 'Normal', 'Normal', 'Normal', 'Student Edition', 'Normal', 'Normal', 'Normal', 'Normal', 'Normal', 'Normal', 'Normal', 'Normal', 'Normal', 'Normal', 'Normal', 'Normal', 'Normal', 'Normal', 'Normal', 'Normal', 'Normal', 'Import', 'Import', 'Normal', 'Normal', 'Normal', 'Import', 'Import', 'Normal', 'Unabridged', 'Abridged', 'Normal', 'Normal', 'Normal', 'Import', 'Import', 'Normal', 'Normal', 'Normal', 'Import', 'Normal', 'Normal', 'Import', 'Import', 'Import', 'Normal', 'Normal', 'Import', 'Normal', 'Normal', 'Normal', 'Normal', 'Normal', 'Normal', 'Normal', 'Normal', 'Normal', 'Illustrated', 'Normal', 'Normal', 'Normal', 'Normal', 'Normal', 'Normal', 'Import', 'Normal', 'Normal', 'Normal', 'Import', 'Normal', 'Normal', 'Normal', 'Normal', 'Normal', 'Normal', 'Normal', 'Normal', 'Normal', 'Normal', 'Normal', 'Normal', 'Normal', 'Normal', 'Normal', 'Normal', 'Special Edition', 'Normal', 'Normal', 'Normal', 'Import', 'Normal', 'Normal', 'Normal', 'Normal', 'Normal', 'Normal', 'Normal', 'Normal', 'Import', 'Normal', 'Normal', 'Import', 'Normal', 'Normal', 'Normal', 'Normal', 'Normal', 'Normal', 'Normal', 'Normal', 'Normal', 'Normal', 'Normal', 'Normal', 'Normal', 'Normal', 'Import', 'Import', 'Normal', 'Normal', 'Normal', 'Normal', 'Normal', 'Normal', 'Normal', 'Normal', 'Normal', 'Normal', 'Normal', 'Normal', 'Normal', 'Normal', 'Normal', 'Normal', 'Normal', 'Normal', 'Normal', 'Normal', 'Normal', 'Normal', 'Normal', 'Normal', 'Normal', 'Normal', 'Import', 'Normal', 'Normal', 'Normal', 'Normal', 'Normal', 'Normal', 'Import', 'Normal', 'Normal', 'Normal', 'Normal', 'Import', 'Normal', 'Normal', 'Normal', 'Student Edition', 'Normal', 'Normal', 'Normal', 'International Edition', 'Normal', 'Normal', 'Normal', 'Normal', 'Normal', 'Normal', 'Normal', 'Normal', 'Import', 'Normal', 'Normal', 'Normal', 'Normal', 'Normal', 'Normal', 'Import', 'Normal', 'Normal', 'Normal', 'Import', 'Normal', 'Normal', 'Illustrated', 'Normal', 'Normal', 'Normal', 'Normal', 'Normal', 'Normal', 'Normal', 'Normal', 'Normal', 'Normal', 'Import', 'Normal', 'Normal', 'Import', 'Normal', 'Normal', 'Normal', 'Normal', 'Normal', 'Normal', 'Import', 'Import', 'Import', 'Normal', 'Normal', 'Normal', 'Normal', 'Import', 'Normal', 'Normal', 'Normal', 'Import', 'Normal', 'Normal', 'Normal', 'Normal', 'Normal', 'Normal', 'Normal', 'Normal', 'Normal', 'Normal', 'Normal', 'Normal', 'Normal', 'Normal', 'Normal', 'Normal', 'Normal', 'Normal', 'Normal', 'Import', 'Normal', 'Normal', 'Normal', 'Normal', 'Normal', 'Normal', 'Illustrated', 'Normal', 'Unabridged', 'Normal', 'Normal', 'Normal', 'Normal', 'Normal', 'Normal', 'Normal', 'Import', 'Normal', 'Normal', 'Import', 'Import', 'Normal', 'Normal', 'Normal', 'Normal', 'Import', 'Normal', 'Normal', 'Normal', 'Normal', 'Normal', 'Normal', 'Normal', 'Import', 'Normal', 'Normal', 'Normal', 'Normal', 'Normal', 'Normal', 'Normal', 'Normal', 'Normal', 'Normal', 'Normal', 'Normal', 'Normal', 'Normal', 'Normal', 'Normal', 'Normal', 'Normal', 'Normal', 'Normal', 'Normal', 'Normal', 'Normal', 'Normal', 'Normal', 'Import', 'Normal', 'Import', 'Normal', 'Normal', 'Normal', 'Normal', 'Normal', 'Illustrated', 'Normal', 'Normal', 'Normal', 'Normal', 'Illustrated', 'Normal', 'Normal', 'Normal', 'Normal', 'Normal', 'Normal', 'Import', 'Normal', 'Import', 'Normal', 'Normal', 'Normal', 'Normal', 'Normal', 'Normal', 'Normal', 'Normal', 'Normal', 'Kindle eBook', 'Normal', 'Normal', 'Normal', 'Import', 'Normal', 'Normal', 'Normal', 'Import', 'Normal', 'Normal', 'Normal', 'Normal', 'Normal', 'Normal', 'Normal', 'Normal', 'Normal', 'Normal', 'Deckle Edge', 'Import', 'Normal', 'Normal', 'Normal', 'Normal', 'Normal', 'Normal', 'Normal', 'Import', 'Normal', 'Normal', 'Normal', 'Normal', 'Normal', 'Normal', 'Normal', 'Normal', 'Normal', 'Normal', 'Import', 'Normal', 'Normal', 'Normal', 'Import', 'Normal', 'Normal', 'Normal', 'Normal', 'Normal', 'Normal', 'Normal', 'Normal', 'Normal', 'Normal', 'Normal', 'Normal', 'Normal', 'Normal', 'Normal', 'Normal', 'Normal', 'Normal', 'Normal', 'Normal', 'Normal', 'Normal', 'Normal', 'Normal', 'Normal', 'Normal', 'Normal', 'Normal', 'Normal', 'Normal', 'Normal', 'Normal', 'Normal', 'Normal', 'Normal', 'Normal', 'Normal', 'Normal', 'Normal', 'Normal', 'Normal', 'Import', 'Normal', 'Import', 'Normal', 'Import', 'Normal', 'Import', 'Normal', 'Normal', 'Normal', 'Normal', 'Normal', 'Normal', 'Normal', 'Normal', 'Normal', 'Normal', 'Normal', 'Normal', 'Normal', 'Normal', 'Import', 'Normal', 'Normal', 'Normal', 'Normal', 'Normal', 'Normal', 'Normal', 'Normal', 'Normal', 'Normal', 'Normal', 'Normal', 'Normal', 'Normal', 'Normal', 'Normal', 'Normal', 'Normal', 'Normal', 'Normal', 'Normal', 'Normal', 'Normal', 'Normal', 'Normal', 'Normal', 'Normal', 'Normal', 'Normal', 'Normal', 'Normal', 'Normal', 'Normal', 'Normal', 'Normal', 'Normal', 'Normal', 'Normal', 'Normal', 'Normal', 'Normal', 'Normal', 'Normal', 'Import', 'Normal', 'Normal', 'Normal', 'Normal', 'Normal', 'Normal', 'Normal', 'Normal', 'Normal', 'Normal', 'Normal', 'Normal', 'Normal', 'Normal', 'Import', 'Normal', 'Import', 'Import', 'Normal', 'Normal', 'Normal', 'Normal', 'Normal', 'Normal', 'Normal', 'Normal', 'Normal', 'Normal', 'Normal', 'Normal', 'Normal', 'Normal', 'Normal', 'Normal', 'Normal', 'Normal', 'Normal', 'Normal', 'Import', 'Normal', 'Import', 'Normal', 'Normal', 'Normal', 'Abridged', 'Normal', 'Normal', 'Normal', 'Normal', 'Normal', 'Normal', 'Normal', 'Import', 'Normal', 'Normal', 'Normal', 'Normal', 'Normal', 'Normal', 'Import', 'Normal', 'Normal', 'Normal', 'Normal', 'Normal', 'Normal', 'Normal', 'Normal', 'Normal', 'Normal', 'Normal', 'Normal', 'Normal', 'Normal', 'Normal', 'Normal', 'Normal', 'Normal', 'Normal', 'Normal', 'Illustrated', 'Import', 'Normal', 'Normal', 'Normal', 'Normal', 'Normal', 'Normal', 'Normal', 'Normal', 'Import', 'Normal', 'Normal', 'Normal', 'Normal', 'Normal', 'Normal', 'Normal', 'Normal', 'Normal', 'Normal', 'Normal', 'Normal', 'Import', 'Normal', 'Normal', 'Normal', 'Normal', 'Normal', 'Normal', 'Normal', 'Normal', 'Normal', 'Normal', 'Normal', 'Normal', 'Import', 'Normal', 'Normal', 'Normal', 'Import', 'Normal', 'Normal', 'Import', 'Normal', 'Normal', 'Normal', 'Normal', 'Normal', 'Normal', 'Normal', 'Normal', 'Normal', 'Normal', 'Normal', 'Normal', 'Normal', 'Normal', 'Normal', 'Normal', 'Normal', 'Normal', 'Normal', 'Normal', 'Normal', 'Normal', 'Normal', 'Normal', 'Normal', 'Normal', 'Normal', 'Import', 'Normal', 'Normal', 'Normal', 'Normal', 'Normal', 'Normal', 'Import', 'Import', 'Normal', 'Normal', 'Normal', 'Normal', 'Normal', 'Normal', 'Normal', 'Import', 'Normal', 'Normal', 'Normal', 'Normal', 'Normal', 'Normal', 'Normal', 'Normal', 'Normal', 'Normal', 'Normal', 'Normal', 'Normal', 'Normal', 'Normal', 'Normal', 'Import', 'Normal', 'Import', 'Normal', 'Box set', 'Import', 'Normal', 'Normal', 'Normal', 'Normal', 'Import', 'Normal', 'Normal', 'Normal', 'Normal', 'Unabridged', 'Normal', 'Normal', 'Import', 'Normal', 'Normal', 'Normal', 'Normal', 'Normal', 'Normal', 'Normal', 'Normal', 'Normal', 'Normal', 'Normal', 'Normal', 'Unabridged', 'Normal', 'Normal', 'Import', 'Normal', 'Normal', 'Normal', 'Normal', 'Normal', 'Normal', 'Normal', 'Normal', 'Normal', 'Normal', 'Normal', 'Illustrated', 'Normal', 'Normal', 'International Edition', 'Import', 'Import', 'Normal', 'Import', 'Normal', 'Normal', 'Illustrated', 'Normal', 'Print', 'Normal', 'Normal', 'Normal', 'Normal', 'Import', 'Illustrated', 'Normal', 'Normal', 'Normal', 'Normal', 'Normal', 'Normal', 'Normal', 'Normal', 'Normal', 'Normal', 'Normal', 'Normal', 'Normal', 'Normal', 'Normal', 'Normal', 'Normal', 'Normal', 'Normal', 'Normal', 'Normal', 'Normal', 'Normal', 'Normal', 'Normal', 'Normal', 'Normal', 'Normal', 'Normal', 'Normal', 'Normal', 'Normal', 'Normal', 'Normal', 'Normal', 'Normal', 'Normal', 'Normal', 'Normal', 'Normal', 'Normal', 'Import', 'Normal', 'Normal', 'Import', 'Normal', 'Normal', 'Normal', 'Normal', 'Import', 'Import', 'Normal', 'Normal', 'Import', 'Normal', 'Normal', 'Import', 'Import', 'Normal', 'Normal', 'Normal', 'Import', 'Normal', 'Normal', 'Normal', 'Normal', 'Normal', 'Normal', 'Normal', 'Normal', 'Normal', 'Normal', 'Normal', 'Normal', 'Normal', 'Normal', 'Import', 'Normal', 'Normal', 'Normal', 'Import', 'Normal', 'Normal', 'Normal', 'Normal', 'Normal', 'Import', 'Normal', 'Normal', 'Normal', 'Normal', 'Normal', 'Normal', 'Normal', 'Normal', 'Normal', 'Normal', 'Normal', 'Normal', 'Normal', 'Normal', 'Normal', 'Import', 'Normal', 'Normal', 'Normal', 'Normal', 'Normal', 'Normal', 'Special Edition', 'Normal', 'Normal', 'Normal', 'Normal', 'Normal', 'Normal', 'Normal', 'Normal', 'Normal', 'Import', 'Import', 'Normal', 'Normal', 'Normal', 'Normal', 'Normal', 'Normal', 'Normal', 'Normal', 'Normal', 'Normal', 'Normal', 'Normal', 'Normal', 'Normal', 'Normal', 'Normal', 'Normal', 'Normal', 'Normal', 'Normal', 'Import', 'Normal', 'Normal', 'Normal', 'Import', 'Normal', 'Normal', 'Normal', 'Normal', 'Student Edition', 'Special Edition', 'Normal', 'Normal', 'Import', 'Normal', 'Normal', 'Normal', 'Normal', 'Facsimile', 'Normal', 'Normal', 'Normal', 'Normal', 'Normal', 'Normal', 'Normal', 'Normal', 'Normal', 'Import', 'Normal', 'Normal', 'Normal', 'Normal', 'Normal', 'Normal', 'Normal', 'Normal', 'Normal', 'Normal', 'Normal', 'Normal', 'Normal', 'Normal', 'Normal', 'Import', 'Normal', 'Normal', 'Normal', 'Normal', 'Normal', 'Normal', 'Normal', 'Normal', 'Normal', 'Normal', 'Normal', 'Normal', 'Import', 'Import', 'Normal', 'Normal', 'Normal', 'Import', 'Normal', 'Normal', 'Normal', 'Normal', 'Normal', 'Normal', 'Import', 'Normal', 'Normal', 'Normal', 'Normal', 'Normal', 'Normal', 'Normal', 'Normal', 'Normal', 'Normal', 'Normal', 'Normal', 'Normal', 'Normal', 'Import', 'Normal', 'Normal', 'Normal', 'Normal', 'Normal', 'Normal', 'Normal', 'Normal', 'Import', 'Normal', 'Normal', 'Normal', 'Normal', 'Normal', 'Normal', 'Import', 'Normal', 'Normal', 'Illustrated', 'Normal', 'Normal', 'Normal', 'Normal', 'Normal', 'Import', 'Normal', 'Normal', 'Normal', 'Normal', 'Normal', 'Normal', 'Normal', 'Normal', 'Normal', 'Normal', 'Import', 'Normal', 'Normal', 'Normal', 'Normal', 'Normal', 'Normal', 'Normal', 'Normal', 'Normal', 'Normal', 'Normal', 'Normal', 'Normal', 'Normal', 'Normal', 'Normal', 'Normal', 'Normal', 'Normal', 'Normal', 'Import', 'Normal', 'Normal', 'Normal', 'Normal', 'Normal', 'Import', 'Normal', 'Normal', 'Normal', 'Illustrated', 'Import', 'Normal', 'Normal', 'Import', 'Normal', 'Import', 'Normal', 'Normal', 'Normal', 'Normal', 'Import', 'Normal', 'Normal', 'Normal', 'Normal', 'Normal', 'Normal', 'Normal', 'Normal', 'Import', 'Normal', 'Normal', 'Normal', 'Import', 'Normal', 'Normal', 'Normal', 'Illustrated', 'Normal', 'Normal', 'Normal', 'Normal', 'Normal', 'Normal', 'Normal', 'Normal', 'Normal', 'Normal', 'Normal', 'Normal', 'Normal', 'Normal', 'Normal', 'Normal', 'Normal', 'Normal', 'Normal', 'Normal', 'Special Edition', 'Normal', 'Normal', 'Normal', 'Normal', 'Normal', 'Normal', 'Normal', 'Normal', 'Normal', 'Normal', 'Normal', 'Normal', 'Normal', 'Normal', 'Import', 'Normal', 'Normal', 'Normal', 'Normal', 'Normal', 'Normal', 'Normal', 'Normal', 'Normal', 'Normal', 'Normal', 'Normal', 'Normal', 'Normal', 'Normal', 'Normal', 'Normal', 'Normal', 'Normal', 'Normal', 'Normal', 'Normal', 'Normal', 'Normal', 'Import', 'Import', 'Normal', 'Normal', 'Import', 'Normal', 'Normal', 'Normal', 'Normal', 'Normal', 'Normal', 'Normal', 'Normal', 'Normal', 'Normal', 'Normal', 'Normal', 'Normal', 'Import', 'Normal', 'Import', 'Normal', 'Normal', 'Normal', 'Normal', 'Normal', 'Normal', 'Import', 'Normal', 'Normal', 'Normal', 'Normal', 'Normal', 'Normal', 'Normal', 'Normal', 'Normal', 'Import', 'Normal', 'Normal', 'Normal', 'Normal', 'Normal', 'Normal', 'Normal', 'Normal', 'Normal', 'Normal', 'Normal', 'Normal', 'Import', 'Normal', 'Import', 'Normal', 'Normal', 'Normal', 'Normal', 'Normal', 'Normal', 'Normal', 'Normal', 'Normal', 'Normal', 'Normal', 'Normal', 'Normal', 'Normal', 'Normal', 'Normal', 'Normal', 'Import', 'Normal', 'Normal', 'Normal', 'Normal', 'Normal', 'Normal', 'Normal', 'Import', 'Normal', 'Normal', 'Normal', 'Normal', 'Normal', 'Normal', 'Normal', 'Normal', 'Normal', 'Normal', 'Normal', 'Import', 'Normal', 'Normal', 'Import', 'Normal', 'Normal', 'Normal', 'Normal', 'Import', 'Normal', 'Normal', 'Normal', 'Normal', 'Normal', 'Normal', 'Normal', 'Import', 'Normal', 'Normal', 'Normal', 'Normal', 'Import', 'Normal', 'Normal', 'Normal', 'Normal', 'Normal', 'Normal', 'Import', 'Normal', 'Normal', 'Normal', 'Normal', 'Normal', 'Normal', 'Normal', 'Normal', 'Normal', 'Normal', 'Normal', 'Normal', 'Normal', 'Normal', 'Normal', 'Normal', 'Normal', 'Normal', 'Normal', 'Normal', 'Normal', 'Normal', 'Normal', 'Illustrated', 'Normal', 'Normal', 'Normal', 'Normal', 'Normal', 'Normal', 'Normal', 'Normal', 'Normal', 'Normal', 'Normal', 'Import', 'Normal', 'Normal', 'Normal', 'Normal', 'Normal', 'Normal', 'Import', 'Normal', 'Normal', 'Normal', 'Import', 'Normal', 'Normal', 'Import', 'Normal', 'Normal', 'Normal', 'Normal', 'Normal', 'Normal', 'Normal', 'Import', 'Normal', 'Normal', 'Normal', 'Normal', 'Normal', 'Normal', 'Normal', 'Normal', 'Normal', 'Normal', 'Normal', 'Normal', 'Normal', 'Normal', 'Normal', 'Normal', 'Normal', 'Normal', 'Normal', 'Normal', 'Normal', 'Import', 'Normal', 'Normal', 'Normal', 'Normal', 'Normal', 'Import', 'Normal', 'Normal', 'Normal', 'Normal', 'Normal', 'Normal', 'Import', 'Normal', 'Normal', 'Normal', 'Normal', 'Normal', 'Normal', 'Normal', 'Normal', 'Normal', 'Normal', 'Normal', 'Normal', 'Normal', 'Normal', 'Normal', 'Normal', 'Normal', 'Normal', 'Import', 'Normal', 'Normal', 'Normal', 'Normal', 'Normal', 'Normal', 'Normal', 'Normal', 'Normal', 'Normal', 'Normal', 'Import', 'Normal', 'Import', 'Import', 'Normal', 'Normal', 'Normal', 'Import', 'Normal', 'Import', 'Normal', 'Normal', 'Normal', 'Import', 'Normal', 'Normal', 'Normal', 'Normal', 'Normal', 'Normal', 'Normal', 'Import', 'Normal', 'Normal', 'Normal', 'Normal', 'Normal', 'Import', 'Normal', 'Normal', 'Normal', 'Normal', 'Normal', 'Normal', 'Normal', 'Import', 'Normal', 'Normal', 'Normal', 'Normal', 'Normal', 'Normal', 'Normal', 'Normal', 'Normal', 'Normal', 'Normal', 'Normal', 'Normal', 'Normal', 'Import', 'Normal', 'Normal', 'Normal', 'Normal', 'Import', 'Import', 'Normal', 'Normal', 'Normal', 'Normal', 'Normal', 'Normal', 'Normal', 'Illustrated', 'Normal', 'Normal', 'Normal', 'Normal', 'Normal', 'Normal', 'Normal', 'Normal', 'Normal', 'Normal', 'Normal', 'Normal', 'Import', 'Normal', 'Normal', 'Normal', 'Normal', 'Normal', 'Normal', 'Normal', 'Normal', 'Normal', 'Normal', 'Normal', 'Normal', 'Import', 'Normal', 'Normal', 'Normal', 'Normal', 'Normal', 'Normal', 'Audiobook', 'Normal', 'Normal', 'Normal', 'Normal', 'Normal', 'Normal', 'Normal', 'Normal', 'Normal', 'Normal', 'Normal', 'Normal', 'Box set', 'Normal', 'Normal', 'Normal', 'Normal', 'Normal', 'Normal', 'Normal', 'Normal', 'Normal', 'Normal', 'Import', 'Normal', 'Illustrated', 'Normal', 'Normal', 'Normal', 'Normal', 'Normal', 'Normal', 'Import', 'Import', 'Normal', 'Normal', 'Normal', 'Normal', 'Normal', 'Normal', 'Normal', 'Import', 'Normal', 'Normal', 'Normal', 'Normal', 'Normal', 'Normal', 'Normal', 'Normal', 'Import', 'Normal', 'Import', 'Normal', 'Normal', 'Normal', 'Normal', 'Normal', 'Normal', 'Normal', 'Normal', 'Import', 'Normal', 'Normal', 'Normal', 'Normal', 'Normal', 'Normal', 'Normal', 'Normal', 'Normal', 'Normal', 'Normal', 'Normal', 'Normal', 'Normal', 'Normal', 'Normal', 'Normal', 'Import', 'Normal', 'Normal', 'Import', 'Normal', 'Normal', 'Normal', 'Normal', 'Normal', 'Normal', 'Normal', 'Normal', 'Normal', 'Normal', 'Normal', 'Normal', 'Normal', 'Normal', 'Normal', 'Normal', 'Normal', 'Normal', 'Normal', 'Normal', 'Normal', 'Normal', 'Normal', 'Import', 'Import', 'Normal', 'Normal', 'Import', 'Normal', 'Normal', 'Normal', 'Normal', 'Normal', 'Normal', 'Normal', 'Import', 'Normal', 'Normal', 'Normal', 'Normal', 'Normal', 'Normal', 'Normal', 'Normal', 'Import', 'Normal', 'Normal', 'Normal', 'Import', 'Deckle Edge', 'Normal', 'Normal', 'Normal', 'Normal', 'Normal', 'Normal', 'Normal', 'Normal', 'Normal', 'Normal', 'Normal', 'Normal', 'Normal', 'Normal', 'Normal', 'Normal', 'Normal', 'Normal', 'Normal', 'Normal', 'Normal', 'Normal', 'Normal', 'Normal', 'Normal', 'Normal', 'Normal', 'Import', 'Normal', 'Normal', 'Normal', 'Normal', 'Normal', 'Normal', 'Normal', 'Normal', 'Normal', 'Normal', 'Normal', 'Normal', 'Normal', 'Normal', 'Normal', 'Normal', 'Normal', 'Normal', 'Normal', 'Normal', 'Normal', 'Import', 'Normal', 'Import', 'Normal', 'Normal', 'Normal', 'Normal', 'Normal', 'Normal', 'Import', 'Normal', 'Normal', 'Normal', 'Normal', 'Import', 'Normal', 'Normal', 'Normal', 'Import', 'Import', 'Normal', 'Normal', 'Normal', 'Import', 'Normal', 'Normal', 'Normal', 'Normal', 'Normal', 'Normal', 'Normal', 'Normal', 'Normal', 'Normal', 'Normal', 'Normal', 'Normal', 'Normal', 'Normal', 'Normal', 'Normal', 'Normal', 'Normal', 'Normal', 'Normal', 'Normal', 'Normal', 'Normal', 'Normal', 'Normal', 'Normal', 'Normal', 'Normal', 'Normal', 'Normal', 'Normal', 'Normal', 'Normal', 'Normal', 'Normal', 'Normal', 'Normal', 'Normal', 'Normal', 'Import', 'Normal', 'Import', 'Normal', 'Normal', 'Normal', 'Normal', 'Normal', 'Normal', 'Normal', 'Normal', 'Normal', 'Normal', 'Normal', 'Normal', 'Normal', 'Normal', 'Normal', 'Normal', 'Normal', 'Import', 'Normal', 'Import', 'Normal', 'Normal', 'Normal', 'Normal', 'Normal', 'Normal', 'Normal', 'Normal', 'Normal', 'Normal', 'Normal', 'Import', 'Normal', 'Normal', 'Normal', 'Normal', 'Normal', 'Import', 'Import', 'Normal', 'International Edition', 'Normal', 'Normal', 'Normal', 'Normal', 'Normal', 'Normal', 'Import', 'Normal', 'Normal', 'Import', 'Normal', 'Normal', 'Normal', 'Normal', 'Normal', 'Normal', 'Normal', 'Normal', 'Normal', 'Normal', 'Normal', 'Normal', 'Import', 'Normal', 'Illustrated', 'Normal', 'Normal', 'Normal', 'Normal', 'Normal', 'Import', 'Normal', 'Normal', 'Normal', 'Normal', 'Normal', 'Normal', 'Normal', 'Import', 'Normal', 'Normal', 'Normal', 'Normal', 'Normal', 'Import', 'Normal', 'Normal', 'Import', 'Normal', 'Normal', 'Normal', 'Normal', 'Normal', 'Normal', 'Normal', 'Normal', 'Normal', 'Normal', 'Normal', 'Import', 'Normal', 'Normal', 'Normal', 'Normal', 'Normal', 'Normal', 'Normal', 'Normal', 'Normal', 'Normal', 'Import', 'Normal', 'Normal', 'Import', 'Normal', 'Normal', 'Normal', 'Normal', 'Normal', 'Normal', 'Normal', 'Normal', 'Normal', 'Normal', 'Normal', 'Normal', 'Normal', 'Normal', 'Normal', 'Normal', 'Normal', 'Illustrated', 'Normal', 'Normal', 'Normal', 'Normal', 'Normal', 'Normal', 'Normal', 'Normal', 'Normal', 'Student Edition', 'Normal', 'Import', 'Normal', 'Import', 'Normal', 'Import', 'Normal', 'Normal', 'Normal', 'Normal', 'Normal', 'Normal', 'Normal', 'Normal', 'Normal', 'Normal', 'Import', 'Import', 'Normal', 'Normal', 'Normal', 'Normal', 'Large Print', 'Normal', 'Normal', 'Normal', 'Normal', 'Normal', 'Normal', 'Normal', 'Normal', 'Normal', 'Normal', 'Normal', 'Normal', 'Normal', 'Normal', 'Normal', 'Import', 'Normal', 'Normal', 'Normal', 'Normal', 'Normal', 'Normal', 'Normal', 'Normal', 'Import', 'Normal', 'Normal', 'Normal', 'Normal', 'Normal', 'Normal', 'Normal', 'Normal', 'Normal', 'Normal', 'Normal', 'Normal', 'Normal', 'Normal', 'Normal', 'Normal', 'Import', 'Import', 'Normal', 'Normal', 'Normal', 'Normal', 'Normal', 'Normal', 'Normal', 'Normal', 'Normal', 'Normal', 'Normal', 'Normal', 'Box set', 'Normal', 'Normal', 'Normal', 'Normal', 'Normal', 'Normal', 'Normal', 'Import', 'Normal', 'Unabridged', 'Normal', 'Normal', 'Normal', 'Normal', 'Import', 'Normal', 'Normal', 'Normal', 'Normal', 'Normal', 'Normal', 'Import', 'Normal', 'Normal', 'Normal', 'Normal', 'Normal', 'Normal', 'Normal', 'Normal', 'Normal', 'Normal', 'Normal', 'Normal', 'Normal', 'Import', 'Normal', 'Normal', 'Normal', 'Normal', 'Normal', 'Import', 'Normal', 'Normal', 'Normal', 'Import', 'Normal', 'Normal', 'Special Edition', 'Normal', 'Normal', 'Normal', 'Normal', 'Normal', 'Normal', 'Normal', 'Box set', 'Normal', 'Normal', 'Normal', 'Normal', 'Import', 'Normal', 'Normal', 'Normal', 'Normal', 'Normal', 'Normal', 'Normal', 'Normal', 'Normal', 'Import', 'Normal', 'Normal', 'Import', 'Normal', 'Normal', 'Normal', 'Normal', 'Normal', 'Normal', 'Normal', 'Normal', 'Normal', 'Normal', 'Normal', 'Normal', 'Normal', 'Normal', 'Normal', 'Normal', 'Normal', 'Normal', 'Normal', 'Normal', 'Normal', 'Normal', 'Normal', 'Normal', 'Normal', 'Import', 'Normal', 'Normal', 'Normal', 'Normal', 'Import', 'Normal', 'Normal', 'Normal', 'Normal', 'Normal', 'Normal', 'Normal', 'Normal', 'Normal', 'Normal', 'Normal', 'Normal', 'Import', 'Normal', 'Normal', 'Normal', 'Normal', 'Normal', 'Normal', 'Normal', 'Normal', 'Normal', 'Normal', 'Normal', 'Import', 'Normal', 'Normal', 'Normal', 'Normal', 'Normal', 'Normal', 'Normal', 'Normal', 'Normal', 'Normal', 'Normal', 'Normal', 'Normal', 'Normal', 'Import', 'Import', 'Normal', 'Normal', 'Normal', 'Normal', 'Normal', 'Normal', 'Normal', 'Normal', 'Normal', 'Normal', 'Import', 'Normal', 'Import', 'Normal', 'Normal', 'Normal', 'Normal', 'Normal', 'Normal', 'Normal', 'Normal', 'Normal', 'Normal', 'Normal', 'Normal', 'Normal', 'Normal', 'Normal', 'Normal', 'Normal', 'Normal', 'Import', 'Import', 'Normal', 'Normal', 'Normal', 'Normal', 'Normal', 'Normal', 'Normal', 'Normal', 'Normal', 'Normal', 'Normal', 'Normal', 'Normal', 'Normal', 'Normal', 'Normal', 'Normal', 'Normal', 'Normal', 'Import', 'Normal', 'Normal', 'Unabridged', 'Normal', 'Normal', 'Normal', 'Normal', 'Normal', 'Normal', 'Abridged', 'Normal', 'Normal', 'Normal', 'Normal', 'Normal', 'Normal', 'Normal', 'Normal', 'Normal', 'Normal', 'Normal', 'Normal', 'Normal', 'Normal', 'Normal', 'Import', 'Normal', 'Normal', 'Normal', 'Normal', 'Normal', 'Normal', 'Normal', 'Normal', 'Normal', 'Normal', 'Illustrated', 'Normal', 'Normal', 'Normal', 'Normal', 'Import', 'Normal', 'Normal', 'Normal', 'Normal', 'Import', 'Normal', 'Normal', 'Normal', 'Normal', 'Normal', 'Normal', 'Normal', 'Normal', 'Normal', 'Unabridged', 'Normal', 'Normal', 'Normal', 'Normal', 'Normal', 'Normal', 'Normal', 'Normal', 'Normal', 'Normal', 'Normal', 'Normal', 'Import', 'Normal', 'Normal', 'Normal', 'Normal', 'Normal', 'Normal', 'Normal', 'Normal', 'Normal', 'Normal', 'Normal', 'Normal', 'Normal', 'Normal', 'Normal', 'Import', 'Normal', 'Normal', 'Normal', 'Normal', 'Normal', 'Normal', 'Normal', 'Normal', 'Illustrated', 'Normal', 'Normal', 'Normal', 'Normal', 'Normal', 'Normal', 'Normal', 'Normal', 'Normal', 'Normal', 'Normal', 'Normal', 'Normal', 'Normal', 'Import', 'Normal', 'Normal', 'Normal', 'Box set', 'Normal', 'Normal', 'Normal', 'Normal', 'Normal', 'Import', 'Normal', 'Normal', 'Normal', 'Normal', 'Normal', 'Normal', 'Normal', 'Normal', 'Normal', 'Normal', 'Normal', 'Import', 'Normal', 'Import', 'Normal', 'Normal', 'Normal', 'EveryBook', 'Import', 'Normal', 'Normal', 'Normal', 'Normal', 'Normal', 'Import', 'Normal', 'Normal', 'Normal', 'Import', 'Special Edition', 'Normal', 'Illustrated', 'Normal', 'Normal', 'Normal', 'Normal', 'Normal', 'Normal', 'Normal', 'Normal', 'Normal', 'Normal', 'Normal', 'Import', 'Normal', 'Import', 'Import', 'Import', 'Normal', 'Import', 'Normal', 'Normal', 'Normal', 'Normal', 'Normal', 'Normal', 'Normal', 'Normal', 'Normal', 'Normal', 'Normal', 'Normal', 'Import', 'Normal', 'Normal', 'Normal', 'Normal', 'Normal', 'Normal', 'Normal', 'Import', 'Normal', 'Normal', 'Normal', 'Normal', 'Normal', 'Normal', 'Import', 'Normal', 'Normal', 'Normal', 'Import', 'Normal', 'Normal', 'Normal', 'Normal', 'Import', 'Normal', 'Normal', 'Normal', 'Normal', 'Normal', 'Normal', 'Normal', 'Normal', 'Normal', 'Normal', 'Normal', 'Normal', 'Normal', 'Normal', 'Normal', 'Normal', 'Normal', 'Normal', 'Normal', 'Normal', 'Normal', 'Normal', 'Normal', 'Normal', 'Normal', 'Normal', 'Normal', 'Normal', 'Normal', 'Normal', 'Normal', 'Normal', 'Normal', 'Normal', 'Normal', 'Normal', 'Normal', 'Normal', 'Normal', 'Normal', 'Normal', 'Normal', 'Normal', 'Normal', 'Normal', 'Normal', 'Normal', 'Normal', 'Normal', 'Normal', 'Import', 'Normal', 'Normal', 'Import', 'Normal', 'Normal', 'Normal', 'Normal', 'Normal', 'Import', 'Normal', 'Normal', 'Normal', 'Normal', 'Normal', 'Normal', 'Normal', 'Normal', 'Normal', 'Import', 'Import', 'Normal', 'Normal', 'Normal', 'Normal', 'Normal', 'Normal', 'Normal', 'Normal', 'Normal', 'Normal', 'Normal', 'Normal', 'Normal', 'Normal', 'Normal', 'Normal', 'Normal', 'Normal', 'Normal', 'Normal', 'Normal', 'Normal', 'Normal', 'Normal', 'Normal', 'Normal', 'Normal', 'Normal', 'Normal', 'Normal', 'Normal', 'Normal', 'Normal', 'Normal', 'Normal', 'Normal', 'Import', 'Normal', 'Normal', 'Normal', 'Normal', 'Normal', 'Normal', 'Normal', 'Normal', 'Normal', 'Normal', 'Normal', 'Normal', 'Normal', 'Import', 'Import', 'Normal', 'Normal', 'Normal', 'Normal', 'Normal', 'Normal', 'Normal', 'Normal', 'Normal', 'Normal', 'Normal', 'Box set', 'Normal', 'Normal', 'Normal', 'Normal', 'Normal', 'Normal', 'Normal', 'Normal', 'Unabridged', 'Normal', 'Normal', 'Normal', 'Normal', 'Illustrated', 'Normal', 'Normal', 'Normal', 'Normal', 'Normal', 'Normal', 'Normal', 'Normal', 'Normal', 'Normal', 'Normal', 'Normal', 'Normal', 'Import', 'Normal', 'Import', 'Normal', 'Normal', 'Normal', 'Import', 'Normal', 'Normal', 'Illustrated', 'Normal', 'Normal', 'Normal', 'Normal', 'Normal', 'Normal', 'Normal', 'Normal', 'Import', 'Normal', 'Normal', 'Normal', 'Normal', 'Normal', 'Normal', 'Import', 'Normal', 'Normal', 'Normal', 'Normal', 'Normal', 'Normal', 'Normal', 'Normal', 'Normal', 'Normal', 'Normal', 'Normal', 'Normal', 'Normal', 'Normal', 'Normal', 'Normal', 'Normal', 'Normal', 'Normal', 'Normal', 'Normal', 'Normal', 'Normal', 'Normal', 'Normal', 'Normal', 'Normal', 'Normal', 'Import', 'Normal', 'Normal', 'Normal', 'Normal', 'Illustrated', 'Normal', 'Normal', 'Normal', 'Normal', 'Normal', 'Normal', 'Normal', 'Normal', 'Normal', 'Normal', 'Normal', 'Normal', 'Normal', 'Normal', 'Normal', 'Import', 'Normal', 'Normal', 'Normal', 'Normal', 'Normal', 'Normal', 'Normal', 'Normal', 'Normal', 'Normal', 'Normal', 'Import', 'Import', 'Normal', 'Normal', 'Normal', 'Normal', 'Illustrated', 'Normal', 'Normal', 'Normal', 'Normal', 'Normal', 'Import', 'Normal', 'Normal', 'Normal', 'Normal', 'Normal', 'Normal', 'Normal', 'Normal', 'Normal', 'Import', 'Normal', 'Normal', 'Normal', 'Normal', 'Normal', 'Normal', 'Normal', 'Import', 'Normal', 'Normal', 'Import', 'Normal', 'Import', 'Normal', 'Normal', 'Normal', 'Normal', 'Normal', 'Import', 'Normal', 'Import', 'Normal', 'Normal', 'Normal', 'Normal', 'Normal', 'Normal', 'Normal', 'Normal', 'Normal', 'Normal', 'Normal', 'Normal', 'Normal', 'Normal', 'Normal', 'Normal', 'Normal', 'Normal', 'Normal', 'Normal', 'Normal', 'Normal', 'Normal', 'Normal', 'Import', 'Normal', 'Normal', 'Normal', 'Normal', 'Normal', 'Normal', 'Normal', 'Normal', 'Normal', 'Normal', 'Normal', 'Normal', 'Normal', 'Normal', 'Normal', 'Normal', 'Normal', 'Normal', 'Normal', 'Normal', 'Normal', 'Normal', 'Normal', 'Normal', 'Normal', 'Normal', 'Normal', 'Normal', 'Normal', 'Import', 'Normal', 'Normal', 'Normal', 'Normal', 'Import', 'Import', 'Normal', 'Normal', 'Normal', 'Import', 'Normal', 'Normal', 'Normal', 'Normal', 'Normal', 'Normal', 'Normal', 'Normal', 'Normal', 'Import', 'Normal', 'Normal', 'Normal', 'Import', 'Import', 'Normal', 'Normal', 'Normal', 'Import', 'Normal', 'Normal', 'Normal', 'Normal', 'Normal', 'Normal', 'Import', 'Normal', 'Import', 'Normal', 'Normal', 'Normal', 'Import', 'Normal', 'Normal', 'Normal', 'Normal', 'Normal', 'Normal', 'Normal', 'Normal', 'Normal', 'Normal', 'Normal', 'Normal', 'Normal', 'Normal', 'Normal', 'Normal', 'Normal', 'Normal', 'Import', 'Normal', 'Normal', 'Normal', 'Normal', 'Normal', 'Normal', 'Normal', 'Normal', 'Normal', 'Normal', 'Normal', 'Import', 'Normal', 'Normal', 'Normal', 'Normal', 'Normal', 'Normal', 'Import', 'Normal', 'Normal', 'Normal', 'Normal', 'Import', 'Normal', 'Normal', 'Normal', 'Normal', 'Import', 'Normal', 'Normal', 'Normal', 'Normal', 'Normal', 'Normal', 'Normal', 'Normal', 'Normal', 'Normal', 'Import', 'Normal', 'Normal', 'Normal', 'Facsimile', 'Normal', 'Normal', 'Normal', 'Normal', 'Normal', 'Normal', 'Normal', 'Normal', 'Normal', 'Import', 'Import', 'Normal', 'Normal', 'Normal', 'Normal', 'Normal', 'Normal', 'Normal', 'Normal', 'Import', 'Normal', 'Normal', 'Normal', 'Normal', 'Normal', 'Normal', 'Normal', 'Normal', 'Import', 'Normal', 'Normal', 'Normal', 'Normal', 'Normal', 'Normal', 'Audiobook', 'Normal', 'Normal', 'Normal', 'Normal', 'Normal', 'Normal', 'Normal', 'Normal', 'Import', 'Normal', 'Illustrated', 'Normal', 'Normal', 'Normal', 'Normal', 'Import', 'Normal', 'Normal', 'Import', 'Normal', 'Normal', 'Normal', 'Normal', 'Normal', 'Normal', 'Normal', 'Normal', 'Normal', 'Normal', 'Normal', 'Normal', 'Import', 'Normal', 'Normal', 'Normal', 'Normal', 'Normal', 'Normal', 'Normal', 'Normal', 'Normal', 'Normal', 'Import', 'Normal', 'Normal', 'Normal', 'Normal', 'Import', 'Normal', 'Normal', 'Normal', 'Import', 'Normal', 'Normal', 'Normal', 'Illustrated', 'Normal', 'Import', 'Normal', 'Import', 'Normal', 'Import', 'Normal', 'Normal', 'Normal', 'Normal', 'Normal', 'Normal', 'Normal', 'Import', 'Normal', 'Normal', 'Normal', 'Normal', 'Normal', 'Unabridged', 'Import', 'Normal', 'Normal', 'Normal', 'Normal', 'Normal', 'Normal', 'Normal', 'Normal', 'Normal', 'Normal', 'Normal', 'Normal', 'Normal', 'Normal', 'Normal', 'Normal', 'Normal', 'Import', 'Normal', 'Normal', 'Import', 'Normal', 'Normal', 'Normal', 'Normal', 'Normal', 'Normal', 'Normal', 'Normal', 'Normal', 'Normal', 'Illustrated', 'Normal', 'Normal', 'Normal', 'Normal', 'Normal', 'Normal', 'Import', 'Import', 'Normal', 'Normal', 'Normal', 'Normal', 'Normal', 'Box set', 'Normal', 'Normal', 'Normal', 'Normal', 'Normal', 'Illustrated', 'Normal', 'Normal', 'Normal', 'Normal', 'Normal', 'Normal', 'Normal', 'Normal', 'Normal', 'Normal', 'Normal', 'Normal', 'Normal', 'Normal', 'Normal', 'Normal', 'Normal', 'Normal', 'Normal', 'Normal', 'Normal', 'Normal', 'Normal', 'Normal', 'Normal', 'Normal', 'Import', 'Import', 'Normal', 'Normal', 'Normal', 'Special Edition', 'Normal', 'Normal', 'Import', 'Normal', 'Normal', 'Normal', 'Normal', 'Normal', 'Box set', 'Normal', 'Normal', 'Normal', 'Normal', 'Normal', 'Normal', 'Normal', 'Normal', 'Normal', 'Normal', 'Normal', 'Normal', 'Illustrated', 'Normal', 'Normal', 'Normal', 'Normal', 'Normal', 'Normal', 'Normal', 'Normal', 'Normal', 'Normal', 'Normal', 'Normal', 'Normal', 'Normal', 'Normal', 'Normal', 'Normal', 'Normal', 'Normal', 'Normal', 'Normal', 'Normal', 'Normal', 'Normal', 'Import', 'Normal', 'Normal', 'Normal', 'Normal', 'Normal', 'Normal', 'Normal', 'Normal', 'Import', 'Normal', 'Normal', 'Normal', 'Illustrated', 'Normal', 'Import', 'Normal', 'Normal', 'Normal', 'Normal', 'Import', 'Normal', 'Normal', 'Normal', 'Normal', 'Normal', 'Normal', 'Normal', 'Normal', 'Normal', 'Import', 'Normal', 'Normal', 'Normal', 'Normal', 'Normal', 'Normal', 'Normal', 'Normal', 'Import', 'Normal', 'Normal', 'Normal', 'Normal', 'Import', 'Import', 'Normal', 'Normal', 'Abridged', 'ADPCM', 'Illustrated', 'Normal', 'Normal', 'Normal', 'Import', 'Normal', 'Normal', 'Normal', 'Import', 'Normal', 'Normal', 'Normal', 'Normal', 'Normal', 'Normal', 'Normal', 'Normal', 'Normal', 'Normal', 'Normal', 'Normal', 'Normal', 'Normal', 'Normal', 'Normal', 'Import', 'Normal', 'Normal', 'Normal', 'Import', 'Normal', 'Normal', 'Import', 'Normal', 'Normal', 'Normal', 'Normal', 'Normal', 'Normal', 'Import', 'Import', 'Import', 'Normal', 'Unabridged', 'Normal', 'Normal', 'Normal', 'Unabridged', 'Normal', 'Normal', 'Normal', 'Normal', 'Import', 'Normal', 'Normal', 'Normal', 'Normal', 'Normal', 'Normal', 'Normal', 'Normal', 'Normal', 'Normal', 'Abridged', 'Normal', 'Normal', 'Normal', 'Normal', 'Normal', 'Normal', 'Normal', 'Normal', 'Normal', 'Normal', 'Normal', 'Normal', 'Normal', 'Normal', 'Normal', 'Deckle Edge', 'Normal', 'Normal', 'Normal', 'Normal', 'Normal', 'Special Edition', 'Normal', 'Normal', 'Normal', 'Normal', 'Normal', 'Normal', 'Normal', 'Normal', 'Normal', 'Normal', 'Normal', 'Normal', 'Normal', 'Normal', 'Normal', 'Import', 'Normal', 'Normal', 'Normal', 'Normal', 'Normal', 'Normal', 'Normal', 'Normal', 'Normal', 'Normal', 'Normal', 'Normal', 'Normal', 'Normal', 'Normal', 'Normal', 'Normal', 'Normal', 'Normal', 'Normal', 'Normal', 'Normal', 'Normal', 'Normal', 'Normal', 'Normal', 'Normal', 'Normal', 'Import', 'Normal', 'Normal', 'Normal', 'Normal', 'Normal', 'Normal', 'Normal', 'Normal', 'Normal', 'Normal', 'Normal', 'Normal', 'Normal', 'Normal', 'Normal', 'Import', 'Normal', 'Normal', 'Normal', 'Normal', 'Normal', 'Normal', 'Normal', 'Normal', 'Normal', 'Normal', 'Normal', 'Normal', 'Normal', 'Import', 'Normal', 'Normal', 'Normal', 'Normal', 'Normal', 'Normal', 'Normal', 'Normal', 'Normal', 'Normal', 'Normal', 'Normal', 'Normal', 'Normal', 'Normal', 'Import', 'Normal', 'Normal', 'Normal', 'Normal', 'Import', 'Normal', 'Normal', 'Normal', 'Normal', 'Normal', 'Normal', 'Normal', 'Normal', 'Normal', 'Normal', 'Normal', 'Import', 'Normal', 'Normal', 'Normal', 'Normal', 'Normal', 'Normal', 'Normal', 'Normal', 'Normal', 'Normal', 'Normal', 'Normal', 'Normal', 'Unabridged', 'Normal', 'Normal', 'Normal', 'Normal', 'Normal', 'Normal', 'Import', 'Normal', 'Normal', 'Normal', 'Normal', 'Normal', 'Normal', 'Normal', 'Normal', 'Normal', 'Normal', 'Normal', 'Normal', 'Normal', 'Normal', 'Normal', 'Normal', 'Import', 'Normal', 'Normal', 'Normal', 'Normal', 'Normal', 'Normal', 'Normal', 'Normal', 'Normal', 'Normal', 'Import', 'Normal', 'Normal', 'Import', 'Normal', 'Normal', 'Normal', 'Normal', 'Normal', 'Import', 'Normal', 'Normal', 'Normal', 'Normal', 'Normal', 'Normal', 'Normal', 'Normal', 'Normal', 'Normal', 'Normal', 'Normal', 'Normal', 'Normal', 'Normal', 'Normal', 'Normal', 'Normal', 'Normal', 'Normal', 'Audiobook', 'Illustrated', 'Normal', 'Normal', 'Normal', 'Normal', 'Import', 'Normal', 'Normal', 'Normal', 'Normal', 'Normal', 'Normal', 'Normal', 'Normal', 'Normal', 'Normal', 'Normal', 'Normal', 'Normal', 'Normal', 'Normal', 'Import', 'Normal', 'Import', 'Normal', 'Normal', 'Normal', 'Normal', 'Normal', 'Normal', 'Import', 'Normal', 'Import', 'Normal', 'Illustrated', 'Normal', 'Normal', 'Normal', 'Import', 'Import', 'Normal', 'Normal', 'Normal', 'Normal', 'Import', 'Kindle eBook', 'Import', 'Import', 'Normal', 'Normal', 'Normal', 'Normal', 'Normal', 'Normal', 'Normal', 'Import', 'Normal', 'Normal', 'Normal', 'Normal', 'Normal', 'Normal', 'Normal', 'Normal', 'Normal', 'Normal', 'Normal', 'Normal', 'Normal', 'Normal', 'Normal', 'Normal', 'Normal', 'Normal', 'Normal', 'Import', 'Normal', 'Normal', 'Normal', 'Normal', 'Import', 'Print', 'Normal', 'Normal', 'Normal', 'Normal', 'Import', 'Normal', 'Normal', 'Normal', 'Normal', 'Normal', 'Normal', 'Normal', 'Normal', 'Normal', 'Normal', 'Normal', 'Normal', 'Normal', 'Normal', 'Normal', 'Normal', 'Normal', 'Normal', 'Normal', 'Normal', 'Import', 'Normal', 'Normal', 'Import', 'Normal', 'Normal', 'Import', 'Normal', 'Normal', 'Normal', 'Normal', 'Import', 'Normal', 'Normal', 'Normal', 'Normal', 'Normal', 'Normal', 'Normal', 'Normal', 'Normal', 'Normal', 'Normal', 'Normal', 'Normal', 'Normal', 'Import', 'Normal', 'Normal', 'Normal', 'Normal', 'Normal', 'Import', 'Normal', 'Normal', 'Normal', 'Normal', 'Normal', 'Normal', 'Normal', 'Normal', 'Normal', 'Normal', 'Normal', 'Normal', 'Normal', 'Normal', 'Normal', 'Normal', 'Normal', 'Normal', 'Normal', 'Normal', 'Normal', 'Normal', 'Normal', 'Import', 'Normal', 'Normal', 'Normal', 'Normal', 'Normal', 'Normal', 'Normal', 'Normal', 'Normal', 'Normal', 'Normal', 'Normal', 'Import', 'Import', 'Normal', 'Normal', 'Normal', 'Normal', 'Normal', 'Normal', 'Normal', 'Normal', 'Normal', 'Normal', 'Normal', 'Normal', 'Normal', 'Import', 'Normal', 'Import', 'Normal', 'Normal', 'Normal', 'Normal', 'Normal', 'Normal', 'Normal', 'Normal', 'Normal', 'Normal', 'Normal', 'Normal', 'Normal', 'Import', 'Import', 'Normal', 'Normal', 'Normal', 'Normal', 'Normal', 'Normal', 'Normal', 'Normal', 'Normal', 'Normal', 'Normal', 'Import', 'Import', 'Normal', 'Normal', 'Normal', 'Normal', 'Import', 'Normal', 'Normal', 'Normal', 'Normal', 'Normal', 'Normal', 'Normal', 'Normal', 'Normal', 'Normal', 'Normal', 'Normal', 'Normal', 'Normal', 'Normal', 'Import', 'Normal', 'Import', 'Normal', 'Normal', 'Normal', 'Normal', 'Import', 'Normal', 'Normal', 'Normal', 'Import', 'Normal', 'Import', 'Import', 'Normal', 'Normal', 'Normal', 'Normal', 'Normal', 'International Edition', 'Normal', 'Import', 'Normal', 'Normal', 'Normal', 'Normal', 'Normal', 'Normal', 'Normal', 'Normal', 'Normal', 'Normal', 'Normal', 'Import', 'Normal', 'Normal', 'Normal', 'Special Edition', 'Normal', 'Normal', 'Normal', 'Normal', 'Normal', 'Normal', 'Normal', 'Import', 'Normal', 'Normal', 'Normal', 'Import', 'Normal', 'Import', 'Normal', 'Normal', 'Normal', 'Audiobook', 'Import', 'Normal', 'Normal', 'Normal', 'Normal', 'Normal', 'Normal', 'Normal', 'Normal', 'Normal', 'Normal', 'Normal', 'Normal', 'Normal', 'Normal', 'Normal', 'Normal', 'Normal', 'Normal', 'Normal', 'Normal', 'Normal', 'Normal', 'Normal', 'Normal', 'Normal', 'Normal', 'Normal', 'Normal', 'Normal', 'Normal', 'Illustrated', 'Normal', 'Normal', 'Normal', 'Normal', 'Normal', 'Normal', 'Normal', 'Normal', 'Import', 'Normal', 'Import', 'Import', 'Normal', 'Normal', 'Normal', 'Normal', 'Normal', 'Normal', 'Normal', 'Normal', 'Normal', 'Normal', 'Normal', 'Import', 'Normal', 'Normal', 'Normal', 'Normal', 'Normal', 'Normal', 'Audiobook', 'Normal', 'Normal', 'Normal', 'Normal', 'Normal', 'Normal', 'Normal', 'Import', 'Normal', 'Normal', 'Normal', 'Normal', 'Normal', 'Normal', 'Normal', 'Normal', 'Normal', 'Normal', 'Normal', 'Normal', 'Normal', 'Normal', 'Normal', 'Import', 'Normal', 'Normal', 'Normal', 'Normal', 'Normal', 'Import', 'Normal', 'Normal', 'Normal', 'Normal', 'Normal', 'Normal', 'Normal', 'Normal', 'Normal', 'Normal', 'Normal', 'Normal', 'Normal', 'Normal', 'Import', 'Normal', 'Normal', 'Normal', 'Normal', 'Normal', 'Normal', 'Normal', 'Illustrated', 'Import', 'Normal', 'Normal', 'Import', 'Normal', 'Normal', 'Normal', 'Import', 'Normal', 'Normal', 'Normal', 'Normal', 'Normal', 'Normal', 'Normal', 'Normal', 'Normal', 'Normal', 'Import', 'Normal', 'Import', 'Import', 'Normal', 'Normal', 'Normal', 'Normal', 'Normal', 'Import', 'Normal', 'Normal', 'Normal', 'Normal', 'Normal', 'Normal', 'Normal', 'Normal', 'Normal', 'Normal', 'Normal', 'Normal', 'Normal', 'Normal', 'Normal', 'Normal', 'Normal', 'Import', 'Normal', 'Normal', 'Normal', 'Normal', 'Normal', 'Normal', 'Normal', 'Import', 'Import', 'Illustrated', 'Normal', 'Normal', 'Normal', 'Normal', 'Normal', 'Normal', 'Import', 'Normal', 'Normal', 'Normal', 'Illustrated', 'Normal', 'Normal', 'Normal', 'Normal', 'Normal', 'Normal', 'Normal', 'Normal', 'Normal', 'Normal', 'Normal', 'Import', 'Normal', 'Normal', 'Normal', 'Normal', 'Normal', 'Normal', 'Normal', 'Normal', 'Normal', 'Abridged', 'Normal', 'International Edition', 'Normal', 'Normal', 'Normal', 'Normal', 'Normal', 'Normal', 'Normal', 'Unabridged', 'Normal', 'Normal', 'Normal', 'Normal', 'Normal', 'Normal', 'Import', 'Normal', 'Normal', 'Normal', 'Normal', 'Normal', 'Normal', 'Normal', 'Normal', 'Normal', 'Normal', 'Normal', 'Normal', 'Normal', 'Normal', 'Normal', 'Normal', 'Normal', 'Normal', 'Normal', 'Normal', 'Normal', 'Normal', 'Normal', 'Normal', 'Normal', 'Normal', 'Normal', 'Normal', 'Normal', 'Normal', 'Normal', 'Normal', 'Normal', 'Normal', 'Normal', 'Normal', 'Normal', 'Normal', 'Normal', 'Normal', 'Normal', 'Normal', 'Normal', 'Deckle Edge', 'Normal', 'Normal', 'Normal', 'Normal', 'Normal', 'Normal', 'Import', 'Import', 'Normal', 'Normal', 'Normal', 'Normal', 'Normal', 'Normal', 'Normal', 'Normal', 'Normal', 'Normal', 'Normal', 'Normal', 'Normal', 'Normal', 'Normal', 'Normal', 'Normal', 'Illustrated', 'Normal', 'Normal', 'Normal', 'Normal', 'Import', 'Normal', 'Normal', 'Normal', 'Normal', 'Normal', 'Normal', 'Normal', 'Normal', 'Normal', 'Normal', 'Normal', 'Normal', 'Normal', 'Normal', 'Normal', 'Normal', 'Normal', 'Normal', 'Normal', 'Normal', 'Normal', 'Normal', 'Import', 'Normal', 'Abridged', 'Normal', 'Normal', 'Import', 'Normal', 'Normal', 'Normal', 'Normal', 'Normal', 'Normal', 'Normal', 'Normal', 'Normal', 'Normal', 'Normal', 'Normal', 'Normal', 'Normal', 'Normal', 'Normal', 'Normal', 'Normal', 'Normal', 'Normal', 'Normal', 'Normal', 'Normal', 'Normal', 'Normal', 'Normal', 'Normal', 'Normal', 'Normal', 'Normal', 'Normal', 'Normal', 'Normal', 'Normal', 'Normal', 'Normal', 'Normal', 'Normal', 'Normal', 'Normal', 'Illustrated', 'Normal', 'Normal', 'Normal', 'Normal', 'Import', 'Normal', 'Normal', 'Import', 'Normal', 'Normal', 'Normal', 'Normal', 'Normal', 'Normal', 'Normal', 'Normal', 'Import', 'Normal', 'Normal', 'Normal', 'Normal', 'Normal', 'Normal', 'Normal', 'Normal', 'Normal', 'Normal', 'Normal', 'Import', 'Normal', 'Import', 'Normal', 'Normal', 'Normal', 'Normal', 'Normal', 'Normal', 'Import', 'Normal', 'Normal', 'Normal', 'Normal', 'Import', 'Normal', 'Normal', 'Normal', 'Normal', 'Normal', 'Normal', 'Normal', 'Normal', 'Normal', 'Normal', 'Normal', 'Normal', 'Import', 'Normal', 'Normal', 'Normal', 'Normal', 'Normal', 'Normal', 'Normal', 'Normal', 'Normal', 'Student Edition', 'Normal', 'Normal', 'Normal', 'Normal', 'Normal', 'Normal', 'Normal', 'Normal', 'Normal', 'Normal', 'Normal', 'Normal', 'Import', 'Normal', 'Normal', 'Normal', 'Normal', 'Normal', 'Normal', 'Normal', 'Normal', 'Normal', 'Normal', 'Normal', 'Normal', 'Normal', 'Import', 'Normal', 'Normal', 'Normal', 'Normal', 'Normal', 'Normal', 'Normal', 'Normal', 'Normal', 'Normal', 'Normal', 'Normal', 'Import', 'Normal', 'Normal', 'Normal', 'Normal', 'Normal', 'Normal', 'Normal', 'Normal', 'Import', 'Normal', 'Normal', 'Normal', 'Normal', 'Normal', 'Normal', 'Normal', 'Normal', 'Normal', 'Normal', 'Normal', 'Normal', 'Normal', 'Normal', 'Normal', 'Normal', 'Normal', 'Normal', 'Normal', 'Normal', 'Normal', 'Normal', 'Normal', 'Normal', 'Normal', 'Normal', 'Import', 'Import', 'Normal', 'Normal', 'Normal', 'Import', 'Normal', 'Normal', 'Normal', 'Import', 'Normal', 'Normal', 'Normal', 'Normal', 'Normal', 'Normal', 'Normal', 'Normal', 'Normal', 'Unabridged', 'Normal', 'Normal', 'Normal', 'Normal', 'Normal', 'Normal', 'Normal', 'Normal', 'Normal', 'Normal', 'Import', 'Normal', 'Illustrated', 'Normal', 'Normal', 'Normal', 'Normal', 'Normal', 'Normal', 'Normal', 'Normal', 'Import', 'Normal', 'Import', 'Normal', 'Normal', 'Normal', 'Normal', 'Normal', 'Normal', 'Normal', 'Abridged', 'Normal', 'Normal', 'Normal', 'Normal', 'Import', 'Normal', 'Import', 'Normal', 'Normal', 'Normal', 'Normal', 'Normal', 'Normal', 'Normal', 'Normal', 'Import', 'Normal', 'Normal', 'Normal', 'Normal', 'Normal', 'Normal', 'Normal', 'Normal', 'Normal', 'Normal', 'Normal', 'Normal', 'Normal', 'Normal', 'Normal', 'Normal', 'Normal', 'Normal', 'Normal', 'Normal', 'Normal', 'Import', 'Normal', 'Normal', 'Normal', 'Import', 'Normal', 'Illustrated', 'Normal', 'Normal', 'Normal', 'Normal', 'Normal', 'Normal', 'Illustrated', 'Import', 'Normal', 'Normal', 'Normal', 'Import', 'Normal', 'Normal', 'Normal', 'Normal', 'Normal', 'Import', 'Special Edition', 'Normal', 'Normal', 'Normal', 'Normal', 'Import', 'Normal', 'Normal', 'Normal', 'Normal', 'Normal', 'Normal', 'Normal', 'Normal', 'Normal', 'Normal', 'Normal', 'Normal', 'Normal', 'Normal', 'Normal', 'Normal', 'Normal', 'Import', 'Normal', 'Normal', 'Normal', 'Normal', 'Normal', 'Normal', 'Normal', 'Normal', 'Normal', 'Normal', 'Normal', 'Normal', 'Normal', 'Normal', 'Normal', 'Normal', 'Normal', 'Normal', 'Normal', 'Normal', 'Import', 'Normal', 'Normal', 'Normal', 'Illustrated', 'Normal', 'Import', 'Normal', 'Normal', 'Normal', 'Normal', 'Import', 'Normal', 'Normal', 'Normal', 'Normal', 'Normal', 'Normal', 'Normal', 'Normal', 'Normal', 'Normal', 'Normal', 'Normal', 'Import', 'Normal', 'Normal', 'Import', 'Normal', 'Normal', 'Normal', 'Import', 'Normal', 'Normal', 'Normal', 'Normal', 'International Edition', 'Normal', 'Normal', 'Normal', 'Normal', 'Normal', 'Normal', 'Normal', 'Normal', 'Normal', 'Normal', 'Import', 'Normal', 'Normal', 'Normal', 'Import', 'Normal', 'Normal', 'Normal', 'Normal', 'Normal', 'Normal', 'Import', 'Normal', 'Normal', 'Normal', 'Normal', 'Import', 'Import', 'Normal', 'Normal', 'Import', 'Import', 'Normal', 'Normal', 'Normal', 'Normal', 'Normal', 'Import', 'Normal', 'Normal', 'Normal', 'Normal', 'Normal', 'Normal', 'Normal', 'Normal', 'Normal', 'Normal', 'Normal', 'Import', 'Normal', 'Import', 'Normal', 'Normal', 'Normal', 'Normal', 'Normal', 'Normal', 'Normal', 'Normal', 'Normal', 'Normal', 'Normal', 'Normal', 'Normal', 'Normal', 'Normal', 'Normal', 'Normal', 'Normal', 'Normal', 'Normal', 'Normal', 'Normal', 'Normal', 'Box set', 'Normal', 'Unabridged', 'Normal', 'Normal', 'Abridged', 'Import', 'Normal', 'Unabridged', 'Normal', 'Normal', 'Special Edition', 'Normal', 'Normal', 'Normal', 'Normal', 'Normal', 'Illustrated', 'Normal', 'Normal', 'Normal', 'Normal', 'Normal', 'Normal', 'Import', 'Normal', 'Normal', 'Normal', 'Normal', 'Normal', 'Normal', 'Normal', 'Normal', 'Normal', 'Normal', 'Normal', 'Normal', 'Normal', 'Normal', 'Normal', 'Normal', 'Import', 'Normal', 'Normal', 'Normal', 'Normal', 'Import', 'Normal', 'Normal', 'Normal', 'Normal', 'Normal', 'Import', 'Normal', 'Normal', 'Import', 'Normal', 'Normal', 'Normal', 'Normal', 'Normal', 'Normal', 'Normal', 'Import', 'Normal', 'Normal', 'Normal', 'Import', 'Normal', 'Normal', 'Import', 'Normal', 'Normal', 'Normal', 'Normal', 'Normal', 'Normal', 'Normal', 'Normal', 'Normal', 'Normal', 'Normal', 'Normal', 'Normal', 'Normal', 'Normal', 'Normal', 'Normal', 'Normal', 'Normal', 'Normal', 'Normal', 'Normal', 'Normal', 'Normal', 'Normal', 'Normal', 'Normal', 'Normal', 'Normal', 'Normal', 'Normal', 'Import', 'Normal', 'Normal', 'Normal', 'Normal', 'Import', 'Student Edition', 'Normal', 'Normal', 'Normal', 'Normal', 'Normal', 'Normal', 'Normal', 'Normal', 'Normal', 'Normal', 'Normal', 'Normal', 'Normal', 'Normal', 'Normal', 'Normal', 'Normal', 'Import', 'Normal', 'Normal', 'Normal', 'Normal', 'Normal', 'Normal', 'Normal', 'Normal', 'Normal', 'Import', 'Normal', 'Normal', 'Normal', 'Normal', 'Normal', 'Normal', 'Normal', 'Normal', 'Normal', 'Normal', 'Normal', 'Normal', 'Normal', 'Normal', 'Import', 'Normal', 'Normal', 'Normal', 'Normal', 'Normal', 'Illustrated', 'Normal', 'Normal', 'Import', 'Normal', 'Normal', 'Normal', 'Import', 'Normal', 'Normal', 'Normal', 'Normal', 'Normal', 'Normal', 'Normal', 'Normal', 'Normal', 'Import', 'Normal', 'Normal', 'Normal', 'Normal', 'Normal', 'Normal', 'Normal', 'Normal', 'Normal', 'Import', 'Normal', 'Normal', 'Import', 'Import', 'Normal', 'Normal', 'Normal', 'Normal', 'Audiobook', 'Normal', 'Normal', 'Normal', 'Normal', 'Normal', 'Normal', 'Normal', 'Normal', 'Normal', 'Normal', 'Normal', 'Illustrated', 'Normal', 'Normal', 'Normal', 'Normal', 'Normal', 'Import', 'Normal', 'Import', 'Normal', 'Import', 'Normal', 'Normal', 'Normal', 'Normal', 'Normal', 'Normal', 'Normal', 'Normal', 'Normal', 'Normal', 'Normal', 'Normal', 'Normal', 'Normal', 'Normal', 'Normal', 'Normal', 'Normal', 'Abridged', 'Normal', 'Normal', 'Normal', 'Normal', 'Normal', 'Normal', 'Normal', 'Normal', 'Normal', 'Import', 'Large Print', 'Normal', 'Normal', 'Normal', 'Normal', 'Box set', 'Normal', 'Normal', 'Import', 'Normal', 'Normal', 'Import', 'Normal', 'Normal', 'Illustrated', 'Normal', 'Normal', 'Import', 'Normal', 'Normal', 'Normal', 'Normal', 'Normal', 'Normal', 'Normal', 'Normal', 'Normal', 'Normal', 'Import', 'Normal', 'Normal', 'Normal', 'Normal', 'Normal', 'Normal', 'Normal', 'Normal', 'Normal', 'Normal', 'Normal', 'Normal', 'Normal', 'Normal', 'Normal', 'Normal', 'Normal', 'Normal', 'Normal', 'Normal', 'Normal', 'Normal', 'Normal', 'Normal', 'Normal', 'Normal', 'Normal', 'Import', 'Normal', 'Normal', 'Normal', 'Normal', 'Import', 'Normal', 'Import', 'Normal', 'Normal', 'Normal', 'Normal', 'Normal', 'Normal', 'Normal', 'Normal', 'Normal', 'Normal', 'Normal', 'Normal', 'Normal', 'Normal', 'Normal', 'Normal', 'Normal', 'Normal', 'Normal', 'Import', 'Normal', 'Normal', 'Normal', 'Normal', 'Normal', 'Normal', 'Normal', 'Normal', 'International Edition', 'Normal', 'Normal', 'Normal', 'Normal', 'Normal', 'Normal', 'Normal', 'Normal', 'Normal', 'Import', 'Normal', 'Normal', 'Normal', 'Normal', 'Normal', 'Normal', 'Normal', 'Normal', 'Normal', 'Normal', 'Normal', 'Normal', 'Normal', 'Import', 'Import', 'Normal', 'Normal', 'Normal', 'Normal', 'Illustrated', 'Normal', 'Normal', 'Normal', 'Normal', 'Import', 'Normal', 'Normal', 'Normal', 'Normal', 'Normal', 'Normal', 'Normal', 'Normal', 'Normal', 'Normal', 'Normal', 'Normal', 'Normal']\n"
     ]
    }
   ],
   "source": [
    "edition_type = []\n",
    "for edition in df3[\"Edition\"].str.split(\",-\", expand=True)[1].str.split(\", \"):\n",
    "#    print(edition)\n",
    "    if len(edition) == 1:\n",
    "        edition_type.append(\"Normal\")\n",
    "    else:\n",
    "        edition_type.append(edition[0].lstrip(\" \"))\n",
    "\n",
    "print(edition_type)\n"
   ]
  },
  {
   "cell_type": "code",
   "execution_count": 18,
   "metadata": {},
   "outputs": [],
   "source": [
    "df3[\"EditionType\"] = edition_type"
   ]
  },
  {
   "cell_type": "code",
   "execution_count": 28,
   "metadata": {},
   "outputs": [
    {
     "data": {
      "text/html": [
       "<div>\n",
       "<style scoped>\n",
       "    .dataframe tbody tr th:only-of-type {\n",
       "        vertical-align: middle;\n",
       "    }\n",
       "\n",
       "    .dataframe tbody tr th {\n",
       "        vertical-align: top;\n",
       "    }\n",
       "\n",
       "    .dataframe thead th {\n",
       "        text-align: right;\n",
       "    }\n",
       "</style>\n",
       "<table border=\"1\" class=\"dataframe\">\n",
       "  <thead>\n",
       "    <tr style=\"text-align: right;\">\n",
       "      <th></th>\n",
       "      <th>Title</th>\n",
       "      <th>Author</th>\n",
       "      <th>Edition</th>\n",
       "      <th>Reviews</th>\n",
       "      <th>Ratings</th>\n",
       "      <th>Synopsis</th>\n",
       "      <th>Genre</th>\n",
       "      <th>BookCategory</th>\n",
       "      <th>Price</th>\n",
       "      <th>CoverType</th>\n",
       "      <th>EditionType</th>\n",
       "    </tr>\n",
       "  </thead>\n",
       "  <tbody>\n",
       "    <tr>\n",
       "      <th>0</th>\n",
       "      <td>The Prisoner's Gold (The Hunters 3)</td>\n",
       "      <td>Chris Kuzneski</td>\n",
       "      <td>Paperback,- 10 Mar 2016</td>\n",
       "      <td>4.0</td>\n",
       "      <td>8</td>\n",
       "      <td>THE HUNTERS return in their third brilliant no...</td>\n",
       "      <td>Action &amp; Adventure (Books)</td>\n",
       "      <td>Action &amp; Adventure</td>\n",
       "      <td>220.00</td>\n",
       "      <td>Paperback</td>\n",
       "      <td>Normal</td>\n",
       "    </tr>\n",
       "    <tr>\n",
       "      <th>1</th>\n",
       "      <td>Guru Dutt: A Tragedy in Three Acts</td>\n",
       "      <td>Arun Khopkar</td>\n",
       "      <td>Paperback,- 7 Nov 2012</td>\n",
       "      <td>3.9</td>\n",
       "      <td>14</td>\n",
       "      <td>A layered portrait of a troubled genius for wh...</td>\n",
       "      <td>Cinema &amp; Broadcast (Books)</td>\n",
       "      <td>Biographies, Diaries &amp; True Accounts</td>\n",
       "      <td>202.93</td>\n",
       "      <td>Paperback</td>\n",
       "      <td>Normal</td>\n",
       "    </tr>\n",
       "    <tr>\n",
       "      <th>2</th>\n",
       "      <td>Leviathan (Penguin Classics)</td>\n",
       "      <td>Thomas Hobbes</td>\n",
       "      <td>Paperback,- 25 Feb 1982</td>\n",
       "      <td>4.8</td>\n",
       "      <td>6</td>\n",
       "      <td>\"During the time men live without a common Pow...</td>\n",
       "      <td>International Relations</td>\n",
       "      <td>Humour</td>\n",
       "      <td>299.00</td>\n",
       "      <td>Paperback</td>\n",
       "      <td>Normal</td>\n",
       "    </tr>\n",
       "    <tr>\n",
       "      <th>3</th>\n",
       "      <td>A Pocket Full of Rye (Miss Marple)</td>\n",
       "      <td>Agatha Christie</td>\n",
       "      <td>Paperback,- 5 Oct 2017</td>\n",
       "      <td>4.1</td>\n",
       "      <td>13</td>\n",
       "      <td>A handful of grain is found in the pocket of a...</td>\n",
       "      <td>Contemporary Fiction (Books)</td>\n",
       "      <td>Crime, Thriller &amp; Mystery</td>\n",
       "      <td>180.00</td>\n",
       "      <td>Paperback</td>\n",
       "      <td>Normal</td>\n",
       "    </tr>\n",
       "    <tr>\n",
       "      <th>4</th>\n",
       "      <td>LIFE 70 Years of Extraordinary Photography</td>\n",
       "      <td>Editors of Life</td>\n",
       "      <td>Hardcover,- 10 Oct 2006</td>\n",
       "      <td>5.0</td>\n",
       "      <td>1</td>\n",
       "      <td>For seven decades, \"Life\" has been thrilling t...</td>\n",
       "      <td>Photography Textbooks</td>\n",
       "      <td>Arts, Film &amp; Photography</td>\n",
       "      <td>965.62</td>\n",
       "      <td>Hardcover</td>\n",
       "      <td>Normal</td>\n",
       "    </tr>\n",
       "  </tbody>\n",
       "</table>\n",
       "</div>"
      ],
      "text/plain": [
       "                                        Title           Author  \\\n",
       "0         The Prisoner's Gold (The Hunters 3)   Chris Kuzneski   \n",
       "1          Guru Dutt: A Tragedy in Three Acts     Arun Khopkar   \n",
       "2                Leviathan (Penguin Classics)    Thomas Hobbes   \n",
       "3          A Pocket Full of Rye (Miss Marple)  Agatha Christie   \n",
       "4  LIFE 70 Years of Extraordinary Photography  Editors of Life   \n",
       "\n",
       "                   Edition  Reviews  Ratings  \\\n",
       "0  Paperback,- 10 Mar 2016      4.0        8   \n",
       "1   Paperback,- 7 Nov 2012      3.9       14   \n",
       "2  Paperback,- 25 Feb 1982      4.8        6   \n",
       "3   Paperback,- 5 Oct 2017      4.1       13   \n",
       "4  Hardcover,- 10 Oct 2006      5.0        1   \n",
       "\n",
       "                                            Synopsis  \\\n",
       "0  THE HUNTERS return in their third brilliant no...   \n",
       "1  A layered portrait of a troubled genius for wh...   \n",
       "2  \"During the time men live without a common Pow...   \n",
       "3  A handful of grain is found in the pocket of a...   \n",
       "4  For seven decades, \"Life\" has been thrilling t...   \n",
       "\n",
       "                          Genre                          BookCategory   Price  \\\n",
       "0    Action & Adventure (Books)                    Action & Adventure  220.00   \n",
       "1    Cinema & Broadcast (Books)  Biographies, Diaries & True Accounts  202.93   \n",
       "2       International Relations                                Humour  299.00   \n",
       "3  Contemporary Fiction (Books)             Crime, Thriller & Mystery  180.00   \n",
       "4         Photography Textbooks              Arts, Film & Photography  965.62   \n",
       "\n",
       "   CoverType EditionType  \n",
       "0  Paperback      Normal  \n",
       "1  Paperback      Normal  \n",
       "2  Paperback      Normal  \n",
       "3  Paperback      Normal  \n",
       "4  Hardcover      Normal  "
      ]
     },
     "execution_count": 28,
     "metadata": {},
     "output_type": "execute_result"
    }
   ],
   "source": [
    "df3.head()"
   ]
  },
  {
   "cell_type": "code",
   "execution_count": 31,
   "metadata": {},
   "outputs": [
    {
     "data": {
      "text/plain": [
       "Normal                   6808\n",
       "Import                    773\n",
       "Illustrated                70\n",
       "Unabridged                 23\n",
       "Special Edition            21\n",
       "Abridged                   20\n",
       "Student Edition            16\n",
       "International Edition      14\n",
       "Box set                    13\n",
       "Large Print                 9\n",
       "Audiobook                   8\n",
       "Deckle Edge                 8\n",
       "Print                       4\n",
       "Facsimile                   3\n",
       "Kindle eBook                2\n",
       "Deluxe Edition              1\n",
       "EveryBook                   1\n",
       "ADPCM                       1\n",
       "DVD                         1\n",
       "Bargain Price               1\n",
       "Name: EditionType, dtype: int64"
      ]
     },
     "execution_count": 31,
     "metadata": {},
     "output_type": "execute_result"
    }
   ],
   "source": [
    "df3[\"CoverType\"].value_counts()\n",
    "df3[\"EditionType\"].value_counts()"
   ]
  },
  {
   "cell_type": "code",
   "execution_count": 19,
   "metadata": {},
   "outputs": [
    {
     "data": {
      "text/plain": [
       "Normal                   6808\n",
       "Import                    773\n",
       "Illustrated                70\n",
       "Unabridged                 23\n",
       "Special Edition            21\n",
       "Abridged                   20\n",
       "Student Edition            16\n",
       "International Edition      14\n",
       "Box set                    13\n",
       "Large Print                 9\n",
       "Deckle Edge                 8\n",
       "Audiobook                   8\n",
       "Print                       4\n",
       "Facsimile                   3\n",
       "Kindle eBook                2\n",
       "ADPCM                       1\n",
       "Deluxe Edition              1\n",
       "DVD                         1\n",
       "Bargain Price               1\n",
       "EveryBook                   1\n",
       "Name: EditionType, dtype: int64"
      ]
     },
     "execution_count": 19,
     "metadata": {},
     "output_type": "execute_result"
    }
   ],
   "source": [
    "df3[\"EditionType\"] = df3[\"EditionType\"].str.lstrip(\" \")\n",
    "df3[\"EditionType\"].value_counts()"
   ]
  },
  {
   "cell_type": "code",
   "execution_count": 34,
   "metadata": {},
   "outputs": [
    {
     "data": {
      "text/html": [
       "<div>\n",
       "<style scoped>\n",
       "    .dataframe tbody tr th:only-of-type {\n",
       "        vertical-align: middle;\n",
       "    }\n",
       "\n",
       "    .dataframe tbody tr th {\n",
       "        vertical-align: top;\n",
       "    }\n",
       "\n",
       "    .dataframe thead th {\n",
       "        text-align: right;\n",
       "    }\n",
       "</style>\n",
       "<table border=\"1\" class=\"dataframe\">\n",
       "  <thead>\n",
       "    <tr style=\"text-align: right;\">\n",
       "      <th></th>\n",
       "      <th>Title</th>\n",
       "      <th>Author</th>\n",
       "      <th>Edition</th>\n",
       "      <th>Reviews</th>\n",
       "      <th>Ratings</th>\n",
       "      <th>Synopsis</th>\n",
       "      <th>Genre</th>\n",
       "      <th>BookCategory</th>\n",
       "      <th>Price</th>\n",
       "      <th>CoverType</th>\n",
       "      <th>EditionType</th>\n",
       "    </tr>\n",
       "  </thead>\n",
       "  <tbody>\n",
       "    <tr>\n",
       "      <th>0</th>\n",
       "      <td>The Prisoner's Gold (The Hunters 3)</td>\n",
       "      <td>Chris Kuzneski</td>\n",
       "      <td>Paperback,- 10 Mar 2016</td>\n",
       "      <td>4.0</td>\n",
       "      <td>8</td>\n",
       "      <td>THE HUNTERS return in their third brilliant no...</td>\n",
       "      <td>Action &amp; Adventure (Books)</td>\n",
       "      <td>Action &amp; Adventure</td>\n",
       "      <td>220.00</td>\n",
       "      <td>Paperback</td>\n",
       "      <td>Normal</td>\n",
       "    </tr>\n",
       "    <tr>\n",
       "      <th>1</th>\n",
       "      <td>Guru Dutt: A Tragedy in Three Acts</td>\n",
       "      <td>Arun Khopkar</td>\n",
       "      <td>Paperback,- 7 Nov 2012</td>\n",
       "      <td>3.9</td>\n",
       "      <td>14</td>\n",
       "      <td>A layered portrait of a troubled genius for wh...</td>\n",
       "      <td>Cinema &amp; Broadcast (Books)</td>\n",
       "      <td>Biographies, Diaries &amp; True Accounts</td>\n",
       "      <td>202.93</td>\n",
       "      <td>Paperback</td>\n",
       "      <td>Normal</td>\n",
       "    </tr>\n",
       "    <tr>\n",
       "      <th>2</th>\n",
       "      <td>Leviathan (Penguin Classics)</td>\n",
       "      <td>Thomas Hobbes</td>\n",
       "      <td>Paperback,- 25 Feb 1982</td>\n",
       "      <td>4.8</td>\n",
       "      <td>6</td>\n",
       "      <td>\"During the time men live without a common Pow...</td>\n",
       "      <td>International Relations</td>\n",
       "      <td>Humour</td>\n",
       "      <td>299.00</td>\n",
       "      <td>Paperback</td>\n",
       "      <td>Normal</td>\n",
       "    </tr>\n",
       "    <tr>\n",
       "      <th>3</th>\n",
       "      <td>A Pocket Full of Rye (Miss Marple)</td>\n",
       "      <td>Agatha Christie</td>\n",
       "      <td>Paperback,- 5 Oct 2017</td>\n",
       "      <td>4.1</td>\n",
       "      <td>13</td>\n",
       "      <td>A handful of grain is found in the pocket of a...</td>\n",
       "      <td>Contemporary Fiction (Books)</td>\n",
       "      <td>Crime, Thriller &amp; Mystery</td>\n",
       "      <td>180.00</td>\n",
       "      <td>Paperback</td>\n",
       "      <td>Normal</td>\n",
       "    </tr>\n",
       "    <tr>\n",
       "      <th>4</th>\n",
       "      <td>LIFE 70 Years of Extraordinary Photography</td>\n",
       "      <td>Editors of Life</td>\n",
       "      <td>Hardcover,- 10 Oct 2006</td>\n",
       "      <td>5.0</td>\n",
       "      <td>1</td>\n",
       "      <td>For seven decades, \"Life\" has been thrilling t...</td>\n",
       "      <td>Photography Textbooks</td>\n",
       "      <td>Arts, Film &amp; Photography</td>\n",
       "      <td>965.62</td>\n",
       "      <td>Hardcover</td>\n",
       "      <td>Normal</td>\n",
       "    </tr>\n",
       "  </tbody>\n",
       "</table>\n",
       "</div>"
      ],
      "text/plain": [
       "                                        Title           Author  \\\n",
       "0         The Prisoner's Gold (The Hunters 3)   Chris Kuzneski   \n",
       "1          Guru Dutt: A Tragedy in Three Acts     Arun Khopkar   \n",
       "2                Leviathan (Penguin Classics)    Thomas Hobbes   \n",
       "3          A Pocket Full of Rye (Miss Marple)  Agatha Christie   \n",
       "4  LIFE 70 Years of Extraordinary Photography  Editors of Life   \n",
       "\n",
       "                   Edition  Reviews  Ratings  \\\n",
       "0  Paperback,- 10 Mar 2016      4.0        8   \n",
       "1   Paperback,- 7 Nov 2012      3.9       14   \n",
       "2  Paperback,- 25 Feb 1982      4.8        6   \n",
       "3   Paperback,- 5 Oct 2017      4.1       13   \n",
       "4  Hardcover,- 10 Oct 2006      5.0        1   \n",
       "\n",
       "                                            Synopsis  \\\n",
       "0  THE HUNTERS return in their third brilliant no...   \n",
       "1  A layered portrait of a troubled genius for wh...   \n",
       "2  \"During the time men live without a common Pow...   \n",
       "3  A handful of grain is found in the pocket of a...   \n",
       "4  For seven decades, \"Life\" has been thrilling t...   \n",
       "\n",
       "                          Genre                          BookCategory   Price  \\\n",
       "0    Action & Adventure (Books)                    Action & Adventure  220.00   \n",
       "1    Cinema & Broadcast (Books)  Biographies, Diaries & True Accounts  202.93   \n",
       "2       International Relations                                Humour  299.00   \n",
       "3  Contemporary Fiction (Books)             Crime, Thriller & Mystery  180.00   \n",
       "4         Photography Textbooks              Arts, Film & Photography  965.62   \n",
       "\n",
       "   CoverType EditionType  \n",
       "0  Paperback      Normal  \n",
       "1  Paperback      Normal  \n",
       "2  Paperback      Normal  \n",
       "3  Paperback      Normal  \n",
       "4  Hardcover      Normal  "
      ]
     },
     "execution_count": 34,
     "metadata": {},
     "output_type": "execute_result"
    }
   ],
   "source": [
    "df3.head()"
   ]
  },
  {
   "cell_type": "markdown",
   "metadata": {},
   "source": [
    "Now we have extracted editiontype and covertype from the the column edition. There is \"year\" in the edition column which can be extracted and can be used and the publication year (Assuming it to be the publication year).\n",
    "\n",
    "In the below cells we try to extract year. Lets see how it goes."
   ]
  },
  {
   "cell_type": "code",
   "execution_count": 20,
   "metadata": {},
   "outputs": [
    {
     "data": {
      "text/html": [
       "<div>\n",
       "<style scoped>\n",
       "    .dataframe tbody tr th:only-of-type {\n",
       "        vertical-align: middle;\n",
       "    }\n",
       "\n",
       "    .dataframe tbody tr th {\n",
       "        vertical-align: top;\n",
       "    }\n",
       "\n",
       "    .dataframe thead th {\n",
       "        text-align: right;\n",
       "    }\n",
       "</style>\n",
       "<table border=\"1\" class=\"dataframe\">\n",
       "  <thead>\n",
       "    <tr style=\"text-align: right;\">\n",
       "      <th></th>\n",
       "      <th>Title</th>\n",
       "      <th>Author</th>\n",
       "      <th>Edition</th>\n",
       "      <th>Reviews</th>\n",
       "      <th>Ratings</th>\n",
       "      <th>Synopsis</th>\n",
       "      <th>Genre</th>\n",
       "      <th>BookCategory</th>\n",
       "      <th>Price</th>\n",
       "      <th>CoverType</th>\n",
       "      <th>EditionType</th>\n",
       "    </tr>\n",
       "  </thead>\n",
       "  <tbody>\n",
       "    <tr>\n",
       "      <th>169</th>\n",
       "      <td>Long Walk to Freedom: Illustrated Children's e...</td>\n",
       "      <td>Nelson Mandela</td>\n",
       "      <td>Paperback,- Abridged, Import</td>\n",
       "      <td>5.0</td>\n",
       "      <td>2</td>\n",
       "      <td>Long Walk to Freedom by Nelson Mandela is the ...</td>\n",
       "      <td>Action &amp; Adventure (Books)</td>\n",
       "      <td>Action &amp; Adventure</td>\n",
       "      <td>418.0</td>\n",
       "      <td>Paperback</td>\n",
       "      <td>Abridged</td>\n",
       "    </tr>\n",
       "    <tr>\n",
       "      <th>235</th>\n",
       "      <td>Alfred's Basic Adult All-in-One Course: Lesson...</td>\n",
       "      <td>Willard A. Palmer</td>\n",
       "      <td>Plastic Comb,- DVD, NTSC</td>\n",
       "      <td>3.9</td>\n",
       "      <td>6</td>\n",
       "      <td>Alfred's Basic Adult All-in-One Course is a gr...</td>\n",
       "      <td>Music Books</td>\n",
       "      <td>Arts, Film &amp; Photography</td>\n",
       "      <td>1453.0</td>\n",
       "      <td>Plastic Comb</td>\n",
       "      <td>DVD</td>\n",
       "    </tr>\n",
       "    <tr>\n",
       "      <th>582</th>\n",
       "      <td>Fundamentals of Drawing Portraits: A Practical...</td>\n",
       "      <td>Barrington Barber</td>\n",
       "      <td>Paperback,- Illustrated, Import</td>\n",
       "      <td>4.0</td>\n",
       "      <td>7</td>\n",
       "      <td>This book is essential for everyone who wants ...</td>\n",
       "      <td>Handicrafts, Decorative Arts &amp; Crafts (Books)</td>\n",
       "      <td>Arts, Film &amp; Photography</td>\n",
       "      <td>415.0</td>\n",
       "      <td>Paperback</td>\n",
       "      <td>Illustrated</td>\n",
       "    </tr>\n",
       "    <tr>\n",
       "      <th>972</th>\n",
       "      <td>Cartooning, The Professional Step-by-Step Guid...</td>\n",
       "      <td>Ivan Hissey, Curtis Tappenden</td>\n",
       "      <td>Paperback,- Illustrated, Import</td>\n",
       "      <td>3.0</td>\n",
       "      <td>1</td>\n",
       "      <td>A comprehensive and practical guide to drawing...</td>\n",
       "      <td>Handicrafts, Decorative Arts &amp; Crafts (Books)</td>\n",
       "      <td>Comics &amp; Mangas</td>\n",
       "      <td>445.0</td>\n",
       "      <td>Paperback</td>\n",
       "      <td>Illustrated</td>\n",
       "    </tr>\n",
       "    <tr>\n",
       "      <th>1233</th>\n",
       "      <td>Amma Tell Me About Raksha Bandhan!</td>\n",
       "      <td>Bhakti Mathur</td>\n",
       "      <td>Paperback,- Large Print, Import</td>\n",
       "      <td>5.0</td>\n",
       "      <td>1</td>\n",
       "      <td>A promise to love and to protect\\nIs sealed by...</td>\n",
       "      <td>Action &amp; Adventure (Books)</td>\n",
       "      <td>Action &amp; Adventure</td>\n",
       "      <td>277.0</td>\n",
       "      <td>Paperback</td>\n",
       "      <td>Large Print</td>\n",
       "    </tr>\n",
       "    <tr>\n",
       "      <th>1558</th>\n",
       "      <td>Figure it out for Yourself</td>\n",
       "      <td>James Hadley Chase</td>\n",
       "      <td>Hardcover,- Import, Facsimile</td>\n",
       "      <td>5.0</td>\n",
       "      <td>1</td>\n",
       "      <td>Serena Marshland was the fourth richest woman ...</td>\n",
       "      <td>Crime, Thriller &amp; Mystery (Books)</td>\n",
       "      <td>Crime, Thriller &amp; Mystery</td>\n",
       "      <td>100.0</td>\n",
       "      <td>Hardcover</td>\n",
       "      <td>Import</td>\n",
       "    </tr>\n",
       "    <tr>\n",
       "      <th>1605</th>\n",
       "      <td>An Introduction to Linguistics: Language, Gram...</td>\n",
       "      <td>Syal</td>\n",
       "      <td>Paperback,- Abridged, Audiobook, Box set</td>\n",
       "      <td>4.1</td>\n",
       "      <td>29</td>\n",
       "      <td>This compact and engagingly elegant text, now ...</td>\n",
       "      <td>Engineering</td>\n",
       "      <td>Language, Linguistics &amp; Writing</td>\n",
       "      <td>399.0</td>\n",
       "      <td>Paperback</td>\n",
       "      <td>Abridged</td>\n",
       "    </tr>\n",
       "    <tr>\n",
       "      <th>1631</th>\n",
       "      <td>Swimming: Swimming Made Easy: Beginner and Exp...</td>\n",
       "      <td>Ace McCloud</td>\n",
       "      <td>Paperback,- Large Print, Import</td>\n",
       "      <td>4.0</td>\n",
       "      <td>1</td>\n",
       "      <td>Are you tired of being a weak swimmer? Do less...</td>\n",
       "      <td>Swimming, Snorkelling &amp; Diving (Books)</td>\n",
       "      <td>Sports</td>\n",
       "      <td>709.0</td>\n",
       "      <td>Paperback</td>\n",
       "      <td>Large Print</td>\n",
       "    </tr>\n",
       "    <tr>\n",
       "      <th>1643</th>\n",
       "      <td>The Merchant of Venice (Text with Paraphrase) ...</td>\n",
       "      <td>William Shakespeare</td>\n",
       "      <td>Paperback,- Student Edition, Special Edition</td>\n",
       "      <td>3.9</td>\n",
       "      <td>58</td>\n",
       "      <td>Introduce the students to William Shakespeare’...</td>\n",
       "      <td>Theater</td>\n",
       "      <td>Arts, Film &amp; Photography</td>\n",
       "      <td>220.0</td>\n",
       "      <td>Paperback</td>\n",
       "      <td>Student Edition</td>\n",
       "    </tr>\n",
       "    <tr>\n",
       "      <th>1769</th>\n",
       "      <td>The Human Face of Big Data</td>\n",
       "      <td>Rick Smolan</td>\n",
       "      <td>Hardcover,- Abridged, Audiobook, Box set</td>\n",
       "      <td>5.0</td>\n",
       "      <td>1</td>\n",
       "      <td>The images and stories captured in The Human F...</td>\n",
       "      <td>Computer Science Books</td>\n",
       "      <td>Computing, Internet &amp; Digital Media</td>\n",
       "      <td>2248.0</td>\n",
       "      <td>Hardcover</td>\n",
       "      <td>Abridged</td>\n",
       "    </tr>\n",
       "    <tr>\n",
       "      <th>2101</th>\n",
       "      <td>Living Language Dothraki: A Conversational Lan...</td>\n",
       "      <td>David J. Peterson</td>\n",
       "      <td>Hardcover,- Audiobook, Unabridged</td>\n",
       "      <td>4.0</td>\n",
       "      <td>2</td>\n",
       "      <td>Fans of the hit HBO series Game of Thrones can...</td>\n",
       "      <td>Linguistics (Books)</td>\n",
       "      <td>Language, Linguistics &amp; Writing</td>\n",
       "      <td>798.0</td>\n",
       "      <td>Hardcover</td>\n",
       "      <td>Audiobook</td>\n",
       "    </tr>\n",
       "    <tr>\n",
       "      <th>2229</th>\n",
       "      <td>Wise and Otherwise: A salute to Life</td>\n",
       "      <td>Sudha Murty</td>\n",
       "      <td>Paperback,- Abridged, Audiobook, Large Print</td>\n",
       "      <td>4.5</td>\n",
       "      <td>342</td>\n",
       "      <td>Understanding human and human nature is one of...</td>\n",
       "      <td>Indian Writing (Books)</td>\n",
       "      <td>Biographies, Diaries &amp; True Accounts</td>\n",
       "      <td>188.0</td>\n",
       "      <td>Paperback</td>\n",
       "      <td>Abridged</td>\n",
       "    </tr>\n",
       "    <tr>\n",
       "      <th>2660</th>\n",
       "      <td>The Armada Legacy (Ben Hope)</td>\n",
       "      <td>Scott Mariani</td>\n",
       "      <td>Paperback,- Abridged, Audiobook, Box set</td>\n",
       "      <td>4.0</td>\n",
       "      <td>2</td>\n",
       "      <td>Former SAS major Ben Hope is relaxing at his h...</td>\n",
       "      <td>Action &amp; Adventure (Books)</td>\n",
       "      <td>Action &amp; Adventure</td>\n",
       "      <td>270.0</td>\n",
       "      <td>Paperback</td>\n",
       "      <td>Abridged</td>\n",
       "    </tr>\n",
       "    <tr>\n",
       "      <th>2779</th>\n",
       "      <td>Madhubani Art: Indian Art Series</td>\n",
       "      <td>Bharti Dayal</td>\n",
       "      <td>Paperback,- Illustrated, Import</td>\n",
       "      <td>5.0</td>\n",
       "      <td>4</td>\n",
       "      <td>Madhubani art's origin is believed to go back ...</td>\n",
       "      <td>Painting Books</td>\n",
       "      <td>Arts, Film &amp; Photography</td>\n",
       "      <td>805.0</td>\n",
       "      <td>Paperback</td>\n",
       "      <td>Illustrated</td>\n",
       "    </tr>\n",
       "    <tr>\n",
       "      <th>3511</th>\n",
       "      <td>Frank Miller's Sin City Volume 2: A Dame to Ki...</td>\n",
       "      <td>Frank Miller</td>\n",
       "      <td>Paperback,- Abridged, Audiobook, Box set</td>\n",
       "      <td>5.0</td>\n",
       "      <td>3</td>\n",
       "      <td>The second volume of Frank Miller's signature ...</td>\n",
       "      <td>Science &amp; Mathematics</td>\n",
       "      <td>Comics &amp; Mangas</td>\n",
       "      <td>1499.0</td>\n",
       "      <td>Paperback</td>\n",
       "      <td>Abridged</td>\n",
       "    </tr>\n",
       "    <tr>\n",
       "      <th>3875</th>\n",
       "      <td>While the Light Lasts (The Agatha Christie Col...</td>\n",
       "      <td>Agatha Christie</td>\n",
       "      <td>Hardcover,- Facsimile, Import</td>\n",
       "      <td>3.5</td>\n",
       "      <td>7</td>\n",
       "      <td>The very last Agatha Christie book, including ...</td>\n",
       "      <td>Short Stories (Books)</td>\n",
       "      <td>Crime, Thriller &amp; Mystery</td>\n",
       "      <td>896.0</td>\n",
       "      <td>Hardcover</td>\n",
       "      <td>Facsimile</td>\n",
       "    </tr>\n",
       "    <tr>\n",
       "      <th>3960</th>\n",
       "      <td>Turning Points : A Journey Through Challanges:...</td>\n",
       "      <td>A.P.J. Abdul Kalam</td>\n",
       "      <td>Paperback,- Illustrated, Large Print, Audiobook</td>\n",
       "      <td>4.7</td>\n",
       "      <td>379</td>\n",
       "      <td>It was like any other day on the Anna Universi...</td>\n",
       "      <td>Biographies &amp; Autobiographies (Books)</td>\n",
       "      <td>Biographies, Diaries &amp; True Accounts</td>\n",
       "      <td>123.0</td>\n",
       "      <td>Paperback</td>\n",
       "      <td>Illustrated</td>\n",
       "    </tr>\n",
       "    <tr>\n",
       "      <th>4036</th>\n",
       "      <td>Mountaineering: The Freedom of the Hills</td>\n",
       "      <td>The Mountaineers</td>\n",
       "      <td>Paperback,- Illustrated, Import</td>\n",
       "      <td>5.0</td>\n",
       "      <td>1</td>\n",
       "      <td>For nearly 60 years it's been revered as the \"...</td>\n",
       "      <td>Outdoor Survival Skills (Books)</td>\n",
       "      <td>Sports</td>\n",
       "      <td>1826.0</td>\n",
       "      <td>Paperback</td>\n",
       "      <td>Illustrated</td>\n",
       "    </tr>\n",
       "    <tr>\n",
       "      <th>4403</th>\n",
       "      <td>Indian Tibet Tibetan India: The Cultural Legac...</td>\n",
       "      <td>Peter Van Ham</td>\n",
       "      <td>Hardcover,- Illustrated, Import</td>\n",
       "      <td>4.4</td>\n",
       "      <td>2</td>\n",
       "      <td>Inspired by the first cultural expedition into...</td>\n",
       "      <td>Travel &amp; Holiday Guides (Books)</td>\n",
       "      <td>Arts, Film &amp; Photography</td>\n",
       "      <td>1542.0</td>\n",
       "      <td>Hardcover</td>\n",
       "      <td>Illustrated</td>\n",
       "    </tr>\n",
       "    <tr>\n",
       "      <th>5117</th>\n",
       "      <td>Pashu</td>\n",
       "      <td>Devdutt Pattanaik</td>\n",
       "      <td>Paperback,- Abridged, Audiobook, Box set</td>\n",
       "      <td>3.8</td>\n",
       "      <td>52</td>\n",
       "      <td>Brilliant introduction to animals in Indian my...</td>\n",
       "      <td>Humanities</td>\n",
       "      <td>Biographies, Diaries &amp; True Accounts</td>\n",
       "      <td>180.0</td>\n",
       "      <td>Paperback</td>\n",
       "      <td>Abridged</td>\n",
       "    </tr>\n",
       "    <tr>\n",
       "      <th>5860</th>\n",
       "      <td>Sanskrit is Fun: A Sanskrit Coursebook for Beg...</td>\n",
       "      <td>Warwick Jessup</td>\n",
       "      <td>Paperback,- Illustrated, Large Print</td>\n",
       "      <td>3.0</td>\n",
       "      <td>8</td>\n",
       "      <td>The first group of books entitled Sanskrit is ...</td>\n",
       "      <td>Language Learning &amp; Teaching (Books)</td>\n",
       "      <td>Language, Linguistics &amp; Writing</td>\n",
       "      <td>127.0</td>\n",
       "      <td>Paperback</td>\n",
       "      <td>Illustrated</td>\n",
       "    </tr>\n",
       "    <tr>\n",
       "      <th>6334</th>\n",
       "      <td>34 Bubblegums and Candies</td>\n",
       "      <td>Preeti Shenoy</td>\n",
       "      <td>Paperback,- Audiobook, Illustrated, Large Print</td>\n",
       "      <td>3.6</td>\n",
       "      <td>156</td>\n",
       "      <td>An anthology of some light-minded and heart-wa...</td>\n",
       "      <td>Indian Writing (Books)</td>\n",
       "      <td>Romance</td>\n",
       "      <td>NaN</td>\n",
       "      <td>Paperback</td>\n",
       "      <td>Audiobook</td>\n",
       "    </tr>\n",
       "    <tr>\n",
       "      <th>6415</th>\n",
       "      <td>Gandhi: My Life is My Message</td>\n",
       "      <td>Jason Quinn, Sachin Nagar</td>\n",
       "      <td>Paperback,- Import, Illustrated</td>\n",
       "      <td>4.0</td>\n",
       "      <td>11</td>\n",
       "      <td>My life is my message. Mohandas Gandhi was a f...</td>\n",
       "      <td>Comics &amp; Mangas (Books)</td>\n",
       "      <td>Comics &amp; Mangas</td>\n",
       "      <td>NaN</td>\n",
       "      <td>Paperback</td>\n",
       "      <td>Import</td>\n",
       "    </tr>\n",
       "    <tr>\n",
       "      <th>6633</th>\n",
       "      <td>Measurement</td>\n",
       "      <td>Paul Lockhart</td>\n",
       "      <td>Paperback,- Audiobook, Box set, Large Print</td>\n",
       "      <td>5.0</td>\n",
       "      <td>2</td>\n",
       "      <td>For seven years, Paul Lockhart's A Mathematici...</td>\n",
       "      <td>Geometry</td>\n",
       "      <td>Politics</td>\n",
       "      <td>NaN</td>\n",
       "      <td>Paperback</td>\n",
       "      <td>Audiobook</td>\n",
       "    </tr>\n",
       "    <tr>\n",
       "      <th>6816</th>\n",
       "      <td>The Spy Chronicles: RAW, ISI and the Illusion ...</td>\n",
       "      <td>A.S. Dulat</td>\n",
       "      <td>Hardcover,- Illustrated, Import</td>\n",
       "      <td>3.5</td>\n",
       "      <td>132</td>\n",
       "      <td>Pointing to the horizon where the sea and sky ...</td>\n",
       "      <td>Politics (Books)</td>\n",
       "      <td>Politics</td>\n",
       "      <td>NaN</td>\n",
       "      <td>Hardcover</td>\n",
       "      <td>Illustrated</td>\n",
       "    </tr>\n",
       "    <tr>\n",
       "      <th>7192</th>\n",
       "      <td>Sachin Tendulkar: The Man Cricket Loved Back</td>\n",
       "      <td>ESPN Cricinfo</td>\n",
       "      <td>Paperback,- Abridged, Audiobook, Large Print</td>\n",
       "      <td>4.6</td>\n",
       "      <td>124</td>\n",
       "      <td>\"Sachin Sachin\" will reverberate in my ears ti...</td>\n",
       "      <td>Biographies &amp; Autobiographies (Books)</td>\n",
       "      <td>Sports</td>\n",
       "      <td>NaN</td>\n",
       "      <td>Paperback</td>\n",
       "      <td>Abridged</td>\n",
       "    </tr>\n",
       "    <tr>\n",
       "      <th>7416</th>\n",
       "      <td>Max Payne 3: The Complete Series</td>\n",
       "      <td>Sam Lake</td>\n",
       "      <td>Hardcover,- Abridged, Audiobook, Box set</td>\n",
       "      <td>4.6</td>\n",
       "      <td>3</td>\n",
       "      <td>Co-authored by the writers of the Max Payne fr...</td>\n",
       "      <td>Comics</td>\n",
       "      <td>Comics &amp; Mangas</td>\n",
       "      <td>NaN</td>\n",
       "      <td>Hardcover</td>\n",
       "      <td>Abridged</td>\n",
       "    </tr>\n",
       "    <tr>\n",
       "      <th>7428</th>\n",
       "      <td>Pain is Really Strange</td>\n",
       "      <td>Steve Haines</td>\n",
       "      <td>Paperback,- Illustrated, Import</td>\n",
       "      <td>5.0</td>\n",
       "      <td>1</td>\n",
       "      <td>Answering questions such as 'how can I change ...</td>\n",
       "      <td>Healthy Living &amp; Wellness (Books)</td>\n",
       "      <td>Comics &amp; Mangas</td>\n",
       "      <td>NaN</td>\n",
       "      <td>Paperback</td>\n",
       "      <td>Illustrated</td>\n",
       "    </tr>\n",
       "    <tr>\n",
       "      <th>7645</th>\n",
       "      <td>Frank Miller's Sin City Volume 2: A Dame to Ki...</td>\n",
       "      <td>Frank Miller</td>\n",
       "      <td>Paperback,- Abridged, Audiobook, Box set</td>\n",
       "      <td>5.0</td>\n",
       "      <td>3</td>\n",
       "      <td>The second volume of Frank Miller's signature ...</td>\n",
       "      <td>Science &amp; Mathematics</td>\n",
       "      <td>Humour</td>\n",
       "      <td>NaN</td>\n",
       "      <td>Paperback</td>\n",
       "      <td>Abridged</td>\n",
       "    </tr>\n",
       "    <tr>\n",
       "      <th>7778</th>\n",
       "      <td>Cartooning, The Professional Step-by-Step Guid...</td>\n",
       "      <td>Ivan Hissey, Curtis Tappenden</td>\n",
       "      <td>Paperback,- Illustrated, Import</td>\n",
       "      <td>3.0</td>\n",
       "      <td>1</td>\n",
       "      <td>A comprehensive and practical guide to drawing...</td>\n",
       "      <td>Handicrafts, Decorative Arts &amp; Crafts (Books)</td>\n",
       "      <td>Computing, Internet &amp; Digital Media</td>\n",
       "      <td>NaN</td>\n",
       "      <td>Paperback</td>\n",
       "      <td>Illustrated</td>\n",
       "    </tr>\n",
       "  </tbody>\n",
       "</table>\n",
       "</div>"
      ],
      "text/plain": [
       "                                                  Title  \\\n",
       "169   Long Walk to Freedom: Illustrated Children's e...   \n",
       "235   Alfred's Basic Adult All-in-One Course: Lesson...   \n",
       "582   Fundamentals of Drawing Portraits: A Practical...   \n",
       "972   Cartooning, The Professional Step-by-Step Guid...   \n",
       "1233                 Amma Tell Me About Raksha Bandhan!   \n",
       "1558                         Figure it out for Yourself   \n",
       "1605  An Introduction to Linguistics: Language, Gram...   \n",
       "1631  Swimming: Swimming Made Easy: Beginner and Exp...   \n",
       "1643  The Merchant of Venice (Text with Paraphrase) ...   \n",
       "1769                         The Human Face of Big Data   \n",
       "2101  Living Language Dothraki: A Conversational Lan...   \n",
       "2229               Wise and Otherwise: A salute to Life   \n",
       "2660                       The Armada Legacy (Ben Hope)   \n",
       "2779                   Madhubani Art: Indian Art Series   \n",
       "3511  Frank Miller's Sin City Volume 2: A Dame to Ki...   \n",
       "3875  While the Light Lasts (The Agatha Christie Col...   \n",
       "3960  Turning Points : A Journey Through Challanges:...   \n",
       "4036           Mountaineering: The Freedom of the Hills   \n",
       "4403  Indian Tibet Tibetan India: The Cultural Legac...   \n",
       "5117                                              Pashu   \n",
       "5860  Sanskrit is Fun: A Sanskrit Coursebook for Beg...   \n",
       "6334                          34 Bubblegums and Candies   \n",
       "6415                      Gandhi: My Life is My Message   \n",
       "6633                                        Measurement   \n",
       "6816  The Spy Chronicles: RAW, ISI and the Illusion ...   \n",
       "7192       Sachin Tendulkar: The Man Cricket Loved Back   \n",
       "7416                   Max Payne 3: The Complete Series   \n",
       "7428                             Pain is Really Strange   \n",
       "7645  Frank Miller's Sin City Volume 2: A Dame to Ki...   \n",
       "7778  Cartooning, The Professional Step-by-Step Guid...   \n",
       "\n",
       "                             Author  \\\n",
       "169                  Nelson Mandela   \n",
       "235               Willard A. Palmer   \n",
       "582               Barrington Barber   \n",
       "972   Ivan Hissey, Curtis Tappenden   \n",
       "1233                  Bhakti Mathur   \n",
       "1558             James Hadley Chase   \n",
       "1605                           Syal   \n",
       "1631                    Ace McCloud   \n",
       "1643            William Shakespeare   \n",
       "1769                    Rick Smolan   \n",
       "2101              David J. Peterson   \n",
       "2229                    Sudha Murty   \n",
       "2660                  Scott Mariani   \n",
       "2779                   Bharti Dayal   \n",
       "3511                   Frank Miller   \n",
       "3875                Agatha Christie   \n",
       "3960             A.P.J. Abdul Kalam   \n",
       "4036               The Mountaineers   \n",
       "4403                  Peter Van Ham   \n",
       "5117              Devdutt Pattanaik   \n",
       "5860                 Warwick Jessup   \n",
       "6334                  Preeti Shenoy   \n",
       "6415      Jason Quinn, Sachin Nagar   \n",
       "6633                  Paul Lockhart   \n",
       "6816                     A.S. Dulat   \n",
       "7192                  ESPN Cricinfo   \n",
       "7416                       Sam Lake   \n",
       "7428                   Steve Haines   \n",
       "7645                   Frank Miller   \n",
       "7778  Ivan Hissey, Curtis Tappenden   \n",
       "\n",
       "                                              Edition  Reviews  Ratings  \\\n",
       "169                      Paperback,- Abridged, Import      5.0        2   \n",
       "235                          Plastic Comb,- DVD, NTSC      3.9        6   \n",
       "582                   Paperback,- Illustrated, Import      4.0        7   \n",
       "972                   Paperback,- Illustrated, Import      3.0        1   \n",
       "1233                  Paperback,- Large Print, Import      5.0        1   \n",
       "1558                    Hardcover,- Import, Facsimile      5.0        1   \n",
       "1605         Paperback,- Abridged, Audiobook, Box set      4.1       29   \n",
       "1631                  Paperback,- Large Print, Import      4.0        1   \n",
       "1643     Paperback,- Student Edition, Special Edition      3.9       58   \n",
       "1769         Hardcover,- Abridged, Audiobook, Box set      5.0        1   \n",
       "2101                Hardcover,- Audiobook, Unabridged      4.0        2   \n",
       "2229     Paperback,- Abridged, Audiobook, Large Print      4.5      342   \n",
       "2660         Paperback,- Abridged, Audiobook, Box set      4.0        2   \n",
       "2779                  Paperback,- Illustrated, Import      5.0        4   \n",
       "3511         Paperback,- Abridged, Audiobook, Box set      5.0        3   \n",
       "3875                    Hardcover,- Facsimile, Import      3.5        7   \n",
       "3960  Paperback,- Illustrated, Large Print, Audiobook      4.7      379   \n",
       "4036                  Paperback,- Illustrated, Import      5.0        1   \n",
       "4403                  Hardcover,- Illustrated, Import      4.4        2   \n",
       "5117         Paperback,- Abridged, Audiobook, Box set      3.8       52   \n",
       "5860             Paperback,- Illustrated, Large Print      3.0        8   \n",
       "6334  Paperback,- Audiobook, Illustrated, Large Print      3.6      156   \n",
       "6415                  Paperback,- Import, Illustrated      4.0       11   \n",
       "6633      Paperback,- Audiobook, Box set, Large Print      5.0        2   \n",
       "6816                  Hardcover,- Illustrated, Import      3.5      132   \n",
       "7192     Paperback,- Abridged, Audiobook, Large Print      4.6      124   \n",
       "7416         Hardcover,- Abridged, Audiobook, Box set      4.6        3   \n",
       "7428                  Paperback,- Illustrated, Import      5.0        1   \n",
       "7645         Paperback,- Abridged, Audiobook, Box set      5.0        3   \n",
       "7778                  Paperback,- Illustrated, Import      3.0        1   \n",
       "\n",
       "                                               Synopsis  \\\n",
       "169   Long Walk to Freedom by Nelson Mandela is the ...   \n",
       "235   Alfred's Basic Adult All-in-One Course is a gr...   \n",
       "582   This book is essential for everyone who wants ...   \n",
       "972   A comprehensive and practical guide to drawing...   \n",
       "1233  A promise to love and to protect\\nIs sealed by...   \n",
       "1558  Serena Marshland was the fourth richest woman ...   \n",
       "1605  This compact and engagingly elegant text, now ...   \n",
       "1631  Are you tired of being a weak swimmer? Do less...   \n",
       "1643  Introduce the students to William Shakespeare’...   \n",
       "1769  The images and stories captured in The Human F...   \n",
       "2101  Fans of the hit HBO series Game of Thrones can...   \n",
       "2229  Understanding human and human nature is one of...   \n",
       "2660  Former SAS major Ben Hope is relaxing at his h...   \n",
       "2779  Madhubani art's origin is believed to go back ...   \n",
       "3511  The second volume of Frank Miller's signature ...   \n",
       "3875  The very last Agatha Christie book, including ...   \n",
       "3960  It was like any other day on the Anna Universi...   \n",
       "4036  For nearly 60 years it's been revered as the \"...   \n",
       "4403  Inspired by the first cultural expedition into...   \n",
       "5117  Brilliant introduction to animals in Indian my...   \n",
       "5860  The first group of books entitled Sanskrit is ...   \n",
       "6334  An anthology of some light-minded and heart-wa...   \n",
       "6415  My life is my message. Mohandas Gandhi was a f...   \n",
       "6633  For seven years, Paul Lockhart's A Mathematici...   \n",
       "6816  Pointing to the horizon where the sea and sky ...   \n",
       "7192  \"Sachin Sachin\" will reverberate in my ears ti...   \n",
       "7416  Co-authored by the writers of the Max Payne fr...   \n",
       "7428  Answering questions such as 'how can I change ...   \n",
       "7645  The second volume of Frank Miller's signature ...   \n",
       "7778  A comprehensive and practical guide to drawing...   \n",
       "\n",
       "                                              Genre  \\\n",
       "169                      Action & Adventure (Books)   \n",
       "235                                     Music Books   \n",
       "582   Handicrafts, Decorative Arts & Crafts (Books)   \n",
       "972   Handicrafts, Decorative Arts & Crafts (Books)   \n",
       "1233                     Action & Adventure (Books)   \n",
       "1558              Crime, Thriller & Mystery (Books)   \n",
       "1605                                    Engineering   \n",
       "1631         Swimming, Snorkelling & Diving (Books)   \n",
       "1643                                        Theater   \n",
       "1769                         Computer Science Books   \n",
       "2101                            Linguistics (Books)   \n",
       "2229                         Indian Writing (Books)   \n",
       "2660                     Action & Adventure (Books)   \n",
       "2779                                 Painting Books   \n",
       "3511                          Science & Mathematics   \n",
       "3875                          Short Stories (Books)   \n",
       "3960          Biographies & Autobiographies (Books)   \n",
       "4036                Outdoor Survival Skills (Books)   \n",
       "4403                Travel & Holiday Guides (Books)   \n",
       "5117                                     Humanities   \n",
       "5860           Language Learning & Teaching (Books)   \n",
       "6334                         Indian Writing (Books)   \n",
       "6415                        Comics & Mangas (Books)   \n",
       "6633                                       Geometry   \n",
       "6816                               Politics (Books)   \n",
       "7192          Biographies & Autobiographies (Books)   \n",
       "7416                                         Comics   \n",
       "7428              Healthy Living & Wellness (Books)   \n",
       "7645                          Science & Mathematics   \n",
       "7778  Handicrafts, Decorative Arts & Crafts (Books)   \n",
       "\n",
       "                              BookCategory   Price     CoverType  \\\n",
       "169                     Action & Adventure   418.0     Paperback   \n",
       "235               Arts, Film & Photography  1453.0  Plastic Comb   \n",
       "582               Arts, Film & Photography   415.0     Paperback   \n",
       "972                        Comics & Mangas   445.0     Paperback   \n",
       "1233                    Action & Adventure   277.0     Paperback   \n",
       "1558             Crime, Thriller & Mystery   100.0     Hardcover   \n",
       "1605       Language, Linguistics & Writing   399.0     Paperback   \n",
       "1631                                Sports   709.0     Paperback   \n",
       "1643              Arts, Film & Photography   220.0     Paperback   \n",
       "1769   Computing, Internet & Digital Media  2248.0     Hardcover   \n",
       "2101       Language, Linguistics & Writing   798.0     Hardcover   \n",
       "2229  Biographies, Diaries & True Accounts   188.0     Paperback   \n",
       "2660                    Action & Adventure   270.0     Paperback   \n",
       "2779              Arts, Film & Photography   805.0     Paperback   \n",
       "3511                       Comics & Mangas  1499.0     Paperback   \n",
       "3875             Crime, Thriller & Mystery   896.0     Hardcover   \n",
       "3960  Biographies, Diaries & True Accounts   123.0     Paperback   \n",
       "4036                                Sports  1826.0     Paperback   \n",
       "4403              Arts, Film & Photography  1542.0     Hardcover   \n",
       "5117  Biographies, Diaries & True Accounts   180.0     Paperback   \n",
       "5860       Language, Linguistics & Writing   127.0     Paperback   \n",
       "6334                               Romance     NaN     Paperback   \n",
       "6415                       Comics & Mangas     NaN     Paperback   \n",
       "6633                              Politics     NaN     Paperback   \n",
       "6816                              Politics     NaN     Hardcover   \n",
       "7192                                Sports     NaN     Paperback   \n",
       "7416                       Comics & Mangas     NaN     Hardcover   \n",
       "7428                       Comics & Mangas     NaN     Paperback   \n",
       "7645                                Humour     NaN     Paperback   \n",
       "7778   Computing, Internet & Digital Media     NaN     Paperback   \n",
       "\n",
       "          EditionType  \n",
       "169          Abridged  \n",
       "235               DVD  \n",
       "582       Illustrated  \n",
       "972       Illustrated  \n",
       "1233      Large Print  \n",
       "1558           Import  \n",
       "1605         Abridged  \n",
       "1631      Large Print  \n",
       "1643  Student Edition  \n",
       "1769         Abridged  \n",
       "2101        Audiobook  \n",
       "2229         Abridged  \n",
       "2660         Abridged  \n",
       "2779      Illustrated  \n",
       "3511         Abridged  \n",
       "3875        Facsimile  \n",
       "3960      Illustrated  \n",
       "4036      Illustrated  \n",
       "4403      Illustrated  \n",
       "5117         Abridged  \n",
       "5860      Illustrated  \n",
       "6334        Audiobook  \n",
       "6415           Import  \n",
       "6633        Audiobook  \n",
       "6816      Illustrated  \n",
       "7192         Abridged  \n",
       "7416         Abridged  \n",
       "7428      Illustrated  \n",
       "7645         Abridged  \n",
       "7778      Illustrated  "
      ]
     },
     "execution_count": 20,
     "metadata": {},
     "output_type": "execute_result"
    }
   ],
   "source": [
    "# df3[df3[\"Edition\"].str.split(\" \", expand=True)[7].isna() == False]\n",
    "# df3[\"Edition\"].str.split(\",-\", expand=True)\n",
    "df3[df3[\"Edition\"].str.slice(start=-4).str.isdigit() == False]"
   ]
  },
  {
   "cell_type": "markdown",
   "metadata": {},
   "source": [
    "OK... So We are able to extract year from the \"Edition\" column. But there are around 30 records in which year is not provided. Looking at the records, we see that there are 9 records from the test data as well which does not have year.\n",
    "\n",
    "One way I can think of to deal with these records is to provide mean of years as year to these records. Now sure how it will work out but we can try it out."
   ]
  },
  {
   "cell_type": "code",
   "execution_count": 21,
   "metadata": {},
   "outputs": [],
   "source": [
    "publishYear = df3[\"Edition\"].str.slice(start=-4)\n",
    "# round(publishYear[publishYear.str.isdigit() == True].astype(int).mean())\n",
    "\n",
    "publishYear[publishYear.str.isdigit() == False] = round(publishYear[publishYear.str.isdigit() == True].astype(int).mean())\n",
    "# type(publishYear[publishYear.str.contains(\"set\")][1605])\n",
    "\n",
    "df3[\"PublishYear\"] = publishYear.astype(int)"
   ]
  },
  {
   "cell_type": "code",
   "execution_count": 22,
   "metadata": {},
   "outputs": [
    {
     "data": {
      "text/plain": [
       "array([2016, 2012, 1982, 2017, 2006, 2009, 2018, 2015, 2013, 1999, 2002,\n",
       "       2011, 1991, 2014, 1989, 2000, 2005, 2019, 2008, 2004, 2010, 2007,\n",
       "       2001, 1969, 1993, 1992, 2003, 1996, 1997, 1995, 1987, 1986, 1990,\n",
       "       1988, 1981, 1976, 1994, 1998, 1977, 1974, 1983, 1971, 1985, 1978,\n",
       "       1964, 1984, 1980, 1979, 1960, 1970, 1975, 1905, 1900, 1961, 1925,\n",
       "       1973, 1942, 1972], dtype=int64)"
      ]
     },
     "execution_count": 22,
     "metadata": {},
     "output_type": "execute_result"
    }
   ],
   "source": [
    "df3[\"PublishYear\"].unique()"
   ]
  },
  {
   "cell_type": "code",
   "execution_count": 149,
   "metadata": {},
   "outputs": [
    {
     "data": {
      "text/html": [
       "<div>\n",
       "<style scoped>\n",
       "    .dataframe tbody tr th:only-of-type {\n",
       "        vertical-align: middle;\n",
       "    }\n",
       "\n",
       "    .dataframe tbody tr th {\n",
       "        vertical-align: top;\n",
       "    }\n",
       "\n",
       "    .dataframe thead th {\n",
       "        text-align: right;\n",
       "    }\n",
       "</style>\n",
       "<table border=\"1\" class=\"dataframe\">\n",
       "  <thead>\n",
       "    <tr style=\"text-align: right;\">\n",
       "      <th></th>\n",
       "      <th>Title</th>\n",
       "      <th>Author</th>\n",
       "      <th>Edition</th>\n",
       "      <th>Reviews</th>\n",
       "      <th>Ratings</th>\n",
       "      <th>Synopsis</th>\n",
       "      <th>Genre</th>\n",
       "      <th>BookCategory</th>\n",
       "      <th>Price</th>\n",
       "      <th>CoverType</th>\n",
       "      <th>EditionType</th>\n",
       "      <th>PublishYear</th>\n",
       "    </tr>\n",
       "  </thead>\n",
       "  <tbody>\n",
       "    <tr>\n",
       "      <th>0</th>\n",
       "      <td>The Prisoner's Gold (The Hunters 3)</td>\n",
       "      <td>Chris Kuzneski</td>\n",
       "      <td>Paperback,- 10 Mar 2016</td>\n",
       "      <td>4.0</td>\n",
       "      <td>8</td>\n",
       "      <td>THE HUNTERS return in their third brilliant no...</td>\n",
       "      <td>Action &amp; Adventure (Books)</td>\n",
       "      <td>Action &amp; Adventure</td>\n",
       "      <td>220.00</td>\n",
       "      <td>Paperback</td>\n",
       "      <td>Normal</td>\n",
       "      <td>2016</td>\n",
       "    </tr>\n",
       "    <tr>\n",
       "      <th>1</th>\n",
       "      <td>Guru Dutt: A Tragedy in Three Acts</td>\n",
       "      <td>Arun Khopkar</td>\n",
       "      <td>Paperback,- 7 Nov 2012</td>\n",
       "      <td>3.9</td>\n",
       "      <td>14</td>\n",
       "      <td>A layered portrait of a troubled genius for wh...</td>\n",
       "      <td>Cinema &amp; Broadcast (Books)</td>\n",
       "      <td>Biographies, Diaries &amp; True Accounts</td>\n",
       "      <td>202.93</td>\n",
       "      <td>Paperback</td>\n",
       "      <td>Normal</td>\n",
       "      <td>2012</td>\n",
       "    </tr>\n",
       "    <tr>\n",
       "      <th>2</th>\n",
       "      <td>Leviathan (Penguin Classics)</td>\n",
       "      <td>Thomas Hobbes</td>\n",
       "      <td>Paperback,- 25 Feb 1982</td>\n",
       "      <td>4.8</td>\n",
       "      <td>6</td>\n",
       "      <td>\"During the time men live without a common Pow...</td>\n",
       "      <td>International Relations</td>\n",
       "      <td>Humour</td>\n",
       "      <td>299.00</td>\n",
       "      <td>Paperback</td>\n",
       "      <td>Normal</td>\n",
       "      <td>1982</td>\n",
       "    </tr>\n",
       "    <tr>\n",
       "      <th>3</th>\n",
       "      <td>A Pocket Full of Rye (Miss Marple)</td>\n",
       "      <td>Agatha Christie</td>\n",
       "      <td>Paperback,- 5 Oct 2017</td>\n",
       "      <td>4.1</td>\n",
       "      <td>13</td>\n",
       "      <td>A handful of grain is found in the pocket of a...</td>\n",
       "      <td>Contemporary Fiction (Books)</td>\n",
       "      <td>Crime, Thriller &amp; Mystery</td>\n",
       "      <td>180.00</td>\n",
       "      <td>Paperback</td>\n",
       "      <td>Normal</td>\n",
       "      <td>2017</td>\n",
       "    </tr>\n",
       "    <tr>\n",
       "      <th>4</th>\n",
       "      <td>LIFE 70 Years of Extraordinary Photography</td>\n",
       "      <td>Editors of Life</td>\n",
       "      <td>Hardcover,- 10 Oct 2006</td>\n",
       "      <td>5.0</td>\n",
       "      <td>1</td>\n",
       "      <td>For seven decades, \"Life\" has been thrilling t...</td>\n",
       "      <td>Photography Textbooks</td>\n",
       "      <td>Arts, Film &amp; Photography</td>\n",
       "      <td>965.62</td>\n",
       "      <td>Hardcover</td>\n",
       "      <td>Normal</td>\n",
       "      <td>2006</td>\n",
       "    </tr>\n",
       "  </tbody>\n",
       "</table>\n",
       "</div>"
      ],
      "text/plain": [
       "                                        Title           Author  \\\n",
       "0         The Prisoner's Gold (The Hunters 3)   Chris Kuzneski   \n",
       "1          Guru Dutt: A Tragedy in Three Acts     Arun Khopkar   \n",
       "2                Leviathan (Penguin Classics)    Thomas Hobbes   \n",
       "3          A Pocket Full of Rye (Miss Marple)  Agatha Christie   \n",
       "4  LIFE 70 Years of Extraordinary Photography  Editors of Life   \n",
       "\n",
       "                   Edition  Reviews  Ratings  \\\n",
       "0  Paperback,- 10 Mar 2016      4.0        8   \n",
       "1   Paperback,- 7 Nov 2012      3.9       14   \n",
       "2  Paperback,- 25 Feb 1982      4.8        6   \n",
       "3   Paperback,- 5 Oct 2017      4.1       13   \n",
       "4  Hardcover,- 10 Oct 2006      5.0        1   \n",
       "\n",
       "                                            Synopsis  \\\n",
       "0  THE HUNTERS return in their third brilliant no...   \n",
       "1  A layered portrait of a troubled genius for wh...   \n",
       "2  \"During the time men live without a common Pow...   \n",
       "3  A handful of grain is found in the pocket of a...   \n",
       "4  For seven decades, \"Life\" has been thrilling t...   \n",
       "\n",
       "                          Genre                          BookCategory   Price  \\\n",
       "0    Action & Adventure (Books)                    Action & Adventure  220.00   \n",
       "1    Cinema & Broadcast (Books)  Biographies, Diaries & True Accounts  202.93   \n",
       "2       International Relations                                Humour  299.00   \n",
       "3  Contemporary Fiction (Books)             Crime, Thriller & Mystery  180.00   \n",
       "4         Photography Textbooks              Arts, Film & Photography  965.62   \n",
       "\n",
       "   CoverType EditionType  PublishYear  \n",
       "0  Paperback      Normal         2016  \n",
       "1  Paperback      Normal         2012  \n",
       "2  Paperback      Normal         1982  \n",
       "3  Paperback      Normal         2017  \n",
       "4  Hardcover      Normal         2006  "
      ]
     },
     "execution_count": 149,
     "metadata": {},
     "output_type": "execute_result"
    }
   ],
   "source": [
    "df3.head()\n",
    "# df3.describe()"
   ]
  },
  {
   "cell_type": "code",
   "execution_count": 162,
   "metadata": {},
   "outputs": [],
   "source": [
    "# temp = df3[\"Genre\"].value_counts() <10\n",
    "# genre = list(temp[temp == True].index)\n",
    "# genre"
   ]
  },
  {
   "cell_type": "code",
   "execution_count": 23,
   "metadata": {},
   "outputs": [
    {
     "data": {
      "text/plain": [
       "(7797, 60)"
      ]
     },
     "execution_count": 23,
     "metadata": {},
     "output_type": "execute_result"
    }
   ],
   "source": [
    "df4 = create_dumy(df3, [\"CoverType\", \"EditionType\", \"BookCategory\"])\n",
    "df4.shape"
   ]
  },
  {
   "cell_type": "code",
   "execution_count": 24,
   "metadata": {},
   "outputs": [
    {
     "data": {
      "text/plain": [
       "(7797, 55)"
      ]
     },
     "execution_count": 24,
     "metadata": {},
     "output_type": "execute_result"
    }
   ],
   "source": [
    "df5 = df4.drop([\"Title\", \"Author\", \"Edition\", \"Synopsis\", \"Genre\"], axis=1)\n",
    "df5.shape"
   ]
  },
  {
   "cell_type": "code",
   "execution_count": 25,
   "metadata": {},
   "outputs": [
    {
     "name": "stderr",
     "output_type": "stream",
     "text": [
      "C:\\ProgramData\\Anaconda3\\lib\\site-packages\\pandas\\core\\frame.py:3697: SettingWithCopyWarning: \n",
      "A value is trying to be set on a copy of a slice from a DataFrame\n",
      "\n",
      "See the caveats in the documentation: http://pandas.pydata.org/pandas-docs/stable/indexing.html#indexing-view-versus-copy\n",
      "  errors=errors)\n"
     ]
    }
   ],
   "source": [
    "train_df = df5.loc[df5[\"Price\"].isna() == False]\n",
    "test_df  = df5.loc[df5[\"Price\"].isna() == True]\n",
    "\n",
    "test_df.drop([\"Price\"], inplace=True, axis=1)\n",
    "\n",
    "X_train_df = train_df.drop([\"Price\"], axis=1)\n",
    "Y_train_df = train_df[\"Price\"]"
   ]
  },
  {
   "cell_type": "code",
   "execution_count": 26,
   "metadata": {},
   "outputs": [],
   "source": [
    "X_train, X_test, Y_train, Y_test = train_test_split(X_train_df, Y_train_df, test_size=0.20, random_state=42)"
   ]
  },
  {
   "cell_type": "code",
   "execution_count": 166,
   "metadata": {},
   "outputs": [],
   "source": [
    "lr = build_lin_model(X_train, Y_train)"
   ]
  },
  {
   "cell_type": "code",
   "execution_count": 183,
   "metadata": {},
   "outputs": [
    {
     "data": {
      "text/plain": [
       "607.1296835091974"
      ]
     },
     "execution_count": 183,
     "metadata": {},
     "output_type": "execute_result"
    }
   ],
   "source": [
    "rmse = predict_rmse(lr, X_test, Y_test)\n",
    "rmse"
   ]
  },
  {
   "cell_type": "code",
   "execution_count": 179,
   "metadata": {},
   "outputs": [],
   "source": [
    "pred = lr.predict(test_df).astype(int)"
   ]
  },
  {
   "cell_type": "code",
   "execution_count": 181,
   "metadata": {},
   "outputs": [
    {
     "name": "stdout",
     "output_type": "stream",
     "text": [
      "File Prediction_3.xlsx created\n"
     ]
    }
   ],
   "source": [
    "generate_prediction_excel(pred, [\"Price\"], \"Prediction_3.xlsx\")"
   ]
  },
  {
   "cell_type": "markdown",
   "metadata": {},
   "source": [
    "With Prediction_3.xlsx, the score came as 0.67513, earlier score was 0.67531.\n",
    "So it seems that the year being used as continuous variable did not help "
   ]
  },
  {
   "cell_type": "code",
   "execution_count": 186,
   "metadata": {},
   "outputs": [
    {
     "data": {
      "text/plain": [
       "LogisticRegression(C=1.0, class_weight=None, dual=False, fit_intercept=True,\n",
       "          intercept_scaling=1, max_iter=100, multi_class='ovr', n_jobs=1,\n",
       "          penalty='l2', random_state=None, solver='liblinear', tol=0.0001,\n",
       "          verbose=0, warm_start=False)"
      ]
     },
     "execution_count": 186,
     "metadata": {},
     "output_type": "execute_result"
    }
   ],
   "source": [
    "log_reg = LogisticRegression()\n",
    "log_reg.fit(X_train, (Y_train).astype(int))"
   ]
  },
  {
   "cell_type": "code",
   "execution_count": 188,
   "metadata": {},
   "outputs": [
    {
     "data": {
      "text/plain": [
       "677.1517164678714"
      ]
     },
     "execution_count": 188,
     "metadata": {},
     "output_type": "execute_result"
    }
   ],
   "source": [
    "rmse = predict_rmse(log_reg, X_test, (Y_test).astype(int))\n",
    "rmse"
   ]
  },
  {
   "cell_type": "code",
   "execution_count": 205,
   "metadata": {},
   "outputs": [
    {
     "data": {
      "text/plain": [
       "669.9649292390285"
      ]
     },
     "execution_count": 205,
     "metadata": {},
     "output_type": "execute_result"
    }
   ],
   "source": [
    "log_reg = LogisticRegression(random_state=42, max_iter=500, penalty='l2', solver='lbfgs')\n",
    "log_reg.fit(X_train, (Y_train).astype(int))\n",
    "rmse = predict_rmse(log_reg, X_test, (Y_test).astype(int))\n",
    "rmse"
   ]
  },
  {
   "cell_type": "code",
   "execution_count": 206,
   "metadata": {},
   "outputs": [
    {
     "name": "stdout",
     "output_type": "stream",
     "text": [
      "File Prediction_4.xlsx created\n"
     ]
    }
   ],
   "source": [
    "pred = log_reg.predict(test_df).astype(int)\n",
    "generate_prediction_excel(pred, [\"Price\"], \"Prediction_4.xlsx\")"
   ]
  },
  {
   "cell_type": "code",
   "execution_count": null,
   "metadata": {},
   "outputs": [],
   "source": []
  },
  {
   "cell_type": "markdown",
   "metadata": {},
   "source": [
    "0.66409"
   ]
  },
  {
   "cell_type": "code",
   "execution_count": 207,
   "metadata": {},
   "outputs": [],
   "source": [
    "train_sizes = [1, 100, 500, 1000, 2000, 3264]\n",
    "from sklearn.model_selection import learning_curve\n",
    "\n",
    "train_sizes, train_scores, validation_scores = learning_curve(\n",
    "estimator = LinearRegression(),\n",
    "X = X_train,\n",
    "y = (Y_train).astype(int), train_sizes = train_sizes, cv = 5,\n",
    "scoring = 'neg_mean_squared_error')"
   ]
  },
  {
   "cell_type": "code",
   "execution_count": 208,
   "metadata": {},
   "outputs": [
    {
     "name": "stdout",
     "output_type": "stream",
     "text": [
      "Mean training scores\n",
      "\n",
      " 1           -0.000000\n",
      "100     143246.325551\n",
      "500     364702.092241\n",
      "1000    366610.297881\n",
      "2000    365928.603368\n",
      "3264    374372.422788\n",
      "dtype: float64\n",
      "\n",
      " --------------------\n",
      "\n",
      "Mean validation scores\n",
      "\n",
      " 1       558400.174339\n",
      "100     479432.873098\n",
      "500     423165.263609\n",
      "1000    417358.205593\n",
      "2000    414948.744053\n",
      "3264    414793.110086\n",
      "dtype: float64\n"
     ]
    }
   ],
   "source": [
    "train_scores_mean = -train_scores.mean(axis = 1)\n",
    "validation_scores_mean = -validation_scores.mean(axis = 1)\n",
    "print('Mean training scores\\n\\n', pd.Series(train_scores_mean, index = train_sizes))\n",
    "print('\\n', '-' * 20) # separator\n",
    "print('\\nMean validation scores\\n\\n',pd.Series(validation_scores_mean, index = train_sizes))"
   ]
  },
  {
   "cell_type": "code",
   "execution_count": 209,
   "metadata": {},
   "outputs": [
    {
     "data": {
      "text/plain": [
       "<matplotlib.legend.Legend at 0x1afe37fb550>"
      ]
     },
     "execution_count": 209,
     "metadata": {},
     "output_type": "execute_result"
    },
    {
     "data": {
      "image/png": "[encoded data removed]",
      "text/plain": [
       "<Figure size 576x396 with 1 Axes>"
      ]
     },
     "metadata": {},
     "output_type": "display_data"
    }
   ],
   "source": [
    "plt.style.use('seaborn')\n",
    "plt.plot(train_sizes, train_scores_mean, label = 'Training error')\n",
    "plt.plot(train_sizes, validation_scores_mean, label = 'Validation error')\n",
    "plt.ylabel('MSE', fontsize = 14)\n",
    "plt.xlabel('Training set size', fontsize = 14)\n",
    "plt.title('Learning curves for a linear regression model', fontsize = 18, y = 1.03)\n",
    "plt.legend()"
   ]
  },
  {
   "cell_type": "code",
   "execution_count": 28,
   "metadata": {},
   "outputs": [],
   "source": []
  },
  {
   "cell_type": "code",
   "execution_count": 216,
   "metadata": {},
   "outputs": [],
   "source": [
    "xg_reg = xgb.XGBRegressor(objective ='reg:squarederror', colsample_bytree = 0.3, learning_rate = 0.1,\n",
    "                max_depth = 5, alpha = 10, n_estimators = 10)"
   ]
  },
  {
   "cell_type": "code",
   "execution_count": 217,
   "metadata": {},
   "outputs": [
    {
     "name": "stderr",
     "output_type": "stream",
     "text": [
      "C:\\ProgramData\\Anaconda3\\lib\\site-packages\\xgboost\\core.py:587: FutureWarning: Series.base is deprecated and will be removed in a future version\n",
      "  if getattr(data, 'base', None) is not None and \\\n"
     ]
    },
    {
     "data": {
      "text/plain": [
       "XGBRegressor(alpha=10, base_score=0.5, booster='gbtree', colsample_bylevel=1,\n",
       "       colsample_bynode=1, colsample_bytree=0.3, gamma=0,\n",
       "       importance_type='gain', learning_rate=0.1, max_delta_step=0,\n",
       "       max_depth=5, min_child_weight=1, missing=None, n_estimators=10,\n",
       "       n_jobs=1, nthread=None, objective='reg:squarederror',\n",
       "       random_state=0, reg_alpha=0, reg_lambda=1, scale_pos_weight=1,\n",
       "       seed=None, silent=None, subsample=1, verbosity=1)"
      ]
     },
     "execution_count": 217,
     "metadata": {},
     "output_type": "execute_result"
    }
   ],
   "source": [
    "xg_reg.fit(X_train,Y_train)"
   ]
  },
  {
   "cell_type": "code",
   "execution_count": 218,
   "metadata": {},
   "outputs": [],
   "source": [
    "preds = xg_reg.predict(X_test)"
   ]
  },
  {
   "cell_type": "code",
   "execution_count": 219,
   "metadata": {},
   "outputs": [
    {
     "data": {
      "text/plain": [
       "658.2613369123386"
      ]
     },
     "execution_count": 219,
     "metadata": {},
     "output_type": "execute_result"
    }
   ],
   "source": [
    "sqrt(mean_squared_error(Y_test, preds))"
   ]
  },
  {
   "cell_type": "code",
   "execution_count": 220,
   "metadata": {},
   "outputs": [],
   "source": [
    "preds = xg_reg.predict(test_df)"
   ]
  },
  {
   "cell_type": "code",
   "execution_count": 221,
   "metadata": {},
   "outputs": [
    {
     "name": "stdout",
     "output_type": "stream",
     "text": [
      "File Prediction_5.xlsx created\n"
     ]
    }
   ],
   "source": [
    "generate_prediction_excel(preds, [\"Price\"], \"Prediction_5.xlsx\")"
   ]
  },
  {
   "cell_type": "markdown",
   "metadata": {},
   "source": [
    "With XGBoost I am able to achieve score - 0.70798"
   ]
  },
  {
   "cell_type": "code",
   "execution_count": 27,
   "metadata": {
    "scrolled": true
   },
   "outputs": [],
   "source": [
    "xg_reg = xgb.XGBRegressor(objective ='reg:squarederror', colsample_bytree = 0.3, learning_rate = 0.1,\n",
    "                max_depth = 5, alpha = 10, n_estimators = 10)\n",
    "linear_reg = LinearRegression()\n",
    "logistic_reg = LogisticRegression(random_state=42, max_iter=500, penalty='l2', solver='lbfgs')"
   ]
  },
  {
   "cell_type": "code",
   "execution_count": 28,
   "metadata": {},
   "outputs": [
    {
     "data": {
      "text/html": [
       "<div>\n",
       "<style scoped>\n",
       "    .dataframe tbody tr th:only-of-type {\n",
       "        vertical-align: middle;\n",
       "    }\n",
       "\n",
       "    .dataframe tbody tr th {\n",
       "        vertical-align: top;\n",
       "    }\n",
       "\n",
       "    .dataframe thead th {\n",
       "        text-align: right;\n",
       "    }\n",
       "</style>\n",
       "<table border=\"1\" class=\"dataframe\">\n",
       "  <thead>\n",
       "    <tr style=\"text-align: right;\">\n",
       "      <th></th>\n",
       "      <th>linear_reg</th>\n",
       "      <th>logistic_reg</th>\n",
       "      <th>xg_reg</th>\n",
       "    </tr>\n",
       "  </thead>\n",
       "  <tbody>\n",
       "    <tr>\n",
       "      <th>0</th>\n",
       "      <td>0.0</td>\n",
       "      <td>0.0</td>\n",
       "      <td>0.0</td>\n",
       "    </tr>\n",
       "    <tr>\n",
       "      <th>1</th>\n",
       "      <td>0.0</td>\n",
       "      <td>0.0</td>\n",
       "      <td>0.0</td>\n",
       "    </tr>\n",
       "    <tr>\n",
       "      <th>2</th>\n",
       "      <td>0.0</td>\n",
       "      <td>0.0</td>\n",
       "      <td>0.0</td>\n",
       "    </tr>\n",
       "    <tr>\n",
       "      <th>3</th>\n",
       "      <td>0.0</td>\n",
       "      <td>0.0</td>\n",
       "      <td>0.0</td>\n",
       "    </tr>\n",
       "    <tr>\n",
       "      <th>4</th>\n",
       "      <td>0.0</td>\n",
       "      <td>0.0</td>\n",
       "      <td>0.0</td>\n",
       "    </tr>\n",
       "  </tbody>\n",
       "</table>\n",
       "</div>"
      ],
      "text/plain": [
       "   linear_reg  logistic_reg  xg_reg\n",
       "0         0.0           0.0     0.0\n",
       "1         0.0           0.0     0.0\n",
       "2         0.0           0.0     0.0\n",
       "3         0.0           0.0     0.0\n",
       "4         0.0           0.0     0.0"
      ]
     },
     "execution_count": 28,
     "metadata": {},
     "output_type": "execute_result"
    }
   ],
   "source": [
    "intermediate_data_df = pd.DataFrame({'linear_reg':np.zeros(X_train_df.shape[0]),\n",
    "                                    'logistic_reg':np.zeros(X_train_df.shape[0]),\n",
    "                                    'xg_reg':np.zeros(X_train_df.shape[0])})\n",
    "intermediate_data_df.head()"
   ]
  },
  {
   "cell_type": "code",
   "execution_count": 31,
   "metadata": {},
   "outputs": [],
   "source": [
    "from sklearn.model_selection import KFold\n",
    "kfold_partitions = KFold(n_splits=3)\n",
    "    "
   ]
  },
  {
   "cell_type": "code",
   "execution_count": 30,
   "metadata": {},
   "outputs": [
    {
     "name": "stdout",
     "output_type": "stream",
     "text": [
      "LinearRegression(copy_X=True, fit_intercept=True, n_jobs=1, normalize=False)\n",
      "Fold number: 1\n",
      "algo_number: 0\n",
      "LogisticRegression(C=1.0, class_weight=None, dual=False, fit_intercept=True,\n",
      "          intercept_scaling=1, max_iter=500, multi_class='ovr', n_jobs=1,\n",
      "          penalty='l2', random_state=42, solver='lbfgs', tol=0.0001,\n",
      "          verbose=0, warm_start=False)\n",
      "Fold number: 1\n",
      "algo_number: 1\n",
      "XGBRegressor(alpha=10, base_score=0.5, booster='gbtree', colsample_bylevel=1,\n",
      "       colsample_bynode=1, colsample_bytree=0.3, gamma=0,\n",
      "       importance_type='gain', learning_rate=0.1, max_delta_step=0,\n",
      "       max_depth=5, min_child_weight=1, missing=None, n_estimators=10,\n",
      "       n_jobs=1, nthread=None, objective='reg:squarederror',\n",
      "       random_state=0, reg_alpha=0, reg_lambda=1, scale_pos_weight=1,\n",
      "       seed=None, silent=None, subsample=1, verbosity=1)\n",
      "Fold number: 1\n",
      "algo_number: 2\n",
      "LinearRegression(copy_X=True, fit_intercept=True, n_jobs=1, normalize=False)\n",
      "Fold number: 2\n",
      "algo_number: 0\n",
      "LogisticRegression(C=1.0, class_weight=None, dual=False, fit_intercept=True,\n",
      "          intercept_scaling=1, max_iter=500, multi_class='ovr', n_jobs=1,\n",
      "          penalty='l2', random_state=42, solver='lbfgs', tol=0.0001,\n",
      "          verbose=0, warm_start=False)\n",
      "Fold number: 2\n",
      "algo_number: 1\n"
     ]
    },
    {
     "name": "stderr",
     "output_type": "stream",
     "text": [
      "C:\\ProgramData\\Anaconda3\\lib\\site-packages\\xgboost\\core.py:587: FutureWarning: Series.base is deprecated and will be removed in a future version\n",
      "  if getattr(data, 'base', None) is not None and \\\n",
      "C:\\ProgramData\\Anaconda3\\lib\\site-packages\\xgboost\\core.py:588: FutureWarning: Series.base is deprecated and will be removed in a future version\n",
      "  data.base is not None and isinstance(data, np.ndarray) \\\n"
     ]
    },
    {
     "name": "stdout",
     "output_type": "stream",
     "text": [
      "XGBRegressor(alpha=10, base_score=0.5, booster='gbtree', colsample_bylevel=1,\n",
      "       colsample_bynode=1, colsample_bytree=0.3, gamma=0,\n",
      "       importance_type='gain', learning_rate=0.1, max_delta_step=0,\n",
      "       max_depth=5, min_child_weight=1, missing=None, n_estimators=10,\n",
      "       n_jobs=1, nthread=None, objective='reg:squarederror',\n",
      "       random_state=0, reg_alpha=0, reg_lambda=1, scale_pos_weight=1,\n",
      "       seed=None, silent=None, subsample=1, verbosity=1)\n",
      "Fold number: 2\n",
      "algo_number: 2\n",
      "LinearRegression(copy_X=True, fit_intercept=True, n_jobs=1, normalize=False)\n",
      "Fold number: 3\n",
      "algo_number: 0\n",
      "LogisticRegression(C=1.0, class_weight=None, dual=False, fit_intercept=True,\n",
      "          intercept_scaling=1, max_iter=500, multi_class='ovr', n_jobs=1,\n",
      "          penalty='l2', random_state=42, solver='lbfgs', tol=0.0001,\n",
      "          verbose=0, warm_start=False)\n",
      "Fold number: 3\n",
      "algo_number: 1\n"
     ]
    },
    {
     "name": "stderr",
     "output_type": "stream",
     "text": [
      "C:\\ProgramData\\Anaconda3\\lib\\site-packages\\xgboost\\core.py:587: FutureWarning: Series.base is deprecated and will be removed in a future version\n",
      "  if getattr(data, 'base', None) is not None and \\\n",
      "C:\\ProgramData\\Anaconda3\\lib\\site-packages\\xgboost\\core.py:588: FutureWarning: Series.base is deprecated and will be removed in a future version\n",
      "  data.base is not None and isinstance(data, np.ndarray) \\\n"
     ]
    },
    {
     "name": "stdout",
     "output_type": "stream",
     "text": [
      "XGBRegressor(alpha=10, base_score=0.5, booster='gbtree', colsample_bylevel=1,\n",
      "       colsample_bynode=1, colsample_bytree=0.3, gamma=0,\n",
      "       importance_type='gain', learning_rate=0.1, max_delta_step=0,\n",
      "       max_depth=5, min_child_weight=1, missing=None, n_estimators=10,\n",
      "       n_jobs=1, nthread=None, objective='reg:squarederror',\n",
      "       random_state=0, reg_alpha=0, reg_lambda=1, scale_pos_weight=1,\n",
      "       seed=None, silent=None, subsample=1, verbosity=1)\n",
      "Fold number: 3\n",
      "algo_number: 2\n",
      "LinearRegression(copy_X=True, fit_intercept=True, n_jobs=1, normalize=False)\n",
      "Fold number: 4\n",
      "algo_number: 0\n",
      "LogisticRegression(C=1.0, class_weight=None, dual=False, fit_intercept=True,\n",
      "          intercept_scaling=1, max_iter=500, multi_class='ovr', n_jobs=1,\n",
      "          penalty='l2', random_state=42, solver='lbfgs', tol=0.0001,\n",
      "          verbose=0, warm_start=False)\n",
      "Fold number: 4\n",
      "algo_number: 1\n"
     ]
    },
    {
     "name": "stderr",
     "output_type": "stream",
     "text": [
      "C:\\ProgramData\\Anaconda3\\lib\\site-packages\\xgboost\\core.py:587: FutureWarning: Series.base is deprecated and will be removed in a future version\n",
      "  if getattr(data, 'base', None) is not None and \\\n",
      "C:\\ProgramData\\Anaconda3\\lib\\site-packages\\xgboost\\core.py:588: FutureWarning: Series.base is deprecated and will be removed in a future version\n",
      "  data.base is not None and isinstance(data, np.ndarray) \\\n"
     ]
    },
    {
     "name": "stdout",
     "output_type": "stream",
     "text": [
      "XGBRegressor(alpha=10, base_score=0.5, booster='gbtree', colsample_bylevel=1,\n",
      "       colsample_bynode=1, colsample_bytree=0.3, gamma=0,\n",
      "       importance_type='gain', learning_rate=0.1, max_delta_step=0,\n",
      "       max_depth=5, min_child_weight=1, missing=None, n_estimators=10,\n",
      "       n_jobs=1, nthread=None, objective='reg:squarederror',\n",
      "       random_state=0, reg_alpha=0, reg_lambda=1, scale_pos_weight=1,\n",
      "       seed=None, silent=None, subsample=1, verbosity=1)\n",
      "Fold number: 4\n",
      "algo_number: 2\n",
      "LinearRegression(copy_X=True, fit_intercept=True, n_jobs=1, normalize=False)\n",
      "Fold number: 5\n",
      "algo_number: 0\n",
      "LogisticRegression(C=1.0, class_weight=None, dual=False, fit_intercept=True,\n",
      "          intercept_scaling=1, max_iter=500, multi_class='ovr', n_jobs=1,\n",
      "          penalty='l2', random_state=42, solver='lbfgs', tol=0.0001,\n",
      "          verbose=0, warm_start=False)\n",
      "Fold number: 5\n",
      "algo_number: 1\n"
     ]
    },
    {
     "name": "stderr",
     "output_type": "stream",
     "text": [
      "C:\\ProgramData\\Anaconda3\\lib\\site-packages\\xgboost\\core.py:587: FutureWarning: Series.base is deprecated and will be removed in a future version\n",
      "  if getattr(data, 'base', None) is not None and \\\n",
      "C:\\ProgramData\\Anaconda3\\lib\\site-packages\\xgboost\\core.py:588: FutureWarning: Series.base is deprecated and will be removed in a future version\n",
      "  data.base is not None and isinstance(data, np.ndarray) \\\n"
     ]
    },
    {
     "name": "stdout",
     "output_type": "stream",
     "text": [
      "XGBRegressor(alpha=10, base_score=0.5, booster='gbtree', colsample_bylevel=1,\n",
      "       colsample_bynode=1, colsample_bytree=0.3, gamma=0,\n",
      "       importance_type='gain', learning_rate=0.1, max_delta_step=0,\n",
      "       max_depth=5, min_child_weight=1, missing=None, n_estimators=10,\n",
      "       n_jobs=1, nthread=None, objective='reg:squarederror',\n",
      "       random_state=0, reg_alpha=0, reg_lambda=1, scale_pos_weight=1,\n",
      "       seed=None, silent=None, subsample=1, verbosity=1)\n",
      "Fold number: 5\n",
      "algo_number: 2\n"
     ]
    },
    {
     "name": "stderr",
     "output_type": "stream",
     "text": [
      "C:\\ProgramData\\Anaconda3\\lib\\site-packages\\xgboost\\core.py:587: FutureWarning: Series.base is deprecated and will be removed in a future version\n",
      "  if getattr(data, 'base', None) is not None and \\\n",
      "C:\\ProgramData\\Anaconda3\\lib\\site-packages\\xgboost\\core.py:588: FutureWarning: Series.base is deprecated and will be removed in a future version\n",
      "  data.base is not None and isinstance(data, np.ndarray) \\\n"
     ]
    }
   ],
   "source": [
    "fold_number = 1\n",
    "for train,test_part in kfold_partitions.split(X_train_df):\n",
    "    column_number = 0\n",
    "    for algo in [linear_reg, logistic_reg, xg_reg]:\n",
    "        print(algo)\n",
    "        print(\"Fold number: \" + str(fold_number))\n",
    "        print(\"algo_number: \" + str(column_number))\n",
    "        new_train_X = X_train_df.iloc[train]\n",
    "        new_train_Y = Y_train_df.iloc[train]\n",
    "        \n",
    "        new_test_X = X_train_df.iloc[test_part]\n",
    "        new_test_Y = Y_train_df.iloc[test_part]\n",
    "        \n",
    "        algo.fit(new_train_X,new_train_Y.astype(int))\n",
    "        algo_pred = algo.predict(new_test_X)\n",
    "        \n",
    "        intermediate_data_df.iloc[test_part,column_number] = algo_pred\n",
    "        column_number = column_number+1\n",
    "    \n",
    "    \n",
    "    fold_number = fold_number+ 1"
   ]
  },
  {
   "cell_type": "code",
   "execution_count": 33,
   "metadata": {},
   "outputs": [
    {
     "data": {
      "text/html": [
       "<div>\n",
       "<style scoped>\n",
       "    .dataframe tbody tr th:only-of-type {\n",
       "        vertical-align: middle;\n",
       "    }\n",
       "\n",
       "    .dataframe tbody tr th {\n",
       "        vertical-align: top;\n",
       "    }\n",
       "\n",
       "    .dataframe thead th {\n",
       "        text-align: right;\n",
       "    }\n",
       "</style>\n",
       "<table border=\"1\" class=\"dataframe\">\n",
       "  <thead>\n",
       "    <tr style=\"text-align: right;\">\n",
       "      <th></th>\n",
       "      <th>linear_reg</th>\n",
       "      <th>logistic_reg</th>\n",
       "      <th>xg_reg</th>\n",
       "    </tr>\n",
       "  </thead>\n",
       "  <tbody>\n",
       "    <tr>\n",
       "      <th>0</th>\n",
       "      <td>307.524435</td>\n",
       "      <td>399.0</td>\n",
       "      <td>297.567627</td>\n",
       "    </tr>\n",
       "    <tr>\n",
       "      <th>1</th>\n",
       "      <td>230.322971</td>\n",
       "      <td>399.0</td>\n",
       "      <td>293.991089</td>\n",
       "    </tr>\n",
       "    <tr>\n",
       "      <th>2</th>\n",
       "      <td>711.294277</td>\n",
       "      <td>449.0</td>\n",
       "      <td>361.648071</td>\n",
       "    </tr>\n",
       "    <tr>\n",
       "      <th>3</th>\n",
       "      <td>292.578952</td>\n",
       "      <td>299.0</td>\n",
       "      <td>263.681763</td>\n",
       "    </tr>\n",
       "    <tr>\n",
       "      <th>4</th>\n",
       "      <td>1279.950464</td>\n",
       "      <td>484.0</td>\n",
       "      <td>662.134949</td>\n",
       "    </tr>\n",
       "  </tbody>\n",
       "</table>\n",
       "</div>"
      ],
      "text/plain": [
       "    linear_reg  logistic_reg      xg_reg\n",
       "0   307.524435         399.0  297.567627\n",
       "1   230.322971         399.0  293.991089\n",
       "2   711.294277         449.0  361.648071\n",
       "3   292.578952         299.0  263.681763\n",
       "4  1279.950464         484.0  662.134949"
      ]
     },
     "execution_count": 33,
     "metadata": {},
     "output_type": "execute_result"
    }
   ],
   "source": [
    "intermediate_data_df.head()"
   ]
  },
  {
   "cell_type": "code",
   "execution_count": 34,
   "metadata": {},
   "outputs": [],
   "source": [
    "new_x_variables = intermediate_data_df.copy()"
   ]
  },
  {
   "cell_type": "code",
   "execution_count": 35,
   "metadata": {},
   "outputs": [
    {
     "data": {
      "text/plain": [
       "LinearRegression(copy_X=True, fit_intercept=True, n_jobs=1, normalize=False)"
      ]
     },
     "execution_count": 35,
     "metadata": {},
     "output_type": "execute_result"
    }
   ],
   "source": [
    "new_linear_reg = LinearRegression()\n",
    "new_linear_reg.fit(new_x_variables,Y_train_df)"
   ]
  },
  {
   "cell_type": "code",
   "execution_count": 36,
   "metadata": {},
   "outputs": [
    {
     "data": {
      "text/plain": [
       "array([0.3794523 , 0.20724515, 1.76063394])"
      ]
     },
     "execution_count": 36,
     "metadata": {},
     "output_type": "execute_result"
    }
   ],
   "source": [
    "new_linear_reg.coef_"
   ]
  },
  {
   "cell_type": "code",
   "execution_count": 47,
   "metadata": {},
   "outputs": [],
   "source": [
    "Y_predict_testprob_linr1 = linear_reg.predict(test_df)\n",
    "Y_predict_testprob_logr1 = logistic_reg.predict(test_df)\n",
    "Y_predict_testprob_xgb1 = xg_reg.predict(test_df)"
   ]
  },
  {
   "cell_type": "code",
   "execution_count": 48,
   "metadata": {},
   "outputs": [],
   "source": [
    "test_input_x_var = pd.DataFrame({'linear_reg': Y_predict_testprob_linr1,\n",
    "                                 'logistic_reg': Y_predict_testprob_logr1,\n",
    "                                 'xg_reg': Y_predict_testprob_xgb1})"
   ]
  },
  {
   "cell_type": "code",
   "execution_count": 49,
   "metadata": {},
   "outputs": [],
   "source": [
    "Y_pred_fina_testprob_ensemble = new_linear_reg.predict(test_input_x_var)"
   ]
  },
  {
   "cell_type": "code",
   "execution_count": 51,
   "metadata": {},
   "outputs": [
    {
     "data": {
      "text/plain": [
       "1560"
      ]
     },
     "execution_count": 51,
     "metadata": {},
     "output_type": "execute_result"
    }
   ],
   "source": [
    "len(Y_pred_fina_testprob_ensemble)"
   ]
  },
  {
   "cell_type": "code",
   "execution_count": 41,
   "metadata": {},
   "outputs": [],
   "source": [
    "train_sizes = [1, 100, 500, 1000, 2000, 3264]\n",
    "from sklearn.model_selection import learning_curve\n",
    "\n",
    "train_sizes, train_scores, validation_scores = learning_curve(\n",
    "estimator = LinearRegression(),\n",
    "X = new_x_variables,\n",
    "y = (Y_train_df).astype(int), train_sizes = train_sizes, cv = 5,\n",
    "scoring = 'neg_mean_squared_error')"
   ]
  },
  {
   "cell_type": "code",
   "execution_count": 42,
   "metadata": {},
   "outputs": [
    {
     "name": "stdout",
     "output_type": "stream",
     "text": [
      "Mean training scores\n",
      "\n",
      " 1           -0.000000\n",
      "100     197312.382019\n",
      "500     248788.593310\n",
      "1000    356166.036135\n",
      "2000    355538.258521\n",
      "3264    404737.762983\n",
      "dtype: float64\n",
      "\n",
      " --------------------\n",
      "\n",
      "Mean validation scores\n",
      "\n",
      " 1       595594.875034\n",
      "100     432549.335910\n",
      "500     395797.041878\n",
      "1000    396129.927034\n",
      "2000    394398.751034\n",
      "3264    394485.520532\n",
      "dtype: float64\n"
     ]
    }
   ],
   "source": [
    "train_scores_mean = -train_scores.mean(axis = 1)\n",
    "validation_scores_mean = -validation_scores.mean(axis = 1)\n",
    "print('Mean training scores\\n\\n', pd.Series(train_scores_mean, index = train_sizes))\n",
    "print('\\n', '-' * 20) # separator\n",
    "print('\\nMean validation scores\\n\\n',pd.Series(validation_scores_mean, index = train_sizes))"
   ]
  },
  {
   "cell_type": "code",
   "execution_count": 43,
   "metadata": {},
   "outputs": [
    {
     "data": {
      "text/plain": [
       "<matplotlib.legend.Legend at 0x1a9f8f038d0>"
      ]
     },
     "execution_count": 43,
     "metadata": {},
     "output_type": "execute_result"
    },
    {
     "data": {
      "image/png": "[encoded data removed]",
      "text/plain": [
       "<Figure size 576x396 with 1 Axes>"
      ]
     },
     "metadata": {},
     "output_type": "display_data"
    }
   ],
   "source": [
    "plt.style.use('seaborn')\n",
    "plt.plot(train_sizes, train_scores_mean, label = 'Training error')\n",
    "plt.plot(train_sizes, validation_scores_mean, label = 'Validation error')\n",
    "plt.ylabel('MSE', fontsize = 14)\n",
    "plt.xlabel('Training set size', fontsize = 14)\n",
    "plt.title('Learning curves for a linear regression model', fontsize = 18, y = 1.03)\n",
    "plt.legend()"
   ]
  },
  {
   "cell_type": "code",
   "execution_count": 52,
   "metadata": {},
   "outputs": [
    {
     "name": "stdout",
     "output_type": "stream",
     "text": [
      "File Prediction_6.xlsx created\n"
     ]
    }
   ],
   "source": [
    "generate_prediction_excel(Y_pred_fina_testprob_ensemble, [\"Price\"], \"Prediction_6.xlsx\")"
   ]
  },
  {
   "cell_type": "code",
   "execution_count": 46,
   "metadata": {},
   "outputs": [
    {
     "data": {
      "text/plain": [
       "(1248, 3)"
      ]
     },
     "execution_count": 46,
     "metadata": {},
     "output_type": "execute_result"
    }
   ],
   "source": [
    "len(Y_pred_fina_testprob_ensemble)\n",
    "test_input_x_var.shape"
   ]
  }
 ],
 "metadata": {
  "kernelspec": {
   "display_name": "Python 3",
   "language": "python",
   "name": "python3"
  },
  "language_info": {
   "codemirror_mode": {
    "name": "ipython",
    "version": 3
   },
   "file_extension": ".py",
   "mimetype": "text/x-python",
   "name": "python",
   "nbconvert_exporter": "python",
   "pygments_lexer": "ipython3",
   "version": "3.7.0"
  }
 },
 "nbformat": 4,
 "nbformat_minor": 2
}
